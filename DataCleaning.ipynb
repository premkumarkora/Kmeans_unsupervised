{
  "nbformat": 4,
  "nbformat_minor": 0,
  "metadata": {
    "colab": {
      "provenance": [],
      "include_colab_link": true
    },
    "kernelspec": {
      "name": "python3",
      "display_name": "Python 3"
    },
    "language_info": {
      "name": "python"
    }
  },
  "cells": [
    {
      "cell_type": "markdown",
      "metadata": {
        "id": "view-in-github",
        "colab_type": "text"
      },
      "source": [
        "<a href=\"https://colab.research.google.com/github/premkumarkora/Unsupervised_ML/blob/main/DataCleaning.ipynb\" target=\"_parent\"><img src=\"https://colab.research.google.com/assets/colab-badge.svg\" alt=\"Open In Colab\"/></a>"
      ]
    },
    {
      "cell_type": "code",
      "metadata": {
        "id": "6mAL4_oKnqe2"
      },
      "source": [
        "import pandas as pd"
      ],
      "execution_count": null,
      "outputs": []
    },
    {
      "cell_type": "code",
      "metadata": {
        "colab": {
          "base_uri": "https://localhost:8080/"
        },
        "id": "Br9mzm2Dnxsx",
        "outputId": "1c62ff07-f1b4-4e76-e4d9-119246c1f7a6"
      },
      "source": [
        "data = pd.read_csv(\"movies_metadata.csv\")"
      ],
      "execution_count": null,
      "outputs": [
        {
          "output_type": "stream",
          "name": "stderr",
          "text": [
            "/usr/local/lib/python3.8/dist-packages/IPython/core/interactiveshell.py:3326: DtypeWarning: Columns (10) have mixed types.Specify dtype option on import or set low_memory=False.\n",
            "  exec(code_obj, self.user_global_ns, self.user_ns)\n"
          ]
        }
      ]
    },
    {
      "cell_type": "code",
      "metadata": {
        "colab": {
          "base_uri": "https://localhost:8080/"
        },
        "id": "T_ImB2GuMohZ",
        "outputId": "31d54cdb-2445-4e44-f2a7-465a8104d27c"
      },
      "source": [
        "data.shape"
      ],
      "execution_count": null,
      "outputs": [
        {
          "output_type": "execute_result",
          "data": {
            "text/plain": [
              "(45466, 24)"
            ]
          },
          "metadata": {},
          "execution_count": 3
        }
      ]
    },
    {
      "cell_type": "code",
      "metadata": {
        "colab": {
          "base_uri": "https://localhost:8080/",
          "height": 751
        },
        "id": "Pv--rEAaS1Sj",
        "outputId": "71fb0945-f6ba-45a9-ae0a-c1b4157e2674"
      },
      "source": [
        "data.head()"
      ],
      "execution_count": null,
      "outputs": [
        {
          "output_type": "execute_result",
          "data": {
            "text/plain": [
              "   adult                              belongs_to_collection    budget  \\\n",
              "0  False  {'id': 10194, 'name': 'Toy Story Collection', ...  30000000   \n",
              "1  False                                                NaN  65000000   \n",
              "2  False  {'id': 119050, 'name': 'Grumpy Old Men Collect...         0   \n",
              "3  False                                                NaN  16000000   \n",
              "4  False  {'id': 96871, 'name': 'Father of the Bride Col...         0   \n",
              "\n",
              "                                              genres  \\\n",
              "0  [{'id': 16, 'name': 'Animation'}, {'id': 35, '...   \n",
              "1  [{'id': 12, 'name': 'Adventure'}, {'id': 14, '...   \n",
              "2  [{'id': 10749, 'name': 'Romance'}, {'id': 35, ...   \n",
              "3  [{'id': 35, 'name': 'Comedy'}, {'id': 18, 'nam...   \n",
              "4                     [{'id': 35, 'name': 'Comedy'}]   \n",
              "\n",
              "                               homepage     id    imdb_id original_language  \\\n",
              "0  http://toystory.disney.com/toy-story    862  tt0114709                en   \n",
              "1                                   NaN   8844  tt0113497                en   \n",
              "2                                   NaN  15602  tt0113228                en   \n",
              "3                                   NaN  31357  tt0114885                en   \n",
              "4                                   NaN  11862  tt0113041                en   \n",
              "\n",
              "                original_title  \\\n",
              "0                    Toy Story   \n",
              "1                      Jumanji   \n",
              "2             Grumpier Old Men   \n",
              "3            Waiting to Exhale   \n",
              "4  Father of the Bride Part II   \n",
              "\n",
              "                                            overview  ... release_date  \\\n",
              "0  Led by Woody, Andy's toys live happily in his ...  ...   1995-10-30   \n",
              "1  When siblings Judy and Peter discover an encha...  ...   1995-12-15   \n",
              "2  A family wedding reignites the ancient feud be...  ...   1995-12-22   \n",
              "3  Cheated on, mistreated and stepped on, the wom...  ...   1995-12-22   \n",
              "4  Just when George Banks has recovered from his ...  ...   1995-02-10   \n",
              "\n",
              "       revenue runtime                                   spoken_languages  \\\n",
              "0  373554033.0    81.0           [{'iso_639_1': 'en', 'name': 'English'}]   \n",
              "1  262797249.0   104.0  [{'iso_639_1': 'en', 'name': 'English'}, {'iso...   \n",
              "2          0.0   101.0           [{'iso_639_1': 'en', 'name': 'English'}]   \n",
              "3   81452156.0   127.0           [{'iso_639_1': 'en', 'name': 'English'}]   \n",
              "4   76578911.0   106.0           [{'iso_639_1': 'en', 'name': 'English'}]   \n",
              "\n",
              "     status                                            tagline  \\\n",
              "0  Released                                                NaN   \n",
              "1  Released          Roll the dice and unleash the excitement!   \n",
              "2  Released  Still Yelling. Still Fighting. Still Ready for...   \n",
              "3  Released  Friends are the people who let you be yourself...   \n",
              "4  Released  Just When His World Is Back To Normal... He's ...   \n",
              "\n",
              "                         title  video vote_average vote_count  \n",
              "0                    Toy Story  False          7.7     5415.0  \n",
              "1                      Jumanji  False          6.9     2413.0  \n",
              "2             Grumpier Old Men  False          6.5       92.0  \n",
              "3            Waiting to Exhale  False          6.1       34.0  \n",
              "4  Father of the Bride Part II  False          5.7      173.0  \n",
              "\n",
              "[5 rows x 24 columns]"
            ],
            "text/html": [
              "\n",
              "  <div id=\"df-ad15bcf7-6829-4d4d-948a-37077ef0f171\">\n",
              "    <div class=\"colab-df-container\">\n",
              "      <div>\n",
              "<style scoped>\n",
              "    .dataframe tbody tr th:only-of-type {\n",
              "        vertical-align: middle;\n",
              "    }\n",
              "\n",
              "    .dataframe tbody tr th {\n",
              "        vertical-align: top;\n",
              "    }\n",
              "\n",
              "    .dataframe thead th {\n",
              "        text-align: right;\n",
              "    }\n",
              "</style>\n",
              "<table border=\"1\" class=\"dataframe\">\n",
              "  <thead>\n",
              "    <tr style=\"text-align: right;\">\n",
              "      <th></th>\n",
              "      <th>adult</th>\n",
              "      <th>belongs_to_collection</th>\n",
              "      <th>budget</th>\n",
              "      <th>genres</th>\n",
              "      <th>homepage</th>\n",
              "      <th>id</th>\n",
              "      <th>imdb_id</th>\n",
              "      <th>original_language</th>\n",
              "      <th>original_title</th>\n",
              "      <th>overview</th>\n",
              "      <th>...</th>\n",
              "      <th>release_date</th>\n",
              "      <th>revenue</th>\n",
              "      <th>runtime</th>\n",
              "      <th>spoken_languages</th>\n",
              "      <th>status</th>\n",
              "      <th>tagline</th>\n",
              "      <th>title</th>\n",
              "      <th>video</th>\n",
              "      <th>vote_average</th>\n",
              "      <th>vote_count</th>\n",
              "    </tr>\n",
              "  </thead>\n",
              "  <tbody>\n",
              "    <tr>\n",
              "      <th>0</th>\n",
              "      <td>False</td>\n",
              "      <td>{'id': 10194, 'name': 'Toy Story Collection', ...</td>\n",
              "      <td>30000000</td>\n",
              "      <td>[{'id': 16, 'name': 'Animation'}, {'id': 35, '...</td>\n",
              "      <td>http://toystory.disney.com/toy-story</td>\n",
              "      <td>862</td>\n",
              "      <td>tt0114709</td>\n",
              "      <td>en</td>\n",
              "      <td>Toy Story</td>\n",
              "      <td>Led by Woody, Andy's toys live happily in his ...</td>\n",
              "      <td>...</td>\n",
              "      <td>1995-10-30</td>\n",
              "      <td>373554033.0</td>\n",
              "      <td>81.0</td>\n",
              "      <td>[{'iso_639_1': 'en', 'name': 'English'}]</td>\n",
              "      <td>Released</td>\n",
              "      <td>NaN</td>\n",
              "      <td>Toy Story</td>\n",
              "      <td>False</td>\n",
              "      <td>7.7</td>\n",
              "      <td>5415.0</td>\n",
              "    </tr>\n",
              "    <tr>\n",
              "      <th>1</th>\n",
              "      <td>False</td>\n",
              "      <td>NaN</td>\n",
              "      <td>65000000</td>\n",
              "      <td>[{'id': 12, 'name': 'Adventure'}, {'id': 14, '...</td>\n",
              "      <td>NaN</td>\n",
              "      <td>8844</td>\n",
              "      <td>tt0113497</td>\n",
              "      <td>en</td>\n",
              "      <td>Jumanji</td>\n",
              "      <td>When siblings Judy and Peter discover an encha...</td>\n",
              "      <td>...</td>\n",
              "      <td>1995-12-15</td>\n",
              "      <td>262797249.0</td>\n",
              "      <td>104.0</td>\n",
              "      <td>[{'iso_639_1': 'en', 'name': 'English'}, {'iso...</td>\n",
              "      <td>Released</td>\n",
              "      <td>Roll the dice and unleash the excitement!</td>\n",
              "      <td>Jumanji</td>\n",
              "      <td>False</td>\n",
              "      <td>6.9</td>\n",
              "      <td>2413.0</td>\n",
              "    </tr>\n",
              "    <tr>\n",
              "      <th>2</th>\n",
              "      <td>False</td>\n",
              "      <td>{'id': 119050, 'name': 'Grumpy Old Men Collect...</td>\n",
              "      <td>0</td>\n",
              "      <td>[{'id': 10749, 'name': 'Romance'}, {'id': 35, ...</td>\n",
              "      <td>NaN</td>\n",
              "      <td>15602</td>\n",
              "      <td>tt0113228</td>\n",
              "      <td>en</td>\n",
              "      <td>Grumpier Old Men</td>\n",
              "      <td>A family wedding reignites the ancient feud be...</td>\n",
              "      <td>...</td>\n",
              "      <td>1995-12-22</td>\n",
              "      <td>0.0</td>\n",
              "      <td>101.0</td>\n",
              "      <td>[{'iso_639_1': 'en', 'name': 'English'}]</td>\n",
              "      <td>Released</td>\n",
              "      <td>Still Yelling. Still Fighting. Still Ready for...</td>\n",
              "      <td>Grumpier Old Men</td>\n",
              "      <td>False</td>\n",
              "      <td>6.5</td>\n",
              "      <td>92.0</td>\n",
              "    </tr>\n",
              "    <tr>\n",
              "      <th>3</th>\n",
              "      <td>False</td>\n",
              "      <td>NaN</td>\n",
              "      <td>16000000</td>\n",
              "      <td>[{'id': 35, 'name': 'Comedy'}, {'id': 18, 'nam...</td>\n",
              "      <td>NaN</td>\n",
              "      <td>31357</td>\n",
              "      <td>tt0114885</td>\n",
              "      <td>en</td>\n",
              "      <td>Waiting to Exhale</td>\n",
              "      <td>Cheated on, mistreated and stepped on, the wom...</td>\n",
              "      <td>...</td>\n",
              "      <td>1995-12-22</td>\n",
              "      <td>81452156.0</td>\n",
              "      <td>127.0</td>\n",
              "      <td>[{'iso_639_1': 'en', 'name': 'English'}]</td>\n",
              "      <td>Released</td>\n",
              "      <td>Friends are the people who let you be yourself...</td>\n",
              "      <td>Waiting to Exhale</td>\n",
              "      <td>False</td>\n",
              "      <td>6.1</td>\n",
              "      <td>34.0</td>\n",
              "    </tr>\n",
              "    <tr>\n",
              "      <th>4</th>\n",
              "      <td>False</td>\n",
              "      <td>{'id': 96871, 'name': 'Father of the Bride Col...</td>\n",
              "      <td>0</td>\n",
              "      <td>[{'id': 35, 'name': 'Comedy'}]</td>\n",
              "      <td>NaN</td>\n",
              "      <td>11862</td>\n",
              "      <td>tt0113041</td>\n",
              "      <td>en</td>\n",
              "      <td>Father of the Bride Part II</td>\n",
              "      <td>Just when George Banks has recovered from his ...</td>\n",
              "      <td>...</td>\n",
              "      <td>1995-02-10</td>\n",
              "      <td>76578911.0</td>\n",
              "      <td>106.0</td>\n",
              "      <td>[{'iso_639_1': 'en', 'name': 'English'}]</td>\n",
              "      <td>Released</td>\n",
              "      <td>Just When His World Is Back To Normal... He's ...</td>\n",
              "      <td>Father of the Bride Part II</td>\n",
              "      <td>False</td>\n",
              "      <td>5.7</td>\n",
              "      <td>173.0</td>\n",
              "    </tr>\n",
              "  </tbody>\n",
              "</table>\n",
              "<p>5 rows × 24 columns</p>\n",
              "</div>\n",
              "      <button class=\"colab-df-convert\" onclick=\"convertToInteractive('df-ad15bcf7-6829-4d4d-948a-37077ef0f171')\"\n",
              "              title=\"Convert this dataframe to an interactive table.\"\n",
              "              style=\"display:none;\">\n",
              "        \n",
              "  <svg xmlns=\"http://www.w3.org/2000/svg\" height=\"24px\"viewBox=\"0 0 24 24\"\n",
              "       width=\"24px\">\n",
              "    <path d=\"M0 0h24v24H0V0z\" fill=\"none\"/>\n",
              "    <path d=\"M18.56 5.44l.94 2.06.94-2.06 2.06-.94-2.06-.94-.94-2.06-.94 2.06-2.06.94zm-11 1L8.5 8.5l.94-2.06 2.06-.94-2.06-.94L8.5 2.5l-.94 2.06-2.06.94zm10 10l.94 2.06.94-2.06 2.06-.94-2.06-.94-.94-2.06-.94 2.06-2.06.94z\"/><path d=\"M17.41 7.96l-1.37-1.37c-.4-.4-.92-.59-1.43-.59-.52 0-1.04.2-1.43.59L10.3 9.45l-7.72 7.72c-.78.78-.78 2.05 0 2.83L4 21.41c.39.39.9.59 1.41.59.51 0 1.02-.2 1.41-.59l7.78-7.78 2.81-2.81c.8-.78.8-2.07 0-2.86zM5.41 20L4 18.59l7.72-7.72 1.47 1.35L5.41 20z\"/>\n",
              "  </svg>\n",
              "      </button>\n",
              "      \n",
              "  <style>\n",
              "    .colab-df-container {\n",
              "      display:flex;\n",
              "      flex-wrap:wrap;\n",
              "      gap: 12px;\n",
              "    }\n",
              "\n",
              "    .colab-df-convert {\n",
              "      background-color: #E8F0FE;\n",
              "      border: none;\n",
              "      border-radius: 50%;\n",
              "      cursor: pointer;\n",
              "      display: none;\n",
              "      fill: #1967D2;\n",
              "      height: 32px;\n",
              "      padding: 0 0 0 0;\n",
              "      width: 32px;\n",
              "    }\n",
              "\n",
              "    .colab-df-convert:hover {\n",
              "      background-color: #E2EBFA;\n",
              "      box-shadow: 0px 1px 2px rgba(60, 64, 67, 0.3), 0px 1px 3px 1px rgba(60, 64, 67, 0.15);\n",
              "      fill: #174EA6;\n",
              "    }\n",
              "\n",
              "    [theme=dark] .colab-df-convert {\n",
              "      background-color: #3B4455;\n",
              "      fill: #D2E3FC;\n",
              "    }\n",
              "\n",
              "    [theme=dark] .colab-df-convert:hover {\n",
              "      background-color: #434B5C;\n",
              "      box-shadow: 0px 1px 3px 1px rgba(0, 0, 0, 0.15);\n",
              "      filter: drop-shadow(0px 1px 2px rgba(0, 0, 0, 0.3));\n",
              "      fill: #FFFFFF;\n",
              "    }\n",
              "  </style>\n",
              "\n",
              "      <script>\n",
              "        const buttonEl =\n",
              "          document.querySelector('#df-ad15bcf7-6829-4d4d-948a-37077ef0f171 button.colab-df-convert');\n",
              "        buttonEl.style.display =\n",
              "          google.colab.kernel.accessAllowed ? 'block' : 'none';\n",
              "\n",
              "        async function convertToInteractive(key) {\n",
              "          const element = document.querySelector('#df-ad15bcf7-6829-4d4d-948a-37077ef0f171');\n",
              "          const dataTable =\n",
              "            await google.colab.kernel.invokeFunction('convertToInteractive',\n",
              "                                                     [key], {});\n",
              "          if (!dataTable) return;\n",
              "\n",
              "          const docLinkHtml = 'Like what you see? Visit the ' +\n",
              "            '<a target=\"_blank\" href=https://colab.research.google.com/notebooks/data_table.ipynb>data table notebook</a>'\n",
              "            + ' to learn more about interactive tables.';\n",
              "          element.innerHTML = '';\n",
              "          dataTable['output_type'] = 'display_data';\n",
              "          await google.colab.output.renderOutput(dataTable, element);\n",
              "          const docLink = document.createElement('div');\n",
              "          docLink.innerHTML = docLinkHtml;\n",
              "          element.appendChild(docLink);\n",
              "        }\n",
              "      </script>\n",
              "    </div>\n",
              "  </div>\n",
              "  "
            ]
          },
          "metadata": {},
          "execution_count": 4
        }
      ]
    },
    {
      "cell_type": "markdown",
      "metadata": {
        "id": "0axBSOTCViMi"
      },
      "source": []
    },
    {
      "cell_type": "code",
      "metadata": {
        "colab": {
          "base_uri": "https://localhost:8080/"
        },
        "id": "EfT35A5cbzBe",
        "outputId": "87a66a1f-13c6-4cff-cc91-6a1e0cdfdef5"
      },
      "source": [
        "data.shape"
      ],
      "execution_count": null,
      "outputs": [
        {
          "output_type": "execute_result",
          "data": {
            "text/plain": [
              "(45466, 24)"
            ]
          },
          "metadata": {},
          "execution_count": 5
        }
      ]
    },
    {
      "cell_type": "code",
      "metadata": {
        "colab": {
          "base_uri": "https://localhost:8080/"
        },
        "id": "xx2ybVr8xU0C",
        "outputId": "ee6045c7-7cd5-4e35-f7ca-5a725e505c21"
      },
      "source": [
        "data.columns"
      ],
      "execution_count": null,
      "outputs": [
        {
          "output_type": "execute_result",
          "data": {
            "text/plain": [
              "Index(['adult', 'belongs_to_collection', 'budget', 'genres', 'homepage', 'id',\n",
              "       'imdb_id', 'original_language', 'original_title', 'overview',\n",
              "       'popularity', 'poster_path', 'production_companies',\n",
              "       'production_countries', 'release_date', 'revenue', 'runtime',\n",
              "       'spoken_languages', 'status', 'tagline', 'title', 'video',\n",
              "       'vote_average', 'vote_count'],\n",
              "      dtype='object')"
            ]
          },
          "metadata": {},
          "execution_count": 6
        }
      ]
    },
    {
      "cell_type": "markdown",
      "metadata": {
        "id": "g-BbK4V6SygG"
      },
      "source": [
        "## Adult"
      ]
    },
    {
      "cell_type": "code",
      "source": [
        "True"
      ],
      "metadata": {
        "colab": {
          "base_uri": "https://localhost:8080/"
        },
        "id": "RrCw_6mLuZoP",
        "outputId": "3837350f-033e-4725-b959-6e3f7fbf36b4"
      },
      "execution_count": null,
      "outputs": [
        {
          "output_type": "execute_result",
          "data": {
            "text/plain": [
              "True"
            ]
          },
          "metadata": {},
          "execution_count": 7
        }
      ]
    },
    {
      "cell_type": "code",
      "source": [
        "data.adult.values # data.column_name.values"
      ],
      "metadata": {
        "colab": {
          "base_uri": "https://localhost:8080/"
        },
        "id": "FjwtFPqMUzz6",
        "outputId": "131f10b3-5500-4482-acce-d1e07e976f3b"
      },
      "execution_count": null,
      "outputs": [
        {
          "output_type": "execute_result",
          "data": {
            "text/plain": [
              "array(['False', 'False', 'False', ..., 'False', 'False', 'False'],\n",
              "      dtype=object)"
            ]
          },
          "metadata": {},
          "execution_count": 8
        }
      ]
    },
    {
      "cell_type": "code",
      "metadata": {
        "colab": {
          "base_uri": "https://localhost:8080/"
        },
        "id": "SxxijBtrZee5",
        "outputId": "08567ac9-d7ce-49ca-dce4-a8ece39a248a"
      },
      "source": [
        "#data.loc[1,'adult'] ## adult -> convert to boolean\n",
        "data.adult.unique()"
      ],
      "execution_count": null,
      "outputs": [
        {
          "output_type": "execute_result",
          "data": {
            "text/plain": [
              "array(['False', 'True', ' - Written by Ørnås',\n",
              "       ' Rune Balot goes to a casino connected to the October corporation to try to wrap up her case once and for all.',\n",
              "       ' Avalanche Sharks tells the story of a bikini contest that turns into a horrifying affair when it is hit by a shark avalanche.'],\n",
              "      dtype=object)"
            ]
          },
          "metadata": {},
          "execution_count": 9
        }
      ]
    },
    {
      "cell_type": "code",
      "source": [
        "data.adult.isin(['True','False'])"
      ],
      "metadata": {
        "colab": {
          "base_uri": "https://localhost:8080/"
        },
        "id": "oORvVXMP-HP_",
        "outputId": "61343baa-5de9-46e2-b55d-2a9b81451413"
      },
      "execution_count": null,
      "outputs": [
        {
          "output_type": "execute_result",
          "data": {
            "text/plain": [
              "0        True\n",
              "1        True\n",
              "2        True\n",
              "3        True\n",
              "4        True\n",
              "         ... \n",
              "45461    True\n",
              "45462    True\n",
              "45463    True\n",
              "45464    True\n",
              "45465    True\n",
              "Name: adult, Length: 45466, dtype: bool"
            ]
          },
          "metadata": {},
          "execution_count": 10
        }
      ]
    },
    {
      "cell_type": "code",
      "source": [
        "data.loc[~data.adult.isin(['True','False']),:] # data.loc[ro_criteria,col_criter]"
      ],
      "metadata": {
        "colab": {
          "base_uri": "https://localhost:8080/",
          "height": 445
        },
        "id": "vsPfchyG90Au",
        "outputId": "86256ec3-13d4-487f-9d11-2b1ebbc79d9a"
      },
      "execution_count": null,
      "outputs": [
        {
          "output_type": "execute_result",
          "data": {
            "text/plain": [
              "                                                   adult  \\\n",
              "19730                                 - Written by Ørnås   \n",
              "29503   Rune Balot goes to a casino connected to the ...   \n",
              "35587   Avalanche Sharks tells the story of a bikini ...   \n",
              "\n",
              "      belongs_to_collection                            budget  \\\n",
              "19730              0.065736  /ff9qCepilowshEtG2GYWwzt2bs4.jpg   \n",
              "29503              1.931659  /zV8bHuSL6WXoD6FWogP9j4x80bL.jpg   \n",
              "35587              2.185485  /zaSf5OG7V8X8gqFvly88zDdRm46.jpg   \n",
              "\n",
              "                                                  genres  \\\n",
              "19730  [{'name': 'Carousel Productions', 'id': 11176}...   \n",
              "29503  [{'name': 'Aniplex', 'id': 2883}, {'name': 'Go...   \n",
              "35587  [{'name': 'Odyssey Media', 'id': 17161}, {'nam...   \n",
              "\n",
              "                                                homepage          id imdb_id  \\\n",
              "19730  [{'iso_3166_1': 'CA', 'name': 'Canada'}, {'iso...  1997-08-20       0   \n",
              "29503  [{'iso_3166_1': 'US', 'name': 'United States o...  2012-09-29       0   \n",
              "35587           [{'iso_3166_1': 'CA', 'name': 'Canada'}]  2014-01-01       0   \n",
              "\n",
              "      original_language                            original_title  overview  \\\n",
              "19730             104.0  [{'iso_639_1': 'en', 'name': 'English'}]  Released   \n",
              "29503              68.0      [{'iso_639_1': 'ja', 'name': '日本語'}]  Released   \n",
              "35587              82.0  [{'iso_639_1': 'en', 'name': 'English'}]  Released   \n",
              "\n",
              "       ... release_date revenue runtime spoken_languages status  tagline  \\\n",
              "19730  ...            1     NaN     NaN              NaN    NaN      NaN   \n",
              "29503  ...           12     NaN     NaN              NaN    NaN      NaN   \n",
              "35587  ...           22     NaN     NaN              NaN    NaN      NaN   \n",
              "\n",
              "       title video vote_average vote_count  \n",
              "19730    NaN   NaN          NaN        NaN  \n",
              "29503    NaN   NaN          NaN        NaN  \n",
              "35587    NaN   NaN          NaN        NaN  \n",
              "\n",
              "[3 rows x 24 columns]"
            ],
            "text/html": [
              "\n",
              "  <div id=\"df-fd38da2c-f560-4362-9ad0-ac20c8092e29\">\n",
              "    <div class=\"colab-df-container\">\n",
              "      <div>\n",
              "<style scoped>\n",
              "    .dataframe tbody tr th:only-of-type {\n",
              "        vertical-align: middle;\n",
              "    }\n",
              "\n",
              "    .dataframe tbody tr th {\n",
              "        vertical-align: top;\n",
              "    }\n",
              "\n",
              "    .dataframe thead th {\n",
              "        text-align: right;\n",
              "    }\n",
              "</style>\n",
              "<table border=\"1\" class=\"dataframe\">\n",
              "  <thead>\n",
              "    <tr style=\"text-align: right;\">\n",
              "      <th></th>\n",
              "      <th>adult</th>\n",
              "      <th>belongs_to_collection</th>\n",
              "      <th>budget</th>\n",
              "      <th>genres</th>\n",
              "      <th>homepage</th>\n",
              "      <th>id</th>\n",
              "      <th>imdb_id</th>\n",
              "      <th>original_language</th>\n",
              "      <th>original_title</th>\n",
              "      <th>overview</th>\n",
              "      <th>...</th>\n",
              "      <th>release_date</th>\n",
              "      <th>revenue</th>\n",
              "      <th>runtime</th>\n",
              "      <th>spoken_languages</th>\n",
              "      <th>status</th>\n",
              "      <th>tagline</th>\n",
              "      <th>title</th>\n",
              "      <th>video</th>\n",
              "      <th>vote_average</th>\n",
              "      <th>vote_count</th>\n",
              "    </tr>\n",
              "  </thead>\n",
              "  <tbody>\n",
              "    <tr>\n",
              "      <th>19730</th>\n",
              "      <td>- Written by Ørnås</td>\n",
              "      <td>0.065736</td>\n",
              "      <td>/ff9qCepilowshEtG2GYWwzt2bs4.jpg</td>\n",
              "      <td>[{'name': 'Carousel Productions', 'id': 11176}...</td>\n",
              "      <td>[{'iso_3166_1': 'CA', 'name': 'Canada'}, {'iso...</td>\n",
              "      <td>1997-08-20</td>\n",
              "      <td>0</td>\n",
              "      <td>104.0</td>\n",
              "      <td>[{'iso_639_1': 'en', 'name': 'English'}]</td>\n",
              "      <td>Released</td>\n",
              "      <td>...</td>\n",
              "      <td>1</td>\n",
              "      <td>NaN</td>\n",
              "      <td>NaN</td>\n",
              "      <td>NaN</td>\n",
              "      <td>NaN</td>\n",
              "      <td>NaN</td>\n",
              "      <td>NaN</td>\n",
              "      <td>NaN</td>\n",
              "      <td>NaN</td>\n",
              "      <td>NaN</td>\n",
              "    </tr>\n",
              "    <tr>\n",
              "      <th>29503</th>\n",
              "      <td>Rune Balot goes to a casino connected to the ...</td>\n",
              "      <td>1.931659</td>\n",
              "      <td>/zV8bHuSL6WXoD6FWogP9j4x80bL.jpg</td>\n",
              "      <td>[{'name': 'Aniplex', 'id': 2883}, {'name': 'Go...</td>\n",
              "      <td>[{'iso_3166_1': 'US', 'name': 'United States o...</td>\n",
              "      <td>2012-09-29</td>\n",
              "      <td>0</td>\n",
              "      <td>68.0</td>\n",
              "      <td>[{'iso_639_1': 'ja', 'name': '日本語'}]</td>\n",
              "      <td>Released</td>\n",
              "      <td>...</td>\n",
              "      <td>12</td>\n",
              "      <td>NaN</td>\n",
              "      <td>NaN</td>\n",
              "      <td>NaN</td>\n",
              "      <td>NaN</td>\n",
              "      <td>NaN</td>\n",
              "      <td>NaN</td>\n",
              "      <td>NaN</td>\n",
              "      <td>NaN</td>\n",
              "      <td>NaN</td>\n",
              "    </tr>\n",
              "    <tr>\n",
              "      <th>35587</th>\n",
              "      <td>Avalanche Sharks tells the story of a bikini ...</td>\n",
              "      <td>2.185485</td>\n",
              "      <td>/zaSf5OG7V8X8gqFvly88zDdRm46.jpg</td>\n",
              "      <td>[{'name': 'Odyssey Media', 'id': 17161}, {'nam...</td>\n",
              "      <td>[{'iso_3166_1': 'CA', 'name': 'Canada'}]</td>\n",
              "      <td>2014-01-01</td>\n",
              "      <td>0</td>\n",
              "      <td>82.0</td>\n",
              "      <td>[{'iso_639_1': 'en', 'name': 'English'}]</td>\n",
              "      <td>Released</td>\n",
              "      <td>...</td>\n",
              "      <td>22</td>\n",
              "      <td>NaN</td>\n",
              "      <td>NaN</td>\n",
              "      <td>NaN</td>\n",
              "      <td>NaN</td>\n",
              "      <td>NaN</td>\n",
              "      <td>NaN</td>\n",
              "      <td>NaN</td>\n",
              "      <td>NaN</td>\n",
              "      <td>NaN</td>\n",
              "    </tr>\n",
              "  </tbody>\n",
              "</table>\n",
              "<p>3 rows × 24 columns</p>\n",
              "</div>\n",
              "      <button class=\"colab-df-convert\" onclick=\"convertToInteractive('df-fd38da2c-f560-4362-9ad0-ac20c8092e29')\"\n",
              "              title=\"Convert this dataframe to an interactive table.\"\n",
              "              style=\"display:none;\">\n",
              "        \n",
              "  <svg xmlns=\"http://www.w3.org/2000/svg\" height=\"24px\"viewBox=\"0 0 24 24\"\n",
              "       width=\"24px\">\n",
              "    <path d=\"M0 0h24v24H0V0z\" fill=\"none\"/>\n",
              "    <path d=\"M18.56 5.44l.94 2.06.94-2.06 2.06-.94-2.06-.94-.94-2.06-.94 2.06-2.06.94zm-11 1L8.5 8.5l.94-2.06 2.06-.94-2.06-.94L8.5 2.5l-.94 2.06-2.06.94zm10 10l.94 2.06.94-2.06 2.06-.94-2.06-.94-.94-2.06-.94 2.06-2.06.94z\"/><path d=\"M17.41 7.96l-1.37-1.37c-.4-.4-.92-.59-1.43-.59-.52 0-1.04.2-1.43.59L10.3 9.45l-7.72 7.72c-.78.78-.78 2.05 0 2.83L4 21.41c.39.39.9.59 1.41.59.51 0 1.02-.2 1.41-.59l7.78-7.78 2.81-2.81c.8-.78.8-2.07 0-2.86zM5.41 20L4 18.59l7.72-7.72 1.47 1.35L5.41 20z\"/>\n",
              "  </svg>\n",
              "      </button>\n",
              "      \n",
              "  <style>\n",
              "    .colab-df-container {\n",
              "      display:flex;\n",
              "      flex-wrap:wrap;\n",
              "      gap: 12px;\n",
              "    }\n",
              "\n",
              "    .colab-df-convert {\n",
              "      background-color: #E8F0FE;\n",
              "      border: none;\n",
              "      border-radius: 50%;\n",
              "      cursor: pointer;\n",
              "      display: none;\n",
              "      fill: #1967D2;\n",
              "      height: 32px;\n",
              "      padding: 0 0 0 0;\n",
              "      width: 32px;\n",
              "    }\n",
              "\n",
              "    .colab-df-convert:hover {\n",
              "      background-color: #E2EBFA;\n",
              "      box-shadow: 0px 1px 2px rgba(60, 64, 67, 0.3), 0px 1px 3px 1px rgba(60, 64, 67, 0.15);\n",
              "      fill: #174EA6;\n",
              "    }\n",
              "\n",
              "    [theme=dark] .colab-df-convert {\n",
              "      background-color: #3B4455;\n",
              "      fill: #D2E3FC;\n",
              "    }\n",
              "\n",
              "    [theme=dark] .colab-df-convert:hover {\n",
              "      background-color: #434B5C;\n",
              "      box-shadow: 0px 1px 3px 1px rgba(0, 0, 0, 0.15);\n",
              "      filter: drop-shadow(0px 1px 2px rgba(0, 0, 0, 0.3));\n",
              "      fill: #FFFFFF;\n",
              "    }\n",
              "  </style>\n",
              "\n",
              "      <script>\n",
              "        const buttonEl =\n",
              "          document.querySelector('#df-fd38da2c-f560-4362-9ad0-ac20c8092e29 button.colab-df-convert');\n",
              "        buttonEl.style.display =\n",
              "          google.colab.kernel.accessAllowed ? 'block' : 'none';\n",
              "\n",
              "        async function convertToInteractive(key) {\n",
              "          const element = document.querySelector('#df-fd38da2c-f560-4362-9ad0-ac20c8092e29');\n",
              "          const dataTable =\n",
              "            await google.colab.kernel.invokeFunction('convertToInteractive',\n",
              "                                                     [key], {});\n",
              "          if (!dataTable) return;\n",
              "\n",
              "          const docLinkHtml = 'Like what you see? Visit the ' +\n",
              "            '<a target=\"_blank\" href=https://colab.research.google.com/notebooks/data_table.ipynb>data table notebook</a>'\n",
              "            + ' to learn more about interactive tables.';\n",
              "          element.innerHTML = '';\n",
              "          dataTable['output_type'] = 'display_data';\n",
              "          await google.colab.output.renderOutput(dataTable, element);\n",
              "          const docLink = document.createElement('div');\n",
              "          docLink.innerHTML = docLinkHtml;\n",
              "          element.appendChild(docLink);\n",
              "        }\n",
              "      </script>\n",
              "    </div>\n",
              "  </div>\n",
              "  "
            ]
          },
          "metadata": {},
          "execution_count": 11
        }
      ]
    },
    {
      "cell_type": "code",
      "metadata": {
        "colab": {
          "base_uri": "https://localhost:8080/",
          "height": 445
        },
        "id": "kV6hoUsPZUW3",
        "outputId": "26d6191b-00db-458c-c315-6739ea253cbe"
      },
      "source": [
        "data.loc[~data.adult.isin(['False','True']),:]"
      ],
      "execution_count": null,
      "outputs": [
        {
          "output_type": "execute_result",
          "data": {
            "text/plain": [
              "                                                   adult  \\\n",
              "19730                                 - Written by Ørnås   \n",
              "29503   Rune Balot goes to a casino connected to the ...   \n",
              "35587   Avalanche Sharks tells the story of a bikini ...   \n",
              "\n",
              "      belongs_to_collection                            budget  \\\n",
              "19730              0.065736  /ff9qCepilowshEtG2GYWwzt2bs4.jpg   \n",
              "29503              1.931659  /zV8bHuSL6WXoD6FWogP9j4x80bL.jpg   \n",
              "35587              2.185485  /zaSf5OG7V8X8gqFvly88zDdRm46.jpg   \n",
              "\n",
              "                                                  genres  \\\n",
              "19730  [{'name': 'Carousel Productions', 'id': 11176}...   \n",
              "29503  [{'name': 'Aniplex', 'id': 2883}, {'name': 'Go...   \n",
              "35587  [{'name': 'Odyssey Media', 'id': 17161}, {'nam...   \n",
              "\n",
              "                                                homepage          id imdb_id  \\\n",
              "19730  [{'iso_3166_1': 'CA', 'name': 'Canada'}, {'iso...  1997-08-20       0   \n",
              "29503  [{'iso_3166_1': 'US', 'name': 'United States o...  2012-09-29       0   \n",
              "35587           [{'iso_3166_1': 'CA', 'name': 'Canada'}]  2014-01-01       0   \n",
              "\n",
              "      original_language                            original_title  overview  \\\n",
              "19730             104.0  [{'iso_639_1': 'en', 'name': 'English'}]  Released   \n",
              "29503              68.0      [{'iso_639_1': 'ja', 'name': '日本語'}]  Released   \n",
              "35587              82.0  [{'iso_639_1': 'en', 'name': 'English'}]  Released   \n",
              "\n",
              "       ... release_date revenue runtime spoken_languages status  tagline  \\\n",
              "19730  ...            1     NaN     NaN              NaN    NaN      NaN   \n",
              "29503  ...           12     NaN     NaN              NaN    NaN      NaN   \n",
              "35587  ...           22     NaN     NaN              NaN    NaN      NaN   \n",
              "\n",
              "       title video vote_average vote_count  \n",
              "19730    NaN   NaN          NaN        NaN  \n",
              "29503    NaN   NaN          NaN        NaN  \n",
              "35587    NaN   NaN          NaN        NaN  \n",
              "\n",
              "[3 rows x 24 columns]"
            ],
            "text/html": [
              "\n",
              "  <div id=\"df-2adf9997-943d-4f39-a48c-036cd5ad9c20\">\n",
              "    <div class=\"colab-df-container\">\n",
              "      <div>\n",
              "<style scoped>\n",
              "    .dataframe tbody tr th:only-of-type {\n",
              "        vertical-align: middle;\n",
              "    }\n",
              "\n",
              "    .dataframe tbody tr th {\n",
              "        vertical-align: top;\n",
              "    }\n",
              "\n",
              "    .dataframe thead th {\n",
              "        text-align: right;\n",
              "    }\n",
              "</style>\n",
              "<table border=\"1\" class=\"dataframe\">\n",
              "  <thead>\n",
              "    <tr style=\"text-align: right;\">\n",
              "      <th></th>\n",
              "      <th>adult</th>\n",
              "      <th>belongs_to_collection</th>\n",
              "      <th>budget</th>\n",
              "      <th>genres</th>\n",
              "      <th>homepage</th>\n",
              "      <th>id</th>\n",
              "      <th>imdb_id</th>\n",
              "      <th>original_language</th>\n",
              "      <th>original_title</th>\n",
              "      <th>overview</th>\n",
              "      <th>...</th>\n",
              "      <th>release_date</th>\n",
              "      <th>revenue</th>\n",
              "      <th>runtime</th>\n",
              "      <th>spoken_languages</th>\n",
              "      <th>status</th>\n",
              "      <th>tagline</th>\n",
              "      <th>title</th>\n",
              "      <th>video</th>\n",
              "      <th>vote_average</th>\n",
              "      <th>vote_count</th>\n",
              "    </tr>\n",
              "  </thead>\n",
              "  <tbody>\n",
              "    <tr>\n",
              "      <th>19730</th>\n",
              "      <td>- Written by Ørnås</td>\n",
              "      <td>0.065736</td>\n",
              "      <td>/ff9qCepilowshEtG2GYWwzt2bs4.jpg</td>\n",
              "      <td>[{'name': 'Carousel Productions', 'id': 11176}...</td>\n",
              "      <td>[{'iso_3166_1': 'CA', 'name': 'Canada'}, {'iso...</td>\n",
              "      <td>1997-08-20</td>\n",
              "      <td>0</td>\n",
              "      <td>104.0</td>\n",
              "      <td>[{'iso_639_1': 'en', 'name': 'English'}]</td>\n",
              "      <td>Released</td>\n",
              "      <td>...</td>\n",
              "      <td>1</td>\n",
              "      <td>NaN</td>\n",
              "      <td>NaN</td>\n",
              "      <td>NaN</td>\n",
              "      <td>NaN</td>\n",
              "      <td>NaN</td>\n",
              "      <td>NaN</td>\n",
              "      <td>NaN</td>\n",
              "      <td>NaN</td>\n",
              "      <td>NaN</td>\n",
              "    </tr>\n",
              "    <tr>\n",
              "      <th>29503</th>\n",
              "      <td>Rune Balot goes to a casino connected to the ...</td>\n",
              "      <td>1.931659</td>\n",
              "      <td>/zV8bHuSL6WXoD6FWogP9j4x80bL.jpg</td>\n",
              "      <td>[{'name': 'Aniplex', 'id': 2883}, {'name': 'Go...</td>\n",
              "      <td>[{'iso_3166_1': 'US', 'name': 'United States o...</td>\n",
              "      <td>2012-09-29</td>\n",
              "      <td>0</td>\n",
              "      <td>68.0</td>\n",
              "      <td>[{'iso_639_1': 'ja', 'name': '日本語'}]</td>\n",
              "      <td>Released</td>\n",
              "      <td>...</td>\n",
              "      <td>12</td>\n",
              "      <td>NaN</td>\n",
              "      <td>NaN</td>\n",
              "      <td>NaN</td>\n",
              "      <td>NaN</td>\n",
              "      <td>NaN</td>\n",
              "      <td>NaN</td>\n",
              "      <td>NaN</td>\n",
              "      <td>NaN</td>\n",
              "      <td>NaN</td>\n",
              "    </tr>\n",
              "    <tr>\n",
              "      <th>35587</th>\n",
              "      <td>Avalanche Sharks tells the story of a bikini ...</td>\n",
              "      <td>2.185485</td>\n",
              "      <td>/zaSf5OG7V8X8gqFvly88zDdRm46.jpg</td>\n",
              "      <td>[{'name': 'Odyssey Media', 'id': 17161}, {'nam...</td>\n",
              "      <td>[{'iso_3166_1': 'CA', 'name': 'Canada'}]</td>\n",
              "      <td>2014-01-01</td>\n",
              "      <td>0</td>\n",
              "      <td>82.0</td>\n",
              "      <td>[{'iso_639_1': 'en', 'name': 'English'}]</td>\n",
              "      <td>Released</td>\n",
              "      <td>...</td>\n",
              "      <td>22</td>\n",
              "      <td>NaN</td>\n",
              "      <td>NaN</td>\n",
              "      <td>NaN</td>\n",
              "      <td>NaN</td>\n",
              "      <td>NaN</td>\n",
              "      <td>NaN</td>\n",
              "      <td>NaN</td>\n",
              "      <td>NaN</td>\n",
              "      <td>NaN</td>\n",
              "    </tr>\n",
              "  </tbody>\n",
              "</table>\n",
              "<p>3 rows × 24 columns</p>\n",
              "</div>\n",
              "      <button class=\"colab-df-convert\" onclick=\"convertToInteractive('df-2adf9997-943d-4f39-a48c-036cd5ad9c20')\"\n",
              "              title=\"Convert this dataframe to an interactive table.\"\n",
              "              style=\"display:none;\">\n",
              "        \n",
              "  <svg xmlns=\"http://www.w3.org/2000/svg\" height=\"24px\"viewBox=\"0 0 24 24\"\n",
              "       width=\"24px\">\n",
              "    <path d=\"M0 0h24v24H0V0z\" fill=\"none\"/>\n",
              "    <path d=\"M18.56 5.44l.94 2.06.94-2.06 2.06-.94-2.06-.94-.94-2.06-.94 2.06-2.06.94zm-11 1L8.5 8.5l.94-2.06 2.06-.94-2.06-.94L8.5 2.5l-.94 2.06-2.06.94zm10 10l.94 2.06.94-2.06 2.06-.94-2.06-.94-.94-2.06-.94 2.06-2.06.94z\"/><path d=\"M17.41 7.96l-1.37-1.37c-.4-.4-.92-.59-1.43-.59-.52 0-1.04.2-1.43.59L10.3 9.45l-7.72 7.72c-.78.78-.78 2.05 0 2.83L4 21.41c.39.39.9.59 1.41.59.51 0 1.02-.2 1.41-.59l7.78-7.78 2.81-2.81c.8-.78.8-2.07 0-2.86zM5.41 20L4 18.59l7.72-7.72 1.47 1.35L5.41 20z\"/>\n",
              "  </svg>\n",
              "      </button>\n",
              "      \n",
              "  <style>\n",
              "    .colab-df-container {\n",
              "      display:flex;\n",
              "      flex-wrap:wrap;\n",
              "      gap: 12px;\n",
              "    }\n",
              "\n",
              "    .colab-df-convert {\n",
              "      background-color: #E8F0FE;\n",
              "      border: none;\n",
              "      border-radius: 50%;\n",
              "      cursor: pointer;\n",
              "      display: none;\n",
              "      fill: #1967D2;\n",
              "      height: 32px;\n",
              "      padding: 0 0 0 0;\n",
              "      width: 32px;\n",
              "    }\n",
              "\n",
              "    .colab-df-convert:hover {\n",
              "      background-color: #E2EBFA;\n",
              "      box-shadow: 0px 1px 2px rgba(60, 64, 67, 0.3), 0px 1px 3px 1px rgba(60, 64, 67, 0.15);\n",
              "      fill: #174EA6;\n",
              "    }\n",
              "\n",
              "    [theme=dark] .colab-df-convert {\n",
              "      background-color: #3B4455;\n",
              "      fill: #D2E3FC;\n",
              "    }\n",
              "\n",
              "    [theme=dark] .colab-df-convert:hover {\n",
              "      background-color: #434B5C;\n",
              "      box-shadow: 0px 1px 3px 1px rgba(0, 0, 0, 0.15);\n",
              "      filter: drop-shadow(0px 1px 2px rgba(0, 0, 0, 0.3));\n",
              "      fill: #FFFFFF;\n",
              "    }\n",
              "  </style>\n",
              "\n",
              "      <script>\n",
              "        const buttonEl =\n",
              "          document.querySelector('#df-2adf9997-943d-4f39-a48c-036cd5ad9c20 button.colab-df-convert');\n",
              "        buttonEl.style.display =\n",
              "          google.colab.kernel.accessAllowed ? 'block' : 'none';\n",
              "\n",
              "        async function convertToInteractive(key) {\n",
              "          const element = document.querySelector('#df-2adf9997-943d-4f39-a48c-036cd5ad9c20');\n",
              "          const dataTable =\n",
              "            await google.colab.kernel.invokeFunction('convertToInteractive',\n",
              "                                                     [key], {});\n",
              "          if (!dataTable) return;\n",
              "\n",
              "          const docLinkHtml = 'Like what you see? Visit the ' +\n",
              "            '<a target=\"_blank\" href=https://colab.research.google.com/notebooks/data_table.ipynb>data table notebook</a>'\n",
              "            + ' to learn more about interactive tables.';\n",
              "          element.innerHTML = '';\n",
              "          dataTable['output_type'] = 'display_data';\n",
              "          await google.colab.output.renderOutput(dataTable, element);\n",
              "          const docLink = document.createElement('div');\n",
              "          docLink.innerHTML = docLinkHtml;\n",
              "          element.appendChild(docLink);\n",
              "        }\n",
              "      </script>\n",
              "    </div>\n",
              "  </div>\n",
              "  "
            ]
          },
          "metadata": {},
          "execution_count": 12
        }
      ]
    },
    {
      "cell_type": "code",
      "metadata": {
        "id": "VvKGxJV-udV1"
      },
      "source": [],
      "execution_count": null,
      "outputs": []
    },
    {
      "cell_type": "code",
      "metadata": {
        "colab": {
          "base_uri": "https://localhost:8080/"
        },
        "id": "-NuFB6DNSx2y",
        "outputId": "a3ea451e-afb1-4643-8a12-bb9463f309dc"
      },
      "source": [
        "data.adult.unique()\n",
        "data.adult.value_counts()\n",
        "\n",
        "\n",
        "data = data.loc[data.adult.isin(['False','True']),:] # only choosing the rows where the adult column is either true or false\n",
        "data.adult.unique()\n",
        "#data.shape"
      ],
      "execution_count": null,
      "outputs": [
        {
          "output_type": "execute_result",
          "data": {
            "text/plain": [
              "array(['False', 'True'], dtype=object)"
            ]
          },
          "metadata": {},
          "execution_count": 13
        }
      ]
    },
    {
      "cell_type": "code",
      "metadata": {
        "colab": {
          "base_uri": "https://localhost:8080/",
          "height": 35
        },
        "id": "Ls1yvVGPYVSZ",
        "outputId": "10aa6dca-e3d3-4230-db78-42398c4cabd7"
      },
      "source": [
        "data.adult.values[0]"
      ],
      "execution_count": null,
      "outputs": [
        {
          "output_type": "execute_result",
          "data": {
            "text/plain": [
              "'False'"
            ],
            "application/vnd.google.colaboratory.intrinsic+json": {
              "type": "string"
            }
          },
          "metadata": {},
          "execution_count": 14
        }
      ]
    },
    {
      "cell_type": "code",
      "metadata": {
        "id": "6B-pobzkthwU",
        "colab": {
          "base_uri": "https://localhost:8080/"
        },
        "outputId": "46a4a7cc-f852-4e12-b8a7-a83eda78f0b8"
      },
      "source": [
        "data.adult = data.adult.map({'True':True,'False':False}) #convert from string to True/False\n"
      ],
      "execution_count": null,
      "outputs": [
        {
          "output_type": "stream",
          "name": "stderr",
          "text": [
            "/usr/local/lib/python3.8/dist-packages/pandas/core/generic.py:5516: SettingWithCopyWarning: \n",
            "A value is trying to be set on a copy of a slice from a DataFrame.\n",
            "Try using .loc[row_indexer,col_indexer] = value instead\n",
            "\n",
            "See the caveats in the documentation: https://pandas.pydata.org/pandas-docs/stable/user_guide/indexing.html#returning-a-view-versus-a-copy\n",
            "  self[name] = value\n"
          ]
        }
      ]
    },
    {
      "cell_type": "code",
      "source": [
        "int(False)"
      ],
      "metadata": {
        "colab": {
          "base_uri": "https://localhost:8080/"
        },
        "id": "pBqc8Re7v8Gg",
        "outputId": "e7d08ec6-4b60-44d1-849c-7e3a27b166fc"
      },
      "execution_count": null,
      "outputs": [
        {
          "output_type": "execute_result",
          "data": {
            "text/plain": [
              "0"
            ]
          },
          "metadata": {},
          "execution_count": 16
        }
      ]
    },
    {
      "cell_type": "code",
      "metadata": {
        "colab": {
          "base_uri": "https://localhost:8080/",
          "height": 1000
        },
        "id": "7XGYorjGntuH",
        "outputId": "082ba29a-8bb3-4cca-a27b-a18292492bd8"
      },
      "source": [
        "data"
      ],
      "execution_count": null,
      "outputs": [
        {
          "output_type": "execute_result",
          "data": {
            "text/plain": [
              "       adult                              belongs_to_collection    budget  \\\n",
              "0      False  {'id': 10194, 'name': 'Toy Story Collection', ...  30000000   \n",
              "1      False                                                NaN  65000000   \n",
              "2      False  {'id': 119050, 'name': 'Grumpy Old Men Collect...         0   \n",
              "3      False                                                NaN  16000000   \n",
              "4      False  {'id': 96871, 'name': 'Father of the Bride Col...         0   \n",
              "...      ...                                                ...       ...   \n",
              "45461  False                                                NaN         0   \n",
              "45462  False                                                NaN         0   \n",
              "45463  False                                                NaN         0   \n",
              "45464  False                                                NaN         0   \n",
              "45465  False                                                NaN         0   \n",
              "\n",
              "                                                  genres  \\\n",
              "0      [{'id': 16, 'name': 'Animation'}, {'id': 35, '...   \n",
              "1      [{'id': 12, 'name': 'Adventure'}, {'id': 14, '...   \n",
              "2      [{'id': 10749, 'name': 'Romance'}, {'id': 35, ...   \n",
              "3      [{'id': 35, 'name': 'Comedy'}, {'id': 18, 'nam...   \n",
              "4                         [{'id': 35, 'name': 'Comedy'}]   \n",
              "...                                                  ...   \n",
              "45461  [{'id': 18, 'name': 'Drama'}, {'id': 10751, 'n...   \n",
              "45462                      [{'id': 18, 'name': 'Drama'}]   \n",
              "45463  [{'id': 28, 'name': 'Action'}, {'id': 18, 'nam...   \n",
              "45464                                                 []   \n",
              "45465                                                 []   \n",
              "\n",
              "                                   homepage      id    imdb_id  \\\n",
              "0      http://toystory.disney.com/toy-story     862  tt0114709   \n",
              "1                                       NaN    8844  tt0113497   \n",
              "2                                       NaN   15602  tt0113228   \n",
              "3                                       NaN   31357  tt0114885   \n",
              "4                                       NaN   11862  tt0113041   \n",
              "...                                     ...     ...        ...   \n",
              "45461  http://www.imdb.com/title/tt6209470/  439050  tt6209470   \n",
              "45462                                   NaN  111109  tt2028550   \n",
              "45463                                   NaN   67758  tt0303758   \n",
              "45464                                   NaN  227506  tt0008536   \n",
              "45465                                   NaN  461257  tt6980792   \n",
              "\n",
              "      original_language               original_title  \\\n",
              "0                    en                    Toy Story   \n",
              "1                    en                      Jumanji   \n",
              "2                    en             Grumpier Old Men   \n",
              "3                    en            Waiting to Exhale   \n",
              "4                    en  Father of the Bride Part II   \n",
              "...                 ...                          ...   \n",
              "45461                fa                      رگ خواب   \n",
              "45462                tl          Siglo ng Pagluluwal   \n",
              "45463                en                     Betrayal   \n",
              "45464                en          Satana likuyushchiy   \n",
              "45465                en                     Queerama   \n",
              "\n",
              "                                                overview  ... release_date  \\\n",
              "0      Led by Woody, Andy's toys live happily in his ...  ...   1995-10-30   \n",
              "1      When siblings Judy and Peter discover an encha...  ...   1995-12-15   \n",
              "2      A family wedding reignites the ancient feud be...  ...   1995-12-22   \n",
              "3      Cheated on, mistreated and stepped on, the wom...  ...   1995-12-22   \n",
              "4      Just when George Banks has recovered from his ...  ...   1995-02-10   \n",
              "...                                                  ...  ...          ...   \n",
              "45461        Rising and falling between a man and woman.  ...          NaN   \n",
              "45462  An artist struggles to finish his work while a...  ...   2011-11-17   \n",
              "45463  When one of her hits goes wrong, a professiona...  ...   2003-08-01   \n",
              "45464  In a small town live two brothers, one a minis...  ...   1917-10-21   \n",
              "45465  50 years after decriminalisation of homosexual...  ...   2017-06-09   \n",
              "\n",
              "           revenue runtime                                   spoken_languages  \\\n",
              "0      373554033.0    81.0           [{'iso_639_1': 'en', 'name': 'English'}]   \n",
              "1      262797249.0   104.0  [{'iso_639_1': 'en', 'name': 'English'}, {'iso...   \n",
              "2              0.0   101.0           [{'iso_639_1': 'en', 'name': 'English'}]   \n",
              "3       81452156.0   127.0           [{'iso_639_1': 'en', 'name': 'English'}]   \n",
              "4       76578911.0   106.0           [{'iso_639_1': 'en', 'name': 'English'}]   \n",
              "...            ...     ...                                                ...   \n",
              "45461          0.0    90.0             [{'iso_639_1': 'fa', 'name': 'فارسی'}]   \n",
              "45462          0.0   360.0                  [{'iso_639_1': 'tl', 'name': ''}]   \n",
              "45463          0.0    90.0           [{'iso_639_1': 'en', 'name': 'English'}]   \n",
              "45464          0.0    87.0                                                 []   \n",
              "45465          0.0    75.0           [{'iso_639_1': 'en', 'name': 'English'}]   \n",
              "\n",
              "         status                                            tagline  \\\n",
              "0      Released                                                NaN   \n",
              "1      Released          Roll the dice and unleash the excitement!   \n",
              "2      Released  Still Yelling. Still Fighting. Still Ready for...   \n",
              "3      Released  Friends are the people who let you be yourself...   \n",
              "4      Released  Just When His World Is Back To Normal... He's ...   \n",
              "...         ...                                                ...   \n",
              "45461  Released         Rising and falling between a man and woman   \n",
              "45462  Released                                                NaN   \n",
              "45463  Released                             A deadly game of wits.   \n",
              "45464  Released                                                NaN   \n",
              "45465  Released                                                NaN   \n",
              "\n",
              "                             title  video vote_average vote_count  \n",
              "0                        Toy Story  False          7.7     5415.0  \n",
              "1                          Jumanji  False          6.9     2413.0  \n",
              "2                 Grumpier Old Men  False          6.5       92.0  \n",
              "3                Waiting to Exhale  False          6.1       34.0  \n",
              "4      Father of the Bride Part II  False          5.7      173.0  \n",
              "...                            ...    ...          ...        ...  \n",
              "45461                       Subdue  False          4.0        1.0  \n",
              "45462          Century of Birthing  False          9.0        3.0  \n",
              "45463                     Betrayal  False          3.8        6.0  \n",
              "45464             Satan Triumphant  False          0.0        0.0  \n",
              "45465                     Queerama  False          0.0        0.0  \n",
              "\n",
              "[45463 rows x 24 columns]"
            ],
            "text/html": [
              "\n",
              "  <div id=\"df-91a2d191-7321-4f92-bd66-412d15b93156\">\n",
              "    <div class=\"colab-df-container\">\n",
              "      <div>\n",
              "<style scoped>\n",
              "    .dataframe tbody tr th:only-of-type {\n",
              "        vertical-align: middle;\n",
              "    }\n",
              "\n",
              "    .dataframe tbody tr th {\n",
              "        vertical-align: top;\n",
              "    }\n",
              "\n",
              "    .dataframe thead th {\n",
              "        text-align: right;\n",
              "    }\n",
              "</style>\n",
              "<table border=\"1\" class=\"dataframe\">\n",
              "  <thead>\n",
              "    <tr style=\"text-align: right;\">\n",
              "      <th></th>\n",
              "      <th>adult</th>\n",
              "      <th>belongs_to_collection</th>\n",
              "      <th>budget</th>\n",
              "      <th>genres</th>\n",
              "      <th>homepage</th>\n",
              "      <th>id</th>\n",
              "      <th>imdb_id</th>\n",
              "      <th>original_language</th>\n",
              "      <th>original_title</th>\n",
              "      <th>overview</th>\n",
              "      <th>...</th>\n",
              "      <th>release_date</th>\n",
              "      <th>revenue</th>\n",
              "      <th>runtime</th>\n",
              "      <th>spoken_languages</th>\n",
              "      <th>status</th>\n",
              "      <th>tagline</th>\n",
              "      <th>title</th>\n",
              "      <th>video</th>\n",
              "      <th>vote_average</th>\n",
              "      <th>vote_count</th>\n",
              "    </tr>\n",
              "  </thead>\n",
              "  <tbody>\n",
              "    <tr>\n",
              "      <th>0</th>\n",
              "      <td>False</td>\n",
              "      <td>{'id': 10194, 'name': 'Toy Story Collection', ...</td>\n",
              "      <td>30000000</td>\n",
              "      <td>[{'id': 16, 'name': 'Animation'}, {'id': 35, '...</td>\n",
              "      <td>http://toystory.disney.com/toy-story</td>\n",
              "      <td>862</td>\n",
              "      <td>tt0114709</td>\n",
              "      <td>en</td>\n",
              "      <td>Toy Story</td>\n",
              "      <td>Led by Woody, Andy's toys live happily in his ...</td>\n",
              "      <td>...</td>\n",
              "      <td>1995-10-30</td>\n",
              "      <td>373554033.0</td>\n",
              "      <td>81.0</td>\n",
              "      <td>[{'iso_639_1': 'en', 'name': 'English'}]</td>\n",
              "      <td>Released</td>\n",
              "      <td>NaN</td>\n",
              "      <td>Toy Story</td>\n",
              "      <td>False</td>\n",
              "      <td>7.7</td>\n",
              "      <td>5415.0</td>\n",
              "    </tr>\n",
              "    <tr>\n",
              "      <th>1</th>\n",
              "      <td>False</td>\n",
              "      <td>NaN</td>\n",
              "      <td>65000000</td>\n",
              "      <td>[{'id': 12, 'name': 'Adventure'}, {'id': 14, '...</td>\n",
              "      <td>NaN</td>\n",
              "      <td>8844</td>\n",
              "      <td>tt0113497</td>\n",
              "      <td>en</td>\n",
              "      <td>Jumanji</td>\n",
              "      <td>When siblings Judy and Peter discover an encha...</td>\n",
              "      <td>...</td>\n",
              "      <td>1995-12-15</td>\n",
              "      <td>262797249.0</td>\n",
              "      <td>104.0</td>\n",
              "      <td>[{'iso_639_1': 'en', 'name': 'English'}, {'iso...</td>\n",
              "      <td>Released</td>\n",
              "      <td>Roll the dice and unleash the excitement!</td>\n",
              "      <td>Jumanji</td>\n",
              "      <td>False</td>\n",
              "      <td>6.9</td>\n",
              "      <td>2413.0</td>\n",
              "    </tr>\n",
              "    <tr>\n",
              "      <th>2</th>\n",
              "      <td>False</td>\n",
              "      <td>{'id': 119050, 'name': 'Grumpy Old Men Collect...</td>\n",
              "      <td>0</td>\n",
              "      <td>[{'id': 10749, 'name': 'Romance'}, {'id': 35, ...</td>\n",
              "      <td>NaN</td>\n",
              "      <td>15602</td>\n",
              "      <td>tt0113228</td>\n",
              "      <td>en</td>\n",
              "      <td>Grumpier Old Men</td>\n",
              "      <td>A family wedding reignites the ancient feud be...</td>\n",
              "      <td>...</td>\n",
              "      <td>1995-12-22</td>\n",
              "      <td>0.0</td>\n",
              "      <td>101.0</td>\n",
              "      <td>[{'iso_639_1': 'en', 'name': 'English'}]</td>\n",
              "      <td>Released</td>\n",
              "      <td>Still Yelling. Still Fighting. Still Ready for...</td>\n",
              "      <td>Grumpier Old Men</td>\n",
              "      <td>False</td>\n",
              "      <td>6.5</td>\n",
              "      <td>92.0</td>\n",
              "    </tr>\n",
              "    <tr>\n",
              "      <th>3</th>\n",
              "      <td>False</td>\n",
              "      <td>NaN</td>\n",
              "      <td>16000000</td>\n",
              "      <td>[{'id': 35, 'name': 'Comedy'}, {'id': 18, 'nam...</td>\n",
              "      <td>NaN</td>\n",
              "      <td>31357</td>\n",
              "      <td>tt0114885</td>\n",
              "      <td>en</td>\n",
              "      <td>Waiting to Exhale</td>\n",
              "      <td>Cheated on, mistreated and stepped on, the wom...</td>\n",
              "      <td>...</td>\n",
              "      <td>1995-12-22</td>\n",
              "      <td>81452156.0</td>\n",
              "      <td>127.0</td>\n",
              "      <td>[{'iso_639_1': 'en', 'name': 'English'}]</td>\n",
              "      <td>Released</td>\n",
              "      <td>Friends are the people who let you be yourself...</td>\n",
              "      <td>Waiting to Exhale</td>\n",
              "      <td>False</td>\n",
              "      <td>6.1</td>\n",
              "      <td>34.0</td>\n",
              "    </tr>\n",
              "    <tr>\n",
              "      <th>4</th>\n",
              "      <td>False</td>\n",
              "      <td>{'id': 96871, 'name': 'Father of the Bride Col...</td>\n",
              "      <td>0</td>\n",
              "      <td>[{'id': 35, 'name': 'Comedy'}]</td>\n",
              "      <td>NaN</td>\n",
              "      <td>11862</td>\n",
              "      <td>tt0113041</td>\n",
              "      <td>en</td>\n",
              "      <td>Father of the Bride Part II</td>\n",
              "      <td>Just when George Banks has recovered from his ...</td>\n",
              "      <td>...</td>\n",
              "      <td>1995-02-10</td>\n",
              "      <td>76578911.0</td>\n",
              "      <td>106.0</td>\n",
              "      <td>[{'iso_639_1': 'en', 'name': 'English'}]</td>\n",
              "      <td>Released</td>\n",
              "      <td>Just When His World Is Back To Normal... He's ...</td>\n",
              "      <td>Father of the Bride Part II</td>\n",
              "      <td>False</td>\n",
              "      <td>5.7</td>\n",
              "      <td>173.0</td>\n",
              "    </tr>\n",
              "    <tr>\n",
              "      <th>...</th>\n",
              "      <td>...</td>\n",
              "      <td>...</td>\n",
              "      <td>...</td>\n",
              "      <td>...</td>\n",
              "      <td>...</td>\n",
              "      <td>...</td>\n",
              "      <td>...</td>\n",
              "      <td>...</td>\n",
              "      <td>...</td>\n",
              "      <td>...</td>\n",
              "      <td>...</td>\n",
              "      <td>...</td>\n",
              "      <td>...</td>\n",
              "      <td>...</td>\n",
              "      <td>...</td>\n",
              "      <td>...</td>\n",
              "      <td>...</td>\n",
              "      <td>...</td>\n",
              "      <td>...</td>\n",
              "      <td>...</td>\n",
              "      <td>...</td>\n",
              "    </tr>\n",
              "    <tr>\n",
              "      <th>45461</th>\n",
              "      <td>False</td>\n",
              "      <td>NaN</td>\n",
              "      <td>0</td>\n",
              "      <td>[{'id': 18, 'name': 'Drama'}, {'id': 10751, 'n...</td>\n",
              "      <td>http://www.imdb.com/title/tt6209470/</td>\n",
              "      <td>439050</td>\n",
              "      <td>tt6209470</td>\n",
              "      <td>fa</td>\n",
              "      <td>رگ خواب</td>\n",
              "      <td>Rising and falling between a man and woman.</td>\n",
              "      <td>...</td>\n",
              "      <td>NaN</td>\n",
              "      <td>0.0</td>\n",
              "      <td>90.0</td>\n",
              "      <td>[{'iso_639_1': 'fa', 'name': 'فارسی'}]</td>\n",
              "      <td>Released</td>\n",
              "      <td>Rising and falling between a man and woman</td>\n",
              "      <td>Subdue</td>\n",
              "      <td>False</td>\n",
              "      <td>4.0</td>\n",
              "      <td>1.0</td>\n",
              "    </tr>\n",
              "    <tr>\n",
              "      <th>45462</th>\n",
              "      <td>False</td>\n",
              "      <td>NaN</td>\n",
              "      <td>0</td>\n",
              "      <td>[{'id': 18, 'name': 'Drama'}]</td>\n",
              "      <td>NaN</td>\n",
              "      <td>111109</td>\n",
              "      <td>tt2028550</td>\n",
              "      <td>tl</td>\n",
              "      <td>Siglo ng Pagluluwal</td>\n",
              "      <td>An artist struggles to finish his work while a...</td>\n",
              "      <td>...</td>\n",
              "      <td>2011-11-17</td>\n",
              "      <td>0.0</td>\n",
              "      <td>360.0</td>\n",
              "      <td>[{'iso_639_1': 'tl', 'name': ''}]</td>\n",
              "      <td>Released</td>\n",
              "      <td>NaN</td>\n",
              "      <td>Century of Birthing</td>\n",
              "      <td>False</td>\n",
              "      <td>9.0</td>\n",
              "      <td>3.0</td>\n",
              "    </tr>\n",
              "    <tr>\n",
              "      <th>45463</th>\n",
              "      <td>False</td>\n",
              "      <td>NaN</td>\n",
              "      <td>0</td>\n",
              "      <td>[{'id': 28, 'name': 'Action'}, {'id': 18, 'nam...</td>\n",
              "      <td>NaN</td>\n",
              "      <td>67758</td>\n",
              "      <td>tt0303758</td>\n",
              "      <td>en</td>\n",
              "      <td>Betrayal</td>\n",
              "      <td>When one of her hits goes wrong, a professiona...</td>\n",
              "      <td>...</td>\n",
              "      <td>2003-08-01</td>\n",
              "      <td>0.0</td>\n",
              "      <td>90.0</td>\n",
              "      <td>[{'iso_639_1': 'en', 'name': 'English'}]</td>\n",
              "      <td>Released</td>\n",
              "      <td>A deadly game of wits.</td>\n",
              "      <td>Betrayal</td>\n",
              "      <td>False</td>\n",
              "      <td>3.8</td>\n",
              "      <td>6.0</td>\n",
              "    </tr>\n",
              "    <tr>\n",
              "      <th>45464</th>\n",
              "      <td>False</td>\n",
              "      <td>NaN</td>\n",
              "      <td>0</td>\n",
              "      <td>[]</td>\n",
              "      <td>NaN</td>\n",
              "      <td>227506</td>\n",
              "      <td>tt0008536</td>\n",
              "      <td>en</td>\n",
              "      <td>Satana likuyushchiy</td>\n",
              "      <td>In a small town live two brothers, one a minis...</td>\n",
              "      <td>...</td>\n",
              "      <td>1917-10-21</td>\n",
              "      <td>0.0</td>\n",
              "      <td>87.0</td>\n",
              "      <td>[]</td>\n",
              "      <td>Released</td>\n",
              "      <td>NaN</td>\n",
              "      <td>Satan Triumphant</td>\n",
              "      <td>False</td>\n",
              "      <td>0.0</td>\n",
              "      <td>0.0</td>\n",
              "    </tr>\n",
              "    <tr>\n",
              "      <th>45465</th>\n",
              "      <td>False</td>\n",
              "      <td>NaN</td>\n",
              "      <td>0</td>\n",
              "      <td>[]</td>\n",
              "      <td>NaN</td>\n",
              "      <td>461257</td>\n",
              "      <td>tt6980792</td>\n",
              "      <td>en</td>\n",
              "      <td>Queerama</td>\n",
              "      <td>50 years after decriminalisation of homosexual...</td>\n",
              "      <td>...</td>\n",
              "      <td>2017-06-09</td>\n",
              "      <td>0.0</td>\n",
              "      <td>75.0</td>\n",
              "      <td>[{'iso_639_1': 'en', 'name': 'English'}]</td>\n",
              "      <td>Released</td>\n",
              "      <td>NaN</td>\n",
              "      <td>Queerama</td>\n",
              "      <td>False</td>\n",
              "      <td>0.0</td>\n",
              "      <td>0.0</td>\n",
              "    </tr>\n",
              "  </tbody>\n",
              "</table>\n",
              "<p>45463 rows × 24 columns</p>\n",
              "</div>\n",
              "      <button class=\"colab-df-convert\" onclick=\"convertToInteractive('df-91a2d191-7321-4f92-bd66-412d15b93156')\"\n",
              "              title=\"Convert this dataframe to an interactive table.\"\n",
              "              style=\"display:none;\">\n",
              "        \n",
              "  <svg xmlns=\"http://www.w3.org/2000/svg\" height=\"24px\"viewBox=\"0 0 24 24\"\n",
              "       width=\"24px\">\n",
              "    <path d=\"M0 0h24v24H0V0z\" fill=\"none\"/>\n",
              "    <path d=\"M18.56 5.44l.94 2.06.94-2.06 2.06-.94-2.06-.94-.94-2.06-.94 2.06-2.06.94zm-11 1L8.5 8.5l.94-2.06 2.06-.94-2.06-.94L8.5 2.5l-.94 2.06-2.06.94zm10 10l.94 2.06.94-2.06 2.06-.94-2.06-.94-.94-2.06-.94 2.06-2.06.94z\"/><path d=\"M17.41 7.96l-1.37-1.37c-.4-.4-.92-.59-1.43-.59-.52 0-1.04.2-1.43.59L10.3 9.45l-7.72 7.72c-.78.78-.78 2.05 0 2.83L4 21.41c.39.39.9.59 1.41.59.51 0 1.02-.2 1.41-.59l7.78-7.78 2.81-2.81c.8-.78.8-2.07 0-2.86zM5.41 20L4 18.59l7.72-7.72 1.47 1.35L5.41 20z\"/>\n",
              "  </svg>\n",
              "      </button>\n",
              "      \n",
              "  <style>\n",
              "    .colab-df-container {\n",
              "      display:flex;\n",
              "      flex-wrap:wrap;\n",
              "      gap: 12px;\n",
              "    }\n",
              "\n",
              "    .colab-df-convert {\n",
              "      background-color: #E8F0FE;\n",
              "      border: none;\n",
              "      border-radius: 50%;\n",
              "      cursor: pointer;\n",
              "      display: none;\n",
              "      fill: #1967D2;\n",
              "      height: 32px;\n",
              "      padding: 0 0 0 0;\n",
              "      width: 32px;\n",
              "    }\n",
              "\n",
              "    .colab-df-convert:hover {\n",
              "      background-color: #E2EBFA;\n",
              "      box-shadow: 0px 1px 2px rgba(60, 64, 67, 0.3), 0px 1px 3px 1px rgba(60, 64, 67, 0.15);\n",
              "      fill: #174EA6;\n",
              "    }\n",
              "\n",
              "    [theme=dark] .colab-df-convert {\n",
              "      background-color: #3B4455;\n",
              "      fill: #D2E3FC;\n",
              "    }\n",
              "\n",
              "    [theme=dark] .colab-df-convert:hover {\n",
              "      background-color: #434B5C;\n",
              "      box-shadow: 0px 1px 3px 1px rgba(0, 0, 0, 0.15);\n",
              "      filter: drop-shadow(0px 1px 2px rgba(0, 0, 0, 0.3));\n",
              "      fill: #FFFFFF;\n",
              "    }\n",
              "  </style>\n",
              "\n",
              "      <script>\n",
              "        const buttonEl =\n",
              "          document.querySelector('#df-91a2d191-7321-4f92-bd66-412d15b93156 button.colab-df-convert');\n",
              "        buttonEl.style.display =\n",
              "          google.colab.kernel.accessAllowed ? 'block' : 'none';\n",
              "\n",
              "        async function convertToInteractive(key) {\n",
              "          const element = document.querySelector('#df-91a2d191-7321-4f92-bd66-412d15b93156');\n",
              "          const dataTable =\n",
              "            await google.colab.kernel.invokeFunction('convertToInteractive',\n",
              "                                                     [key], {});\n",
              "          if (!dataTable) return;\n",
              "\n",
              "          const docLinkHtml = 'Like what you see? Visit the ' +\n",
              "            '<a target=\"_blank\" href=https://colab.research.google.com/notebooks/data_table.ipynb>data table notebook</a>'\n",
              "            + ' to learn more about interactive tables.';\n",
              "          element.innerHTML = '';\n",
              "          dataTable['output_type'] = 'display_data';\n",
              "          await google.colab.output.renderOutput(dataTable, element);\n",
              "          const docLink = document.createElement('div');\n",
              "          docLink.innerHTML = docLinkHtml;\n",
              "          element.appendChild(docLink);\n",
              "        }\n",
              "      </script>\n",
              "    </div>\n",
              "  </div>\n",
              "  "
            ]
          },
          "metadata": {},
          "execution_count": 17
        }
      ]
    },
    {
      "cell_type": "code",
      "source": [
        "data.adult.isnull().sum()"
      ],
      "metadata": {
        "colab": {
          "base_uri": "https://localhost:8080/"
        },
        "id": "J55nXl4o_2lD",
        "outputId": "ca7ba08f-1276-4415-b233-a6966bffdbb1"
      },
      "execution_count": null,
      "outputs": [
        {
          "output_type": "execute_result",
          "data": {
            "text/plain": [
              "0"
            ]
          },
          "metadata": {},
          "execution_count": 18
        }
      ]
    },
    {
      "cell_type": "markdown",
      "metadata": {
        "id": "NZtjXpbMS6Sc"
      },
      "source": [
        "# Belongs to Collection"
      ]
    },
    {
      "cell_type": "code",
      "metadata": {
        "colab": {
          "base_uri": "https://localhost:8080/",
          "height": 53
        },
        "id": "bpdw0e2ryVTZ",
        "outputId": "421077b0-ed4a-40a0-9358-d01847684b8b"
      },
      "source": [
        "import numpy as np\n",
        "data.belongs_to_collection.values[0]\n",
        "# look at the row :\n",
        "# if the row is a nan value - put the name of collection as \"No collection\"\n",
        "# if the row is a non-nan value - convert the string into a dictionary and take the name value of the dictionary as name of the collection"
      ],
      "execution_count": null,
      "outputs": [
        {
          "output_type": "execute_result",
          "data": {
            "text/plain": [
              "\"{'id': 10194, 'name': 'Toy Story Collection', 'poster_path': '/7G9915LfUQ2lVfwMEEhDsn3kT4B.jpg', 'backdrop_path': '/9FBwqcd9IRruEDUrTdcaafOMKUq.jpg'}\""
            ],
            "application/vnd.google.colaboratory.intrinsic+json": {
              "type": "string"
            }
          },
          "metadata": {},
          "execution_count": 19
        }
      ]
    },
    {
      "cell_type": "markdown",
      "metadata": {
        "id": "dUzVhgZlbLgs"
      },
      "source": [
        "\n",
        "\n",
        "```\n",
        "`# This is formatted as code`\n",
        "```\n",
        "\n",
        "if the value is not nan, then convert string -> dictionary and get name value\n",
        "else if value is nan, append 0 to my ids"
      ]
    },
    {
      "cell_type": "code",
      "source": [
        "import ast\n",
        "ast.literal_eval(\"{1:2,2:3}\")"
      ],
      "metadata": {
        "colab": {
          "base_uri": "https://localhost:8080/"
        },
        "id": "3dgDDL_tDhrQ",
        "outputId": "59c51e5a-47e7-457c-a993-470a144b6368"
      },
      "execution_count": null,
      "outputs": [
        {
          "output_type": "execute_result",
          "data": {
            "text/plain": [
              "{1: 2, 2: 3}"
            ]
          },
          "metadata": {},
          "execution_count": 20
        }
      ]
    },
    {
      "cell_type": "code",
      "metadata": {
        "colab": {
          "base_uri": "https://localhost:8080/",
          "height": 35
        },
        "id": "CBpxlabszvea",
        "outputId": "61650f4d-5871-46d0-d7d6-159f5a1d6c94"
      },
      "source": [
        "import ast # package to convert string to dictionary\n",
        "ast.literal_eval(data.belongs_to_collection.values[0])['name']"
      ],
      "execution_count": null,
      "outputs": [
        {
          "output_type": "execute_result",
          "data": {
            "text/plain": [
              "'Toy Story Collection'"
            ],
            "application/vnd.google.colaboratory.intrinsic+json": {
              "type": "string"
            }
          },
          "metadata": {},
          "execution_count": 21
        }
      ]
    },
    {
      "cell_type": "code",
      "metadata": {
        "colab": {
          "base_uri": "https://localhost:8080/"
        },
        "id": "m2a1bHa2ZgC9",
        "outputId": "de982576-704c-4ab5-cb67-e713498662ef"
      },
      "source": [
        "a = np.nan\n",
        "a == a"
      ],
      "execution_count": null,
      "outputs": [
        {
          "output_type": "execute_result",
          "data": {
            "text/plain": [
              "False"
            ]
          },
          "metadata": {},
          "execution_count": 22
        }
      ]
    },
    {
      "cell_type": "code",
      "metadata": {
        "colab": {
          "base_uri": "https://localhost:8080/"
        },
        "id": "5l6kff5MutlB",
        "outputId": "233ba3db-a2cf-4ace-cbe3-fc77ea018b47"
      },
      "source": [
        "2 == 2"
      ],
      "execution_count": null,
      "outputs": [
        {
          "output_type": "execute_result",
          "data": {
            "text/plain": [
              "True"
            ]
          },
          "metadata": {},
          "execution_count": 23
        }
      ]
    },
    {
      "cell_type": "code",
      "metadata": {
        "colab": {
          "base_uri": "https://localhost:8080/"
        },
        "id": "Oh_8a1FIz57Z",
        "outputId": "689da883-5f6a-4001-a716-a1a6b70faab5"
      },
      "source": [
        "import numpy as np\n",
        "np.nan == np.nan"
      ],
      "execution_count": null,
      "outputs": [
        {
          "output_type": "execute_result",
          "data": {
            "text/plain": [
              "False"
            ]
          },
          "metadata": {},
          "execution_count": 24
        }
      ]
    },
    {
      "cell_type": "code",
      "metadata": {
        "colab": {
          "base_uri": "https://localhost:8080/"
        },
        "id": "en4J0xY-pHnF",
        "outputId": "87bdb853-41dd-4c2d-ae4a-7247e1f49327"
      },
      "source": [
        "a = np.nan\n",
        "a == a"
      ],
      "execution_count": null,
      "outputs": [
        {
          "output_type": "execute_result",
          "data": {
            "text/plain": [
              "False"
            ]
          },
          "metadata": {},
          "execution_count": 25
        }
      ]
    },
    {
      "cell_type": "code",
      "source": [
        "np.nan != np.nan"
      ],
      "metadata": {
        "colab": {
          "base_uri": "https://localhost:8080/"
        },
        "id": "Rq7Oj_7ICMOy",
        "outputId": "a1be01ca-8848-451e-bf48-094027b075ee"
      },
      "execution_count": null,
      "outputs": [
        {
          "output_type": "execute_result",
          "data": {
            "text/plain": [
              "True"
            ]
          },
          "metadata": {},
          "execution_count": 26
        }
      ]
    },
    {
      "cell_type": "code",
      "source": [
        "{\"a\" : 2} != {\"a\" : 2}"
      ],
      "metadata": {
        "id": "dI-6Uz8hY3yz",
        "colab": {
          "base_uri": "https://localhost:8080/"
        },
        "outputId": "24920ad1-2a76-476f-ee10-aa0f87b7019f"
      },
      "execution_count": null,
      "outputs": [
        {
          "output_type": "execute_result",
          "data": {
            "text/plain": [
              "False"
            ]
          },
          "metadata": {},
          "execution_count": 27
        }
      ]
    },
    {
      "cell_type": "code",
      "source": [
        "#\"kousik\" == \"kousik\"\n",
        "a = np.nan\n",
        "a == a\n",
        "# if variable == variable returns a false, then it means the variable is a nan value"
      ],
      "metadata": {
        "colab": {
          "base_uri": "https://localhost:8080/"
        },
        "id": "Smq6xGZ-_xYi",
        "outputId": "04444285-b6de-4942-c5e8-64909154dd33"
      },
      "execution_count": null,
      "outputs": [
        {
          "output_type": "execute_result",
          "data": {
            "text/plain": [
              "False"
            ]
          },
          "metadata": {},
          "execution_count": 28
        }
      ]
    },
    {
      "cell_type": "code",
      "source": [
        "a = np.nan\n",
        "a == a"
      ],
      "metadata": {
        "colab": {
          "base_uri": "https://localhost:8080/"
        },
        "id": "6F2s5Z81yxa-",
        "outputId": "f5fc96a3-093a-4411-fa38-16a2b15663c4"
      },
      "execution_count": null,
      "outputs": [
        {
          "output_type": "execute_result",
          "data": {
            "text/plain": [
              "False"
            ]
          },
          "metadata": {},
          "execution_count": 29
        }
      ]
    },
    {
      "cell_type": "markdown",
      "metadata": {
        "id": "5K4sfAPWzdBu"
      },
      "source": [
        "all elements : (check if that value is ) str -> dict -> id"
      ]
    },
    {
      "cell_type": "code",
      "metadata": {
        "id": "Rmja5uF4S-MU"
      },
      "source": [
        "import ast\n",
        "import numpy as np\n",
        "\n",
        "collectionNames = [] #list to store collections names - list that is going to store the vleaned value\n",
        "for i in data['belongs_to_collection'].values: #Iterating through the column\n",
        "    if i == i: # check if it is nan\n",
        "      #not a nan value\n",
        "      collectionNames.append(ast.literal_eval(i)['name'])\n",
        "    else:\n",
        "      # a nan value\n",
        "      collectionNames.append(\"No Collection\") #append -1\n",
        "\n",
        "#collectionIds\n",
        "data['collectionName'] = collectionNames\n",
        "data = data.drop(columns = ['belongs_to_collection'])"
      ],
      "execution_count": null,
      "outputs": []
    },
    {
      "cell_type": "code",
      "metadata": {
        "colab": {
          "base_uri": "https://localhost:8080/",
          "height": 1000
        },
        "id": "daGTe1Ws0P71",
        "outputId": "6cc6ffe6-5f9c-4311-e71c-452a2314fda4"
      },
      "source": [
        "data"
      ],
      "execution_count": null,
      "outputs": [
        {
          "output_type": "execute_result",
          "data": {
            "text/plain": [
              "       adult    budget                                             genres  \\\n",
              "0      False  30000000  [{'id': 16, 'name': 'Animation'}, {'id': 35, '...   \n",
              "1      False  65000000  [{'id': 12, 'name': 'Adventure'}, {'id': 14, '...   \n",
              "2      False         0  [{'id': 10749, 'name': 'Romance'}, {'id': 35, ...   \n",
              "3      False  16000000  [{'id': 35, 'name': 'Comedy'}, {'id': 18, 'nam...   \n",
              "4      False         0                     [{'id': 35, 'name': 'Comedy'}]   \n",
              "...      ...       ...                                                ...   \n",
              "45461  False         0  [{'id': 18, 'name': 'Drama'}, {'id': 10751, 'n...   \n",
              "45462  False         0                      [{'id': 18, 'name': 'Drama'}]   \n",
              "45463  False         0  [{'id': 28, 'name': 'Action'}, {'id': 18, 'nam...   \n",
              "45464  False         0                                                 []   \n",
              "45465  False         0                                                 []   \n",
              "\n",
              "                                   homepage      id    imdb_id  \\\n",
              "0      http://toystory.disney.com/toy-story     862  tt0114709   \n",
              "1                                       NaN    8844  tt0113497   \n",
              "2                                       NaN   15602  tt0113228   \n",
              "3                                       NaN   31357  tt0114885   \n",
              "4                                       NaN   11862  tt0113041   \n",
              "...                                     ...     ...        ...   \n",
              "45461  http://www.imdb.com/title/tt6209470/  439050  tt6209470   \n",
              "45462                                   NaN  111109  tt2028550   \n",
              "45463                                   NaN   67758  tt0303758   \n",
              "45464                                   NaN  227506  tt0008536   \n",
              "45465                                   NaN  461257  tt6980792   \n",
              "\n",
              "      original_language               original_title  \\\n",
              "0                    en                    Toy Story   \n",
              "1                    en                      Jumanji   \n",
              "2                    en             Grumpier Old Men   \n",
              "3                    en            Waiting to Exhale   \n",
              "4                    en  Father of the Bride Part II   \n",
              "...                 ...                          ...   \n",
              "45461                fa                      رگ خواب   \n",
              "45462                tl          Siglo ng Pagluluwal   \n",
              "45463                en                     Betrayal   \n",
              "45464                en          Satana likuyushchiy   \n",
              "45465                en                     Queerama   \n",
              "\n",
              "                                                overview popularity  ...  \\\n",
              "0      Led by Woody, Andy's toys live happily in his ...  21.946943  ...   \n",
              "1      When siblings Judy and Peter discover an encha...  17.015539  ...   \n",
              "2      A family wedding reignites the ancient feud be...    11.7129  ...   \n",
              "3      Cheated on, mistreated and stepped on, the wom...   3.859495  ...   \n",
              "4      Just when George Banks has recovered from his ...   8.387519  ...   \n",
              "...                                                  ...        ...  ...   \n",
              "45461        Rising and falling between a man and woman.   0.072051  ...   \n",
              "45462  An artist struggles to finish his work while a...   0.178241  ...   \n",
              "45463  When one of her hits goes wrong, a professiona...   0.903007  ...   \n",
              "45464  In a small town live two brothers, one a minis...   0.003503  ...   \n",
              "45465  50 years after decriminalisation of homosexual...   0.163015  ...   \n",
              "\n",
              "           revenue runtime                                   spoken_languages  \\\n",
              "0      373554033.0    81.0           [{'iso_639_1': 'en', 'name': 'English'}]   \n",
              "1      262797249.0   104.0  [{'iso_639_1': 'en', 'name': 'English'}, {'iso...   \n",
              "2              0.0   101.0           [{'iso_639_1': 'en', 'name': 'English'}]   \n",
              "3       81452156.0   127.0           [{'iso_639_1': 'en', 'name': 'English'}]   \n",
              "4       76578911.0   106.0           [{'iso_639_1': 'en', 'name': 'English'}]   \n",
              "...            ...     ...                                                ...   \n",
              "45461          0.0    90.0             [{'iso_639_1': 'fa', 'name': 'فارسی'}]   \n",
              "45462          0.0   360.0                  [{'iso_639_1': 'tl', 'name': ''}]   \n",
              "45463          0.0    90.0           [{'iso_639_1': 'en', 'name': 'English'}]   \n",
              "45464          0.0    87.0                                                 []   \n",
              "45465          0.0    75.0           [{'iso_639_1': 'en', 'name': 'English'}]   \n",
              "\n",
              "         status                                            tagline  \\\n",
              "0      Released                                                NaN   \n",
              "1      Released          Roll the dice and unleash the excitement!   \n",
              "2      Released  Still Yelling. Still Fighting. Still Ready for...   \n",
              "3      Released  Friends are the people who let you be yourself...   \n",
              "4      Released  Just When His World Is Back To Normal... He's ...   \n",
              "...         ...                                                ...   \n",
              "45461  Released         Rising and falling between a man and woman   \n",
              "45462  Released                                                NaN   \n",
              "45463  Released                             A deadly game of wits.   \n",
              "45464  Released                                                NaN   \n",
              "45465  Released                                                NaN   \n",
              "\n",
              "                             title  video vote_average vote_count  \\\n",
              "0                        Toy Story  False          7.7     5415.0   \n",
              "1                          Jumanji  False          6.9     2413.0   \n",
              "2                 Grumpier Old Men  False          6.5       92.0   \n",
              "3                Waiting to Exhale  False          6.1       34.0   \n",
              "4      Father of the Bride Part II  False          5.7      173.0   \n",
              "...                            ...    ...          ...        ...   \n",
              "45461                       Subdue  False          4.0        1.0   \n",
              "45462          Century of Birthing  False          9.0        3.0   \n",
              "45463                     Betrayal  False          3.8        6.0   \n",
              "45464             Satan Triumphant  False          0.0        0.0   \n",
              "45465                     Queerama  False          0.0        0.0   \n",
              "\n",
              "                       collectionName  \n",
              "0                Toy Story Collection  \n",
              "1                       No Collection  \n",
              "2           Grumpy Old Men Collection  \n",
              "3                       No Collection  \n",
              "4      Father of the Bride Collection  \n",
              "...                               ...  \n",
              "45461                   No Collection  \n",
              "45462                   No Collection  \n",
              "45463                   No Collection  \n",
              "45464                   No Collection  \n",
              "45465                   No Collection  \n",
              "\n",
              "[45463 rows x 24 columns]"
            ],
            "text/html": [
              "\n",
              "  <div id=\"df-0165d53e-5a21-496c-83d9-1141f12894f2\">\n",
              "    <div class=\"colab-df-container\">\n",
              "      <div>\n",
              "<style scoped>\n",
              "    .dataframe tbody tr th:only-of-type {\n",
              "        vertical-align: middle;\n",
              "    }\n",
              "\n",
              "    .dataframe tbody tr th {\n",
              "        vertical-align: top;\n",
              "    }\n",
              "\n",
              "    .dataframe thead th {\n",
              "        text-align: right;\n",
              "    }\n",
              "</style>\n",
              "<table border=\"1\" class=\"dataframe\">\n",
              "  <thead>\n",
              "    <tr style=\"text-align: right;\">\n",
              "      <th></th>\n",
              "      <th>adult</th>\n",
              "      <th>budget</th>\n",
              "      <th>genres</th>\n",
              "      <th>homepage</th>\n",
              "      <th>id</th>\n",
              "      <th>imdb_id</th>\n",
              "      <th>original_language</th>\n",
              "      <th>original_title</th>\n",
              "      <th>overview</th>\n",
              "      <th>popularity</th>\n",
              "      <th>...</th>\n",
              "      <th>revenue</th>\n",
              "      <th>runtime</th>\n",
              "      <th>spoken_languages</th>\n",
              "      <th>status</th>\n",
              "      <th>tagline</th>\n",
              "      <th>title</th>\n",
              "      <th>video</th>\n",
              "      <th>vote_average</th>\n",
              "      <th>vote_count</th>\n",
              "      <th>collectionName</th>\n",
              "    </tr>\n",
              "  </thead>\n",
              "  <tbody>\n",
              "    <tr>\n",
              "      <th>0</th>\n",
              "      <td>False</td>\n",
              "      <td>30000000</td>\n",
              "      <td>[{'id': 16, 'name': 'Animation'}, {'id': 35, '...</td>\n",
              "      <td>http://toystory.disney.com/toy-story</td>\n",
              "      <td>862</td>\n",
              "      <td>tt0114709</td>\n",
              "      <td>en</td>\n",
              "      <td>Toy Story</td>\n",
              "      <td>Led by Woody, Andy's toys live happily in his ...</td>\n",
              "      <td>21.946943</td>\n",
              "      <td>...</td>\n",
              "      <td>373554033.0</td>\n",
              "      <td>81.0</td>\n",
              "      <td>[{'iso_639_1': 'en', 'name': 'English'}]</td>\n",
              "      <td>Released</td>\n",
              "      <td>NaN</td>\n",
              "      <td>Toy Story</td>\n",
              "      <td>False</td>\n",
              "      <td>7.7</td>\n",
              "      <td>5415.0</td>\n",
              "      <td>Toy Story Collection</td>\n",
              "    </tr>\n",
              "    <tr>\n",
              "      <th>1</th>\n",
              "      <td>False</td>\n",
              "      <td>65000000</td>\n",
              "      <td>[{'id': 12, 'name': 'Adventure'}, {'id': 14, '...</td>\n",
              "      <td>NaN</td>\n",
              "      <td>8844</td>\n",
              "      <td>tt0113497</td>\n",
              "      <td>en</td>\n",
              "      <td>Jumanji</td>\n",
              "      <td>When siblings Judy and Peter discover an encha...</td>\n",
              "      <td>17.015539</td>\n",
              "      <td>...</td>\n",
              "      <td>262797249.0</td>\n",
              "      <td>104.0</td>\n",
              "      <td>[{'iso_639_1': 'en', 'name': 'English'}, {'iso...</td>\n",
              "      <td>Released</td>\n",
              "      <td>Roll the dice and unleash the excitement!</td>\n",
              "      <td>Jumanji</td>\n",
              "      <td>False</td>\n",
              "      <td>6.9</td>\n",
              "      <td>2413.0</td>\n",
              "      <td>No Collection</td>\n",
              "    </tr>\n",
              "    <tr>\n",
              "      <th>2</th>\n",
              "      <td>False</td>\n",
              "      <td>0</td>\n",
              "      <td>[{'id': 10749, 'name': 'Romance'}, {'id': 35, ...</td>\n",
              "      <td>NaN</td>\n",
              "      <td>15602</td>\n",
              "      <td>tt0113228</td>\n",
              "      <td>en</td>\n",
              "      <td>Grumpier Old Men</td>\n",
              "      <td>A family wedding reignites the ancient feud be...</td>\n",
              "      <td>11.7129</td>\n",
              "      <td>...</td>\n",
              "      <td>0.0</td>\n",
              "      <td>101.0</td>\n",
              "      <td>[{'iso_639_1': 'en', 'name': 'English'}]</td>\n",
              "      <td>Released</td>\n",
              "      <td>Still Yelling. Still Fighting. Still Ready for...</td>\n",
              "      <td>Grumpier Old Men</td>\n",
              "      <td>False</td>\n",
              "      <td>6.5</td>\n",
              "      <td>92.0</td>\n",
              "      <td>Grumpy Old Men Collection</td>\n",
              "    </tr>\n",
              "    <tr>\n",
              "      <th>3</th>\n",
              "      <td>False</td>\n",
              "      <td>16000000</td>\n",
              "      <td>[{'id': 35, 'name': 'Comedy'}, {'id': 18, 'nam...</td>\n",
              "      <td>NaN</td>\n",
              "      <td>31357</td>\n",
              "      <td>tt0114885</td>\n",
              "      <td>en</td>\n",
              "      <td>Waiting to Exhale</td>\n",
              "      <td>Cheated on, mistreated and stepped on, the wom...</td>\n",
              "      <td>3.859495</td>\n",
              "      <td>...</td>\n",
              "      <td>81452156.0</td>\n",
              "      <td>127.0</td>\n",
              "      <td>[{'iso_639_1': 'en', 'name': 'English'}]</td>\n",
              "      <td>Released</td>\n",
              "      <td>Friends are the people who let you be yourself...</td>\n",
              "      <td>Waiting to Exhale</td>\n",
              "      <td>False</td>\n",
              "      <td>6.1</td>\n",
              "      <td>34.0</td>\n",
              "      <td>No Collection</td>\n",
              "    </tr>\n",
              "    <tr>\n",
              "      <th>4</th>\n",
              "      <td>False</td>\n",
              "      <td>0</td>\n",
              "      <td>[{'id': 35, 'name': 'Comedy'}]</td>\n",
              "      <td>NaN</td>\n",
              "      <td>11862</td>\n",
              "      <td>tt0113041</td>\n",
              "      <td>en</td>\n",
              "      <td>Father of the Bride Part II</td>\n",
              "      <td>Just when George Banks has recovered from his ...</td>\n",
              "      <td>8.387519</td>\n",
              "      <td>...</td>\n",
              "      <td>76578911.0</td>\n",
              "      <td>106.0</td>\n",
              "      <td>[{'iso_639_1': 'en', 'name': 'English'}]</td>\n",
              "      <td>Released</td>\n",
              "      <td>Just When His World Is Back To Normal... He's ...</td>\n",
              "      <td>Father of the Bride Part II</td>\n",
              "      <td>False</td>\n",
              "      <td>5.7</td>\n",
              "      <td>173.0</td>\n",
              "      <td>Father of the Bride Collection</td>\n",
              "    </tr>\n",
              "    <tr>\n",
              "      <th>...</th>\n",
              "      <td>...</td>\n",
              "      <td>...</td>\n",
              "      <td>...</td>\n",
              "      <td>...</td>\n",
              "      <td>...</td>\n",
              "      <td>...</td>\n",
              "      <td>...</td>\n",
              "      <td>...</td>\n",
              "      <td>...</td>\n",
              "      <td>...</td>\n",
              "      <td>...</td>\n",
              "      <td>...</td>\n",
              "      <td>...</td>\n",
              "      <td>...</td>\n",
              "      <td>...</td>\n",
              "      <td>...</td>\n",
              "      <td>...</td>\n",
              "      <td>...</td>\n",
              "      <td>...</td>\n",
              "      <td>...</td>\n",
              "      <td>...</td>\n",
              "    </tr>\n",
              "    <tr>\n",
              "      <th>45461</th>\n",
              "      <td>False</td>\n",
              "      <td>0</td>\n",
              "      <td>[{'id': 18, 'name': 'Drama'}, {'id': 10751, 'n...</td>\n",
              "      <td>http://www.imdb.com/title/tt6209470/</td>\n",
              "      <td>439050</td>\n",
              "      <td>tt6209470</td>\n",
              "      <td>fa</td>\n",
              "      <td>رگ خواب</td>\n",
              "      <td>Rising and falling between a man and woman.</td>\n",
              "      <td>0.072051</td>\n",
              "      <td>...</td>\n",
              "      <td>0.0</td>\n",
              "      <td>90.0</td>\n",
              "      <td>[{'iso_639_1': 'fa', 'name': 'فارسی'}]</td>\n",
              "      <td>Released</td>\n",
              "      <td>Rising and falling between a man and woman</td>\n",
              "      <td>Subdue</td>\n",
              "      <td>False</td>\n",
              "      <td>4.0</td>\n",
              "      <td>1.0</td>\n",
              "      <td>No Collection</td>\n",
              "    </tr>\n",
              "    <tr>\n",
              "      <th>45462</th>\n",
              "      <td>False</td>\n",
              "      <td>0</td>\n",
              "      <td>[{'id': 18, 'name': 'Drama'}]</td>\n",
              "      <td>NaN</td>\n",
              "      <td>111109</td>\n",
              "      <td>tt2028550</td>\n",
              "      <td>tl</td>\n",
              "      <td>Siglo ng Pagluluwal</td>\n",
              "      <td>An artist struggles to finish his work while a...</td>\n",
              "      <td>0.178241</td>\n",
              "      <td>...</td>\n",
              "      <td>0.0</td>\n",
              "      <td>360.0</td>\n",
              "      <td>[{'iso_639_1': 'tl', 'name': ''}]</td>\n",
              "      <td>Released</td>\n",
              "      <td>NaN</td>\n",
              "      <td>Century of Birthing</td>\n",
              "      <td>False</td>\n",
              "      <td>9.0</td>\n",
              "      <td>3.0</td>\n",
              "      <td>No Collection</td>\n",
              "    </tr>\n",
              "    <tr>\n",
              "      <th>45463</th>\n",
              "      <td>False</td>\n",
              "      <td>0</td>\n",
              "      <td>[{'id': 28, 'name': 'Action'}, {'id': 18, 'nam...</td>\n",
              "      <td>NaN</td>\n",
              "      <td>67758</td>\n",
              "      <td>tt0303758</td>\n",
              "      <td>en</td>\n",
              "      <td>Betrayal</td>\n",
              "      <td>When one of her hits goes wrong, a professiona...</td>\n",
              "      <td>0.903007</td>\n",
              "      <td>...</td>\n",
              "      <td>0.0</td>\n",
              "      <td>90.0</td>\n",
              "      <td>[{'iso_639_1': 'en', 'name': 'English'}]</td>\n",
              "      <td>Released</td>\n",
              "      <td>A deadly game of wits.</td>\n",
              "      <td>Betrayal</td>\n",
              "      <td>False</td>\n",
              "      <td>3.8</td>\n",
              "      <td>6.0</td>\n",
              "      <td>No Collection</td>\n",
              "    </tr>\n",
              "    <tr>\n",
              "      <th>45464</th>\n",
              "      <td>False</td>\n",
              "      <td>0</td>\n",
              "      <td>[]</td>\n",
              "      <td>NaN</td>\n",
              "      <td>227506</td>\n",
              "      <td>tt0008536</td>\n",
              "      <td>en</td>\n",
              "      <td>Satana likuyushchiy</td>\n",
              "      <td>In a small town live two brothers, one a minis...</td>\n",
              "      <td>0.003503</td>\n",
              "      <td>...</td>\n",
              "      <td>0.0</td>\n",
              "      <td>87.0</td>\n",
              "      <td>[]</td>\n",
              "      <td>Released</td>\n",
              "      <td>NaN</td>\n",
              "      <td>Satan Triumphant</td>\n",
              "      <td>False</td>\n",
              "      <td>0.0</td>\n",
              "      <td>0.0</td>\n",
              "      <td>No Collection</td>\n",
              "    </tr>\n",
              "    <tr>\n",
              "      <th>45465</th>\n",
              "      <td>False</td>\n",
              "      <td>0</td>\n",
              "      <td>[]</td>\n",
              "      <td>NaN</td>\n",
              "      <td>461257</td>\n",
              "      <td>tt6980792</td>\n",
              "      <td>en</td>\n",
              "      <td>Queerama</td>\n",
              "      <td>50 years after decriminalisation of homosexual...</td>\n",
              "      <td>0.163015</td>\n",
              "      <td>...</td>\n",
              "      <td>0.0</td>\n",
              "      <td>75.0</td>\n",
              "      <td>[{'iso_639_1': 'en', 'name': 'English'}]</td>\n",
              "      <td>Released</td>\n",
              "      <td>NaN</td>\n",
              "      <td>Queerama</td>\n",
              "      <td>False</td>\n",
              "      <td>0.0</td>\n",
              "      <td>0.0</td>\n",
              "      <td>No Collection</td>\n",
              "    </tr>\n",
              "  </tbody>\n",
              "</table>\n",
              "<p>45463 rows × 24 columns</p>\n",
              "</div>\n",
              "      <button class=\"colab-df-convert\" onclick=\"convertToInteractive('df-0165d53e-5a21-496c-83d9-1141f12894f2')\"\n",
              "              title=\"Convert this dataframe to an interactive table.\"\n",
              "              style=\"display:none;\">\n",
              "        \n",
              "  <svg xmlns=\"http://www.w3.org/2000/svg\" height=\"24px\"viewBox=\"0 0 24 24\"\n",
              "       width=\"24px\">\n",
              "    <path d=\"M0 0h24v24H0V0z\" fill=\"none\"/>\n",
              "    <path d=\"M18.56 5.44l.94 2.06.94-2.06 2.06-.94-2.06-.94-.94-2.06-.94 2.06-2.06.94zm-11 1L8.5 8.5l.94-2.06 2.06-.94-2.06-.94L8.5 2.5l-.94 2.06-2.06.94zm10 10l.94 2.06.94-2.06 2.06-.94-2.06-.94-.94-2.06-.94 2.06-2.06.94z\"/><path d=\"M17.41 7.96l-1.37-1.37c-.4-.4-.92-.59-1.43-.59-.52 0-1.04.2-1.43.59L10.3 9.45l-7.72 7.72c-.78.78-.78 2.05 0 2.83L4 21.41c.39.39.9.59 1.41.59.51 0 1.02-.2 1.41-.59l7.78-7.78 2.81-2.81c.8-.78.8-2.07 0-2.86zM5.41 20L4 18.59l7.72-7.72 1.47 1.35L5.41 20z\"/>\n",
              "  </svg>\n",
              "      </button>\n",
              "      \n",
              "  <style>\n",
              "    .colab-df-container {\n",
              "      display:flex;\n",
              "      flex-wrap:wrap;\n",
              "      gap: 12px;\n",
              "    }\n",
              "\n",
              "    .colab-df-convert {\n",
              "      background-color: #E8F0FE;\n",
              "      border: none;\n",
              "      border-radius: 50%;\n",
              "      cursor: pointer;\n",
              "      display: none;\n",
              "      fill: #1967D2;\n",
              "      height: 32px;\n",
              "      padding: 0 0 0 0;\n",
              "      width: 32px;\n",
              "    }\n",
              "\n",
              "    .colab-df-convert:hover {\n",
              "      background-color: #E2EBFA;\n",
              "      box-shadow: 0px 1px 2px rgba(60, 64, 67, 0.3), 0px 1px 3px 1px rgba(60, 64, 67, 0.15);\n",
              "      fill: #174EA6;\n",
              "    }\n",
              "\n",
              "    [theme=dark] .colab-df-convert {\n",
              "      background-color: #3B4455;\n",
              "      fill: #D2E3FC;\n",
              "    }\n",
              "\n",
              "    [theme=dark] .colab-df-convert:hover {\n",
              "      background-color: #434B5C;\n",
              "      box-shadow: 0px 1px 3px 1px rgba(0, 0, 0, 0.15);\n",
              "      filter: drop-shadow(0px 1px 2px rgba(0, 0, 0, 0.3));\n",
              "      fill: #FFFFFF;\n",
              "    }\n",
              "  </style>\n",
              "\n",
              "      <script>\n",
              "        const buttonEl =\n",
              "          document.querySelector('#df-0165d53e-5a21-496c-83d9-1141f12894f2 button.colab-df-convert');\n",
              "        buttonEl.style.display =\n",
              "          google.colab.kernel.accessAllowed ? 'block' : 'none';\n",
              "\n",
              "        async function convertToInteractive(key) {\n",
              "          const element = document.querySelector('#df-0165d53e-5a21-496c-83d9-1141f12894f2');\n",
              "          const dataTable =\n",
              "            await google.colab.kernel.invokeFunction('convertToInteractive',\n",
              "                                                     [key], {});\n",
              "          if (!dataTable) return;\n",
              "\n",
              "          const docLinkHtml = 'Like what you see? Visit the ' +\n",
              "            '<a target=\"_blank\" href=https://colab.research.google.com/notebooks/data_table.ipynb>data table notebook</a>'\n",
              "            + ' to learn more about interactive tables.';\n",
              "          element.innerHTML = '';\n",
              "          dataTable['output_type'] = 'display_data';\n",
              "          await google.colab.output.renderOutput(dataTable, element);\n",
              "          const docLink = document.createElement('div');\n",
              "          docLink.innerHTML = docLinkHtml;\n",
              "          element.appendChild(docLink);\n",
              "        }\n",
              "      </script>\n",
              "    </div>\n",
              "  </div>\n",
              "  "
            ]
          },
          "metadata": {},
          "execution_count": 31
        }
      ]
    },
    {
      "cell_type": "markdown",
      "metadata": {
        "id": "jbG4ack_TNjP"
      },
      "source": [
        "# Budget"
      ]
    },
    {
      "cell_type": "code",
      "source": [
        "data.budget.values[0]"
      ],
      "metadata": {
        "colab": {
          "base_uri": "https://localhost:8080/",
          "height": 35
        },
        "id": "ehmed_Vj0TZH",
        "outputId": "c2e846c9-bfe8-48c8-937b-3a12bb0da3bc"
      },
      "execution_count": null,
      "outputs": [
        {
          "output_type": "execute_result",
          "data": {
            "text/plain": [
              "'30000000'"
            ],
            "application/vnd.google.colaboratory.intrinsic+json": {
              "type": "string"
            }
          },
          "metadata": {},
          "execution_count": 32
        }
      ]
    },
    {
      "cell_type": "code",
      "metadata": {
        "colab": {
          "base_uri": "https://localhost:8080/"
        },
        "id": "oyinwbJQTO-l",
        "outputId": "86213461-bca4-4508-d3ff-88c1b70a25b0"
      },
      "source": [
        "data.budget = data.budget.astype('int64') # explicilty type casting\n",
        "data.budget.describe() #summary stats"
      ],
      "execution_count": null,
      "outputs": [
        {
          "output_type": "execute_result",
          "data": {
            "text/plain": [
              "count    4.546300e+04\n",
              "mean     4.224579e+06\n",
              "std      1.742413e+07\n",
              "min      0.000000e+00\n",
              "25%      0.000000e+00\n",
              "50%      0.000000e+00\n",
              "75%      0.000000e+00\n",
              "max      3.800000e+08\n",
              "Name: budget, dtype: float64"
            ]
          },
          "metadata": {},
          "execution_count": 33
        }
      ]
    },
    {
      "cell_type": "code",
      "source": [
        "sum(data.budget == 0)"
      ],
      "metadata": {
        "colab": {
          "base_uri": "https://localhost:8080/"
        },
        "id": "BYOnLw_607ud",
        "outputId": "9ee17c24-227f-4ada-d25a-9f7bae98cc45"
      },
      "execution_count": null,
      "outputs": [
        {
          "output_type": "execute_result",
          "data": {
            "text/plain": [
              "36573"
            ]
          },
          "metadata": {},
          "execution_count": 22
        }
      ]
    },
    {
      "cell_type": "code",
      "source": [
        "data.shape[0]"
      ],
      "metadata": {
        "colab": {
          "base_uri": "https://localhost:8080/"
        },
        "id": "9rR-ACvi1Q9K",
        "outputId": "c54245d2-860e-4777-a630-e62a1f10feee"
      },
      "execution_count": null,
      "outputs": [
        {
          "output_type": "execute_result",
          "data": {
            "text/plain": [
              "45463"
            ]
          },
          "metadata": {},
          "execution_count": 23
        }
      ]
    },
    {
      "cell_type": "code",
      "metadata": {
        "colab": {
          "base_uri": "https://localhost:8080/"
        },
        "id": "TkO_ZZ1kTprx",
        "outputId": "1858f267-d021-4d56-a73a-945b972e3c91"
      },
      "source": [
        "sum(data.budget == 0)*100/data.shape[0]"
      ],
      "execution_count": null,
      "outputs": [
        {
          "output_type": "execute_result",
          "data": {
            "text/plain": [
              "80.44563711149726"
            ]
          },
          "metadata": {},
          "execution_count": 34
        }
      ]
    },
    {
      "cell_type": "markdown",
      "metadata": {
        "id": "Z1LjUwL8riEF"
      },
      "source": [
        "1) Dont use budget\n",
        "2) Try to look for some other dataset where these details are available\n",
        "3) Bite the bullet and only do analysis with the rest of the data"
      ]
    },
    {
      "cell_type": "code",
      "metadata": {
        "colab": {
          "base_uri": "https://localhost:8080/",
          "height": 1000
        },
        "id": "UZxR1PdNdkQ3",
        "outputId": "34e63c67-9202-4180-d854-6ab91864fc2d"
      },
      "source": [
        "data"
      ],
      "execution_count": null,
      "outputs": [
        {
          "output_type": "execute_result",
          "data": {
            "text/plain": [
              "       adult    budget                                             genres  \\\n",
              "0      False  30000000  [{'id': 16, 'name': 'Animation'}, {'id': 35, '...   \n",
              "1      False  65000000  [{'id': 12, 'name': 'Adventure'}, {'id': 14, '...   \n",
              "2      False         0  [{'id': 10749, 'name': 'Romance'}, {'id': 35, ...   \n",
              "3      False  16000000  [{'id': 35, 'name': 'Comedy'}, {'id': 18, 'nam...   \n",
              "4      False         0                     [{'id': 35, 'name': 'Comedy'}]   \n",
              "...      ...       ...                                                ...   \n",
              "45461  False         0  [{'id': 18, 'name': 'Drama'}, {'id': 10751, 'n...   \n",
              "45462  False         0                      [{'id': 18, 'name': 'Drama'}]   \n",
              "45463  False         0  [{'id': 28, 'name': 'Action'}, {'id': 18, 'nam...   \n",
              "45464  False         0                                                 []   \n",
              "45465  False         0                                                 []   \n",
              "\n",
              "                                   homepage      id    imdb_id  \\\n",
              "0      http://toystory.disney.com/toy-story     862  tt0114709   \n",
              "1                                       NaN    8844  tt0113497   \n",
              "2                                       NaN   15602  tt0113228   \n",
              "3                                       NaN   31357  tt0114885   \n",
              "4                                       NaN   11862  tt0113041   \n",
              "...                                     ...     ...        ...   \n",
              "45461  http://www.imdb.com/title/tt6209470/  439050  tt6209470   \n",
              "45462                                   NaN  111109  tt2028550   \n",
              "45463                                   NaN   67758  tt0303758   \n",
              "45464                                   NaN  227506  tt0008536   \n",
              "45465                                   NaN  461257  tt6980792   \n",
              "\n",
              "      original_language               original_title  \\\n",
              "0                    en                    Toy Story   \n",
              "1                    en                      Jumanji   \n",
              "2                    en             Grumpier Old Men   \n",
              "3                    en            Waiting to Exhale   \n",
              "4                    en  Father of the Bride Part II   \n",
              "...                 ...                          ...   \n",
              "45461                fa                      رگ خواب   \n",
              "45462                tl          Siglo ng Pagluluwal   \n",
              "45463                en                     Betrayal   \n",
              "45464                en          Satana likuyushchiy   \n",
              "45465                en                     Queerama   \n",
              "\n",
              "                                                overview popularity  ...  \\\n",
              "0      Led by Woody, Andy's toys live happily in his ...  21.946943  ...   \n",
              "1      When siblings Judy and Peter discover an encha...  17.015539  ...   \n",
              "2      A family wedding reignites the ancient feud be...    11.7129  ...   \n",
              "3      Cheated on, mistreated and stepped on, the wom...   3.859495  ...   \n",
              "4      Just when George Banks has recovered from his ...   8.387519  ...   \n",
              "...                                                  ...        ...  ...   \n",
              "45461        Rising and falling between a man and woman.   0.072051  ...   \n",
              "45462  An artist struggles to finish his work while a...   0.178241  ...   \n",
              "45463  When one of her hits goes wrong, a professiona...   0.903007  ...   \n",
              "45464  In a small town live two brothers, one a minis...   0.003503  ...   \n",
              "45465  50 years after decriminalisation of homosexual...   0.163015  ...   \n",
              "\n",
              "           revenue runtime                                   spoken_languages  \\\n",
              "0      373554033.0    81.0           [{'iso_639_1': 'en', 'name': 'English'}]   \n",
              "1      262797249.0   104.0  [{'iso_639_1': 'en', 'name': 'English'}, {'iso...   \n",
              "2              0.0   101.0           [{'iso_639_1': 'en', 'name': 'English'}]   \n",
              "3       81452156.0   127.0           [{'iso_639_1': 'en', 'name': 'English'}]   \n",
              "4       76578911.0   106.0           [{'iso_639_1': 'en', 'name': 'English'}]   \n",
              "...            ...     ...                                                ...   \n",
              "45461          0.0    90.0             [{'iso_639_1': 'fa', 'name': 'فارسی'}]   \n",
              "45462          0.0   360.0                  [{'iso_639_1': 'tl', 'name': ''}]   \n",
              "45463          0.0    90.0           [{'iso_639_1': 'en', 'name': 'English'}]   \n",
              "45464          0.0    87.0                                                 []   \n",
              "45465          0.0    75.0           [{'iso_639_1': 'en', 'name': 'English'}]   \n",
              "\n",
              "         status                                            tagline  \\\n",
              "0      Released                                                NaN   \n",
              "1      Released          Roll the dice and unleash the excitement!   \n",
              "2      Released  Still Yelling. Still Fighting. Still Ready for...   \n",
              "3      Released  Friends are the people who let you be yourself...   \n",
              "4      Released  Just When His World Is Back To Normal... He's ...   \n",
              "...         ...                                                ...   \n",
              "45461  Released         Rising and falling between a man and woman   \n",
              "45462  Released                                                NaN   \n",
              "45463  Released                             A deadly game of wits.   \n",
              "45464  Released                                                NaN   \n",
              "45465  Released                                                NaN   \n",
              "\n",
              "                             title  video vote_average vote_count  \\\n",
              "0                        Toy Story  False          7.7     5415.0   \n",
              "1                          Jumanji  False          6.9     2413.0   \n",
              "2                 Grumpier Old Men  False          6.5       92.0   \n",
              "3                Waiting to Exhale  False          6.1       34.0   \n",
              "4      Father of the Bride Part II  False          5.7      173.0   \n",
              "...                            ...    ...          ...        ...   \n",
              "45461                       Subdue  False          4.0        1.0   \n",
              "45462          Century of Birthing  False          9.0        3.0   \n",
              "45463                     Betrayal  False          3.8        6.0   \n",
              "45464             Satan Triumphant  False          0.0        0.0   \n",
              "45465                     Queerama  False          0.0        0.0   \n",
              "\n",
              "                       collectionName  \n",
              "0                Toy Story Collection  \n",
              "1                       No Collection  \n",
              "2           Grumpy Old Men Collection  \n",
              "3                       No Collection  \n",
              "4      Father of the Bride Collection  \n",
              "...                               ...  \n",
              "45461                   No Collection  \n",
              "45462                   No Collection  \n",
              "45463                   No Collection  \n",
              "45464                   No Collection  \n",
              "45465                   No Collection  \n",
              "\n",
              "[45463 rows x 24 columns]"
            ],
            "text/html": [
              "\n",
              "  <div id=\"df-32f512d7-c6d8-45e2-af14-fccc9b1621f9\">\n",
              "    <div class=\"colab-df-container\">\n",
              "      <div>\n",
              "<style scoped>\n",
              "    .dataframe tbody tr th:only-of-type {\n",
              "        vertical-align: middle;\n",
              "    }\n",
              "\n",
              "    .dataframe tbody tr th {\n",
              "        vertical-align: top;\n",
              "    }\n",
              "\n",
              "    .dataframe thead th {\n",
              "        text-align: right;\n",
              "    }\n",
              "</style>\n",
              "<table border=\"1\" class=\"dataframe\">\n",
              "  <thead>\n",
              "    <tr style=\"text-align: right;\">\n",
              "      <th></th>\n",
              "      <th>adult</th>\n",
              "      <th>budget</th>\n",
              "      <th>genres</th>\n",
              "      <th>homepage</th>\n",
              "      <th>id</th>\n",
              "      <th>imdb_id</th>\n",
              "      <th>original_language</th>\n",
              "      <th>original_title</th>\n",
              "      <th>overview</th>\n",
              "      <th>popularity</th>\n",
              "      <th>...</th>\n",
              "      <th>revenue</th>\n",
              "      <th>runtime</th>\n",
              "      <th>spoken_languages</th>\n",
              "      <th>status</th>\n",
              "      <th>tagline</th>\n",
              "      <th>title</th>\n",
              "      <th>video</th>\n",
              "      <th>vote_average</th>\n",
              "      <th>vote_count</th>\n",
              "      <th>collectionName</th>\n",
              "    </tr>\n",
              "  </thead>\n",
              "  <tbody>\n",
              "    <tr>\n",
              "      <th>0</th>\n",
              "      <td>False</td>\n",
              "      <td>30000000</td>\n",
              "      <td>[{'id': 16, 'name': 'Animation'}, {'id': 35, '...</td>\n",
              "      <td>http://toystory.disney.com/toy-story</td>\n",
              "      <td>862</td>\n",
              "      <td>tt0114709</td>\n",
              "      <td>en</td>\n",
              "      <td>Toy Story</td>\n",
              "      <td>Led by Woody, Andy's toys live happily in his ...</td>\n",
              "      <td>21.946943</td>\n",
              "      <td>...</td>\n",
              "      <td>373554033.0</td>\n",
              "      <td>81.0</td>\n",
              "      <td>[{'iso_639_1': 'en', 'name': 'English'}]</td>\n",
              "      <td>Released</td>\n",
              "      <td>NaN</td>\n",
              "      <td>Toy Story</td>\n",
              "      <td>False</td>\n",
              "      <td>7.7</td>\n",
              "      <td>5415.0</td>\n",
              "      <td>Toy Story Collection</td>\n",
              "    </tr>\n",
              "    <tr>\n",
              "      <th>1</th>\n",
              "      <td>False</td>\n",
              "      <td>65000000</td>\n",
              "      <td>[{'id': 12, 'name': 'Adventure'}, {'id': 14, '...</td>\n",
              "      <td>NaN</td>\n",
              "      <td>8844</td>\n",
              "      <td>tt0113497</td>\n",
              "      <td>en</td>\n",
              "      <td>Jumanji</td>\n",
              "      <td>When siblings Judy and Peter discover an encha...</td>\n",
              "      <td>17.015539</td>\n",
              "      <td>...</td>\n",
              "      <td>262797249.0</td>\n",
              "      <td>104.0</td>\n",
              "      <td>[{'iso_639_1': 'en', 'name': 'English'}, {'iso...</td>\n",
              "      <td>Released</td>\n",
              "      <td>Roll the dice and unleash the excitement!</td>\n",
              "      <td>Jumanji</td>\n",
              "      <td>False</td>\n",
              "      <td>6.9</td>\n",
              "      <td>2413.0</td>\n",
              "      <td>No Collection</td>\n",
              "    </tr>\n",
              "    <tr>\n",
              "      <th>2</th>\n",
              "      <td>False</td>\n",
              "      <td>0</td>\n",
              "      <td>[{'id': 10749, 'name': 'Romance'}, {'id': 35, ...</td>\n",
              "      <td>NaN</td>\n",
              "      <td>15602</td>\n",
              "      <td>tt0113228</td>\n",
              "      <td>en</td>\n",
              "      <td>Grumpier Old Men</td>\n",
              "      <td>A family wedding reignites the ancient feud be...</td>\n",
              "      <td>11.7129</td>\n",
              "      <td>...</td>\n",
              "      <td>0.0</td>\n",
              "      <td>101.0</td>\n",
              "      <td>[{'iso_639_1': 'en', 'name': 'English'}]</td>\n",
              "      <td>Released</td>\n",
              "      <td>Still Yelling. Still Fighting. Still Ready for...</td>\n",
              "      <td>Grumpier Old Men</td>\n",
              "      <td>False</td>\n",
              "      <td>6.5</td>\n",
              "      <td>92.0</td>\n",
              "      <td>Grumpy Old Men Collection</td>\n",
              "    </tr>\n",
              "    <tr>\n",
              "      <th>3</th>\n",
              "      <td>False</td>\n",
              "      <td>16000000</td>\n",
              "      <td>[{'id': 35, 'name': 'Comedy'}, {'id': 18, 'nam...</td>\n",
              "      <td>NaN</td>\n",
              "      <td>31357</td>\n",
              "      <td>tt0114885</td>\n",
              "      <td>en</td>\n",
              "      <td>Waiting to Exhale</td>\n",
              "      <td>Cheated on, mistreated and stepped on, the wom...</td>\n",
              "      <td>3.859495</td>\n",
              "      <td>...</td>\n",
              "      <td>81452156.0</td>\n",
              "      <td>127.0</td>\n",
              "      <td>[{'iso_639_1': 'en', 'name': 'English'}]</td>\n",
              "      <td>Released</td>\n",
              "      <td>Friends are the people who let you be yourself...</td>\n",
              "      <td>Waiting to Exhale</td>\n",
              "      <td>False</td>\n",
              "      <td>6.1</td>\n",
              "      <td>34.0</td>\n",
              "      <td>No Collection</td>\n",
              "    </tr>\n",
              "    <tr>\n",
              "      <th>4</th>\n",
              "      <td>False</td>\n",
              "      <td>0</td>\n",
              "      <td>[{'id': 35, 'name': 'Comedy'}]</td>\n",
              "      <td>NaN</td>\n",
              "      <td>11862</td>\n",
              "      <td>tt0113041</td>\n",
              "      <td>en</td>\n",
              "      <td>Father of the Bride Part II</td>\n",
              "      <td>Just when George Banks has recovered from his ...</td>\n",
              "      <td>8.387519</td>\n",
              "      <td>...</td>\n",
              "      <td>76578911.0</td>\n",
              "      <td>106.0</td>\n",
              "      <td>[{'iso_639_1': 'en', 'name': 'English'}]</td>\n",
              "      <td>Released</td>\n",
              "      <td>Just When His World Is Back To Normal... He's ...</td>\n",
              "      <td>Father of the Bride Part II</td>\n",
              "      <td>False</td>\n",
              "      <td>5.7</td>\n",
              "      <td>173.0</td>\n",
              "      <td>Father of the Bride Collection</td>\n",
              "    </tr>\n",
              "    <tr>\n",
              "      <th>...</th>\n",
              "      <td>...</td>\n",
              "      <td>...</td>\n",
              "      <td>...</td>\n",
              "      <td>...</td>\n",
              "      <td>...</td>\n",
              "      <td>...</td>\n",
              "      <td>...</td>\n",
              "      <td>...</td>\n",
              "      <td>...</td>\n",
              "      <td>...</td>\n",
              "      <td>...</td>\n",
              "      <td>...</td>\n",
              "      <td>...</td>\n",
              "      <td>...</td>\n",
              "      <td>...</td>\n",
              "      <td>...</td>\n",
              "      <td>...</td>\n",
              "      <td>...</td>\n",
              "      <td>...</td>\n",
              "      <td>...</td>\n",
              "      <td>...</td>\n",
              "    </tr>\n",
              "    <tr>\n",
              "      <th>45461</th>\n",
              "      <td>False</td>\n",
              "      <td>0</td>\n",
              "      <td>[{'id': 18, 'name': 'Drama'}, {'id': 10751, 'n...</td>\n",
              "      <td>http://www.imdb.com/title/tt6209470/</td>\n",
              "      <td>439050</td>\n",
              "      <td>tt6209470</td>\n",
              "      <td>fa</td>\n",
              "      <td>رگ خواب</td>\n",
              "      <td>Rising and falling between a man and woman.</td>\n",
              "      <td>0.072051</td>\n",
              "      <td>...</td>\n",
              "      <td>0.0</td>\n",
              "      <td>90.0</td>\n",
              "      <td>[{'iso_639_1': 'fa', 'name': 'فارسی'}]</td>\n",
              "      <td>Released</td>\n",
              "      <td>Rising and falling between a man and woman</td>\n",
              "      <td>Subdue</td>\n",
              "      <td>False</td>\n",
              "      <td>4.0</td>\n",
              "      <td>1.0</td>\n",
              "      <td>No Collection</td>\n",
              "    </tr>\n",
              "    <tr>\n",
              "      <th>45462</th>\n",
              "      <td>False</td>\n",
              "      <td>0</td>\n",
              "      <td>[{'id': 18, 'name': 'Drama'}]</td>\n",
              "      <td>NaN</td>\n",
              "      <td>111109</td>\n",
              "      <td>tt2028550</td>\n",
              "      <td>tl</td>\n",
              "      <td>Siglo ng Pagluluwal</td>\n",
              "      <td>An artist struggles to finish his work while a...</td>\n",
              "      <td>0.178241</td>\n",
              "      <td>...</td>\n",
              "      <td>0.0</td>\n",
              "      <td>360.0</td>\n",
              "      <td>[{'iso_639_1': 'tl', 'name': ''}]</td>\n",
              "      <td>Released</td>\n",
              "      <td>NaN</td>\n",
              "      <td>Century of Birthing</td>\n",
              "      <td>False</td>\n",
              "      <td>9.0</td>\n",
              "      <td>3.0</td>\n",
              "      <td>No Collection</td>\n",
              "    </tr>\n",
              "    <tr>\n",
              "      <th>45463</th>\n",
              "      <td>False</td>\n",
              "      <td>0</td>\n",
              "      <td>[{'id': 28, 'name': 'Action'}, {'id': 18, 'nam...</td>\n",
              "      <td>NaN</td>\n",
              "      <td>67758</td>\n",
              "      <td>tt0303758</td>\n",
              "      <td>en</td>\n",
              "      <td>Betrayal</td>\n",
              "      <td>When one of her hits goes wrong, a professiona...</td>\n",
              "      <td>0.903007</td>\n",
              "      <td>...</td>\n",
              "      <td>0.0</td>\n",
              "      <td>90.0</td>\n",
              "      <td>[{'iso_639_1': 'en', 'name': 'English'}]</td>\n",
              "      <td>Released</td>\n",
              "      <td>A deadly game of wits.</td>\n",
              "      <td>Betrayal</td>\n",
              "      <td>False</td>\n",
              "      <td>3.8</td>\n",
              "      <td>6.0</td>\n",
              "      <td>No Collection</td>\n",
              "    </tr>\n",
              "    <tr>\n",
              "      <th>45464</th>\n",
              "      <td>False</td>\n",
              "      <td>0</td>\n",
              "      <td>[]</td>\n",
              "      <td>NaN</td>\n",
              "      <td>227506</td>\n",
              "      <td>tt0008536</td>\n",
              "      <td>en</td>\n",
              "      <td>Satana likuyushchiy</td>\n",
              "      <td>In a small town live two brothers, one a minis...</td>\n",
              "      <td>0.003503</td>\n",
              "      <td>...</td>\n",
              "      <td>0.0</td>\n",
              "      <td>87.0</td>\n",
              "      <td>[]</td>\n",
              "      <td>Released</td>\n",
              "      <td>NaN</td>\n",
              "      <td>Satan Triumphant</td>\n",
              "      <td>False</td>\n",
              "      <td>0.0</td>\n",
              "      <td>0.0</td>\n",
              "      <td>No Collection</td>\n",
              "    </tr>\n",
              "    <tr>\n",
              "      <th>45465</th>\n",
              "      <td>False</td>\n",
              "      <td>0</td>\n",
              "      <td>[]</td>\n",
              "      <td>NaN</td>\n",
              "      <td>461257</td>\n",
              "      <td>tt6980792</td>\n",
              "      <td>en</td>\n",
              "      <td>Queerama</td>\n",
              "      <td>50 years after decriminalisation of homosexual...</td>\n",
              "      <td>0.163015</td>\n",
              "      <td>...</td>\n",
              "      <td>0.0</td>\n",
              "      <td>75.0</td>\n",
              "      <td>[{'iso_639_1': 'en', 'name': 'English'}]</td>\n",
              "      <td>Released</td>\n",
              "      <td>NaN</td>\n",
              "      <td>Queerama</td>\n",
              "      <td>False</td>\n",
              "      <td>0.0</td>\n",
              "      <td>0.0</td>\n",
              "      <td>No Collection</td>\n",
              "    </tr>\n",
              "  </tbody>\n",
              "</table>\n",
              "<p>45463 rows × 24 columns</p>\n",
              "</div>\n",
              "      <button class=\"colab-df-convert\" onclick=\"convertToInteractive('df-32f512d7-c6d8-45e2-af14-fccc9b1621f9')\"\n",
              "              title=\"Convert this dataframe to an interactive table.\"\n",
              "              style=\"display:none;\">\n",
              "        \n",
              "  <svg xmlns=\"http://www.w3.org/2000/svg\" height=\"24px\"viewBox=\"0 0 24 24\"\n",
              "       width=\"24px\">\n",
              "    <path d=\"M0 0h24v24H0V0z\" fill=\"none\"/>\n",
              "    <path d=\"M18.56 5.44l.94 2.06.94-2.06 2.06-.94-2.06-.94-.94-2.06-.94 2.06-2.06.94zm-11 1L8.5 8.5l.94-2.06 2.06-.94-2.06-.94L8.5 2.5l-.94 2.06-2.06.94zm10 10l.94 2.06.94-2.06 2.06-.94-2.06-.94-.94-2.06-.94 2.06-2.06.94z\"/><path d=\"M17.41 7.96l-1.37-1.37c-.4-.4-.92-.59-1.43-.59-.52 0-1.04.2-1.43.59L10.3 9.45l-7.72 7.72c-.78.78-.78 2.05 0 2.83L4 21.41c.39.39.9.59 1.41.59.51 0 1.02-.2 1.41-.59l7.78-7.78 2.81-2.81c.8-.78.8-2.07 0-2.86zM5.41 20L4 18.59l7.72-7.72 1.47 1.35L5.41 20z\"/>\n",
              "  </svg>\n",
              "      </button>\n",
              "      \n",
              "  <style>\n",
              "    .colab-df-container {\n",
              "      display:flex;\n",
              "      flex-wrap:wrap;\n",
              "      gap: 12px;\n",
              "    }\n",
              "\n",
              "    .colab-df-convert {\n",
              "      background-color: #E8F0FE;\n",
              "      border: none;\n",
              "      border-radius: 50%;\n",
              "      cursor: pointer;\n",
              "      display: none;\n",
              "      fill: #1967D2;\n",
              "      height: 32px;\n",
              "      padding: 0 0 0 0;\n",
              "      width: 32px;\n",
              "    }\n",
              "\n",
              "    .colab-df-convert:hover {\n",
              "      background-color: #E2EBFA;\n",
              "      box-shadow: 0px 1px 2px rgba(60, 64, 67, 0.3), 0px 1px 3px 1px rgba(60, 64, 67, 0.15);\n",
              "      fill: #174EA6;\n",
              "    }\n",
              "\n",
              "    [theme=dark] .colab-df-convert {\n",
              "      background-color: #3B4455;\n",
              "      fill: #D2E3FC;\n",
              "    }\n",
              "\n",
              "    [theme=dark] .colab-df-convert:hover {\n",
              "      background-color: #434B5C;\n",
              "      box-shadow: 0px 1px 3px 1px rgba(0, 0, 0, 0.15);\n",
              "      filter: drop-shadow(0px 1px 2px rgba(0, 0, 0, 0.3));\n",
              "      fill: #FFFFFF;\n",
              "    }\n",
              "  </style>\n",
              "\n",
              "      <script>\n",
              "        const buttonEl =\n",
              "          document.querySelector('#df-32f512d7-c6d8-45e2-af14-fccc9b1621f9 button.colab-df-convert');\n",
              "        buttonEl.style.display =\n",
              "          google.colab.kernel.accessAllowed ? 'block' : 'none';\n",
              "\n",
              "        async function convertToInteractive(key) {\n",
              "          const element = document.querySelector('#df-32f512d7-c6d8-45e2-af14-fccc9b1621f9');\n",
              "          const dataTable =\n",
              "            await google.colab.kernel.invokeFunction('convertToInteractive',\n",
              "                                                     [key], {});\n",
              "          if (!dataTable) return;\n",
              "\n",
              "          const docLinkHtml = 'Like what you see? Visit the ' +\n",
              "            '<a target=\"_blank\" href=https://colab.research.google.com/notebooks/data_table.ipynb>data table notebook</a>'\n",
              "            + ' to learn more about interactive tables.';\n",
              "          element.innerHTML = '';\n",
              "          dataTable['output_type'] = 'display_data';\n",
              "          await google.colab.output.renderOutput(dataTable, element);\n",
              "          const docLink = document.createElement('div');\n",
              "          docLink.innerHTML = docLinkHtml;\n",
              "          element.appendChild(docLink);\n",
              "        }\n",
              "      </script>\n",
              "    </div>\n",
              "  </div>\n",
              "  "
            ]
          },
          "metadata": {},
          "execution_count": 35
        }
      ]
    },
    {
      "cell_type": "markdown",
      "metadata": {
        "id": "nHck0Ho5T2vk"
      },
      "source": [
        "# Genres"
      ]
    },
    {
      "cell_type": "code",
      "metadata": {
        "colab": {
          "base_uri": "https://localhost:8080/",
          "height": 35
        },
        "id": "E6U8hJm22FXD",
        "outputId": "51f71beb-9317-43e3-cc6b-d58822c05dfa"
      },
      "source": [
        "data.genres.values[0] #pandas -> string, list of dictionaries"
      ],
      "execution_count": null,
      "outputs": [
        {
          "output_type": "execute_result",
          "data": {
            "text/plain": [
              "\"[{'id': 16, 'name': 'Animation'}, {'id': 35, 'name': 'Comedy'}, {'id': 10751, 'name': 'Family'}]\""
            ],
            "application/vnd.google.colaboratory.intrinsic+json": {
              "type": "string"
            }
          },
          "metadata": {},
          "execution_count": 37
        }
      ]
    },
    {
      "cell_type": "code",
      "source": [
        "data.genres.unique()"
      ],
      "metadata": {
        "colab": {
          "base_uri": "https://localhost:8080/"
        },
        "id": "qM1DS8DZ8D5f",
        "outputId": "ca41447d-c2d3-46d7-eddb-eb0c15d2cea8"
      },
      "execution_count": null,
      "outputs": [
        {
          "output_type": "execute_result",
          "data": {
            "text/plain": [
              "array([\"[{'id': 16, 'name': 'Animation'}, {'id': 35, 'name': 'Comedy'}, {'id': 10751, 'name': 'Family'}]\",\n",
              "       \"[{'id': 12, 'name': 'Adventure'}, {'id': 14, 'name': 'Fantasy'}, {'id': 10751, 'name': 'Family'}]\",\n",
              "       \"[{'id': 10749, 'name': 'Romance'}, {'id': 35, 'name': 'Comedy'}]\",\n",
              "       ...,\n",
              "       \"[{'id': 80, 'name': 'Crime'}, {'id': 35, 'name': 'Comedy'}, {'id': 28, 'name': 'Action'}, {'id': 10751, 'name': 'Family'}]\",\n",
              "       \"[{'id': 28, 'name': 'Action'}, {'id': 9648, 'name': 'Mystery'}, {'id': 53, 'name': 'Thriller'}, {'id': 27, 'name': 'Horror'}]\",\n",
              "       \"[{'id': 10751, 'name': 'Family'}, {'id': 16, 'name': 'Animation'}, {'id': 10749, 'name': 'Romance'}, {'id': 35, 'name': 'Comedy'}]\"],\n",
              "      dtype=object)"
            ]
          },
          "metadata": {},
          "execution_count": 39
        }
      ]
    },
    {
      "cell_type": "code",
      "source": [
        "ast.literal_eval(data.genres.values[0])"
      ],
      "metadata": {
        "colab": {
          "base_uri": "https://localhost:8080/"
        },
        "id": "GHQCU5FE5txg",
        "outputId": "afff445a-2fbe-4d4a-dc6d-aa61171bdb59"
      },
      "execution_count": null,
      "outputs": [
        {
          "output_type": "execute_result",
          "data": {
            "text/plain": [
              "[{'id': 16, 'name': 'Animation'},\n",
              " {'id': 35, 'name': 'Comedy'},\n",
              " {'id': 10751, 'name': 'Family'}]"
            ]
          },
          "metadata": {},
          "execution_count": 40
        }
      ]
    },
    {
      "cell_type": "markdown",
      "metadata": {
        "id": "b3JTsbNnt3VX"
      },
      "source": [
        "New Idea : Create a column for each genre - say 1 if the movie has the genre, else put 0"
      ]
    },
    {
      "cell_type": "code",
      "source": [
        "a = {1,2}\n",
        "a.add(2)\n",
        "a"
      ],
      "metadata": {
        "colab": {
          "base_uri": "https://localhost:8080/"
        },
        "id": "caVRKDjh7YkW",
        "outputId": "bdaae3b0-aef7-4a28-ec23-3e3fdf43c811"
      },
      "execution_count": null,
      "outputs": [
        {
          "output_type": "execute_result",
          "data": {
            "text/plain": [
              "{1, 2}"
            ]
          },
          "metadata": {},
          "execution_count": 41
        }
      ]
    },
    {
      "cell_type": "code",
      "source": [
        "set([1,1,1,2,3])"
      ],
      "metadata": {
        "colab": {
          "base_uri": "https://localhost:8080/"
        },
        "id": "uA_9w5dx5xTh",
        "outputId": "f3c6b924-f394-4b9c-bca8-e696fa07a567"
      },
      "execution_count": null,
      "outputs": [
        {
          "output_type": "execute_result",
          "data": {
            "text/plain": [
              "{1, 2, 3}"
            ]
          },
          "metadata": {},
          "execution_count": 42
        }
      ]
    },
    {
      "cell_type": "code",
      "metadata": {
        "id": "GtgdN9D4ttAv"
      },
      "source": [
        "# we are goig to looka t the data and find put all the unique genres that are there in my data\n",
        "uniqueGenres = set()\n",
        "\n",
        "for i in data.genres: # I am looping through all the rows\n",
        "  genList = ast.literal_eval(i) # convert from string to list of dict\n",
        "  for j in genList: # loop through the list of dict\n",
        "    uniqueGenres.add(j['name']) # add the name of the genre to my uniqueGenres variabe\n"
      ],
      "execution_count": null,
      "outputs": []
    },
    {
      "cell_type": "code",
      "source": [
        "len(uniqueGenres)"
      ],
      "metadata": {
        "colab": {
          "base_uri": "https://localhost:8080/"
        },
        "id": "D5La-gZTGZwq",
        "outputId": "23d56067-3b90-44ae-a9e1-c20b38751b7a"
      },
      "execution_count": null,
      "outputs": [
        {
          "output_type": "execute_result",
          "data": {
            "text/plain": [
              "20"
            ]
          },
          "metadata": {},
          "execution_count": 39
        }
      ]
    },
    {
      "cell_type": "code",
      "source": [
        "uniqueGenres"
      ],
      "metadata": {
        "id": "y74fnTy86eBL",
        "colab": {
          "base_uri": "https://localhost:8080/"
        },
        "outputId": "698700b8-9074-4c05-b79c-d3cb043149a6"
      },
      "execution_count": null,
      "outputs": [
        {
          "output_type": "execute_result",
          "data": {
            "text/plain": [
              "{'Action',\n",
              " 'Adventure',\n",
              " 'Animation',\n",
              " 'Comedy',\n",
              " 'Crime',\n",
              " 'Documentary',\n",
              " 'Drama',\n",
              " 'Family',\n",
              " 'Fantasy',\n",
              " 'Foreign',\n",
              " 'History',\n",
              " 'Horror',\n",
              " 'Music',\n",
              " 'Mystery',\n",
              " 'Romance',\n",
              " 'Science Fiction',\n",
              " 'TV Movie',\n",
              " 'Thriller',\n",
              " 'War',\n",
              " 'Western'}"
            ]
          },
          "metadata": {},
          "execution_count": 40
        }
      ]
    },
    {
      "cell_type": "code",
      "metadata": {
        "id": "88_9baf1u1zq"
      },
      "source": [
        "rows = [] # for all the movies\n",
        "genres = list(uniqueGenres) # all unique Genres\n",
        "\n",
        "for i in data.genres: #looping through all the rows/movies\n",
        "  genList = ast.literal_eval(i) #converting from string to list of dict for a particular movie\n",
        "  movieGenres = [x['name'] for x in genList] # list of all the genres of the movie\n",
        "  row = [] # store a list of 1s and 0s for one movie\n",
        "  for j in genres: #loop through all unique genres\n",
        "    row.append(int(j in movieGenres)) #checking if the genre is present in that movie - if the genre is present 1 else 0\n",
        "  rows.append(row)"
      ],
      "execution_count": null,
      "outputs": []
    },
    {
      "cell_type": "code",
      "metadata": {
        "colab": {
          "base_uri": "https://localhost:8080/",
          "height": 505
        },
        "id": "ukfdZ8EsvjVR",
        "outputId": "51fe3e82-1f5b-4929-e501-13ef0500ca0a"
      },
      "source": [
        "genre = pd.DataFrame(rows,columns = genres)\n",
        "genre"
      ],
      "execution_count": null,
      "outputs": [
        {
          "output_type": "execute_result",
          "data": {
            "text/plain": [
              "       Horror  Family  Documentary  Western  TV Movie  Adventure  Comedy  \\\n",
              "0           0       1            0        0         0          0       1   \n",
              "1           0       1            0        0         0          1       0   \n",
              "2           0       0            0        0         0          0       1   \n",
              "3           0       0            0        0         0          0       1   \n",
              "4           0       0            0        0         0          0       1   \n",
              "...       ...     ...          ...      ...       ...        ...     ...   \n",
              "45458       0       1            0        0         0          0       0   \n",
              "45459       0       0            0        0         0          0       0   \n",
              "45460       0       0            0        0         0          0       0   \n",
              "45461       0       0            0        0         0          0       0   \n",
              "45462       0       0            0        0         0          0       0   \n",
              "\n",
              "       Crime  Science Fiction  Animation  War  Music  Action  Mystery  \\\n",
              "0          0                0          1    0      0       0        0   \n",
              "1          0                0          0    0      0       0        0   \n",
              "2          0                0          0    0      0       0        0   \n",
              "3          0                0          0    0      0       0        0   \n",
              "4          0                0          0    0      0       0        0   \n",
              "...      ...              ...        ...  ...    ...     ...      ...   \n",
              "45458      0                0          0    0      0       0        0   \n",
              "45459      0                0          0    0      0       0        0   \n",
              "45460      0                0          0    0      0       1        0   \n",
              "45461      0                0          0    0      0       0        0   \n",
              "45462      0                0          0    0      0       0        0   \n",
              "\n",
              "       History  Drama  Thriller  Fantasy  Romance  Foreign  \n",
              "0            0      0         0        0        0        0  \n",
              "1            0      0         0        1        0        0  \n",
              "2            0      0         0        0        1        0  \n",
              "3            0      1         0        0        1        0  \n",
              "4            0      0         0        0        0        0  \n",
              "...        ...    ...       ...      ...      ...      ...  \n",
              "45458        0      1         0        0        0        0  \n",
              "45459        0      1         0        0        0        0  \n",
              "45460        0      1         1        0        0        0  \n",
              "45461        0      0         0        0        0        0  \n",
              "45462        0      0         0        0        0        0  \n",
              "\n",
              "[45463 rows x 20 columns]"
            ],
            "text/html": [
              "\n",
              "  <div id=\"df-bc00cbac-5c0c-40c0-8b54-b382196d3ea4\">\n",
              "    <div class=\"colab-df-container\">\n",
              "      <div>\n",
              "<style scoped>\n",
              "    .dataframe tbody tr th:only-of-type {\n",
              "        vertical-align: middle;\n",
              "    }\n",
              "\n",
              "    .dataframe tbody tr th {\n",
              "        vertical-align: top;\n",
              "    }\n",
              "\n",
              "    .dataframe thead th {\n",
              "        text-align: right;\n",
              "    }\n",
              "</style>\n",
              "<table border=\"1\" class=\"dataframe\">\n",
              "  <thead>\n",
              "    <tr style=\"text-align: right;\">\n",
              "      <th></th>\n",
              "      <th>Horror</th>\n",
              "      <th>Family</th>\n",
              "      <th>Documentary</th>\n",
              "      <th>Western</th>\n",
              "      <th>TV Movie</th>\n",
              "      <th>Adventure</th>\n",
              "      <th>Comedy</th>\n",
              "      <th>Crime</th>\n",
              "      <th>Science Fiction</th>\n",
              "      <th>Animation</th>\n",
              "      <th>War</th>\n",
              "      <th>Music</th>\n",
              "      <th>Action</th>\n",
              "      <th>Mystery</th>\n",
              "      <th>History</th>\n",
              "      <th>Drama</th>\n",
              "      <th>Thriller</th>\n",
              "      <th>Fantasy</th>\n",
              "      <th>Romance</th>\n",
              "      <th>Foreign</th>\n",
              "    </tr>\n",
              "  </thead>\n",
              "  <tbody>\n",
              "    <tr>\n",
              "      <th>0</th>\n",
              "      <td>0</td>\n",
              "      <td>1</td>\n",
              "      <td>0</td>\n",
              "      <td>0</td>\n",
              "      <td>0</td>\n",
              "      <td>0</td>\n",
              "      <td>1</td>\n",
              "      <td>0</td>\n",
              "      <td>0</td>\n",
              "      <td>1</td>\n",
              "      <td>0</td>\n",
              "      <td>0</td>\n",
              "      <td>0</td>\n",
              "      <td>0</td>\n",
              "      <td>0</td>\n",
              "      <td>0</td>\n",
              "      <td>0</td>\n",
              "      <td>0</td>\n",
              "      <td>0</td>\n",
              "      <td>0</td>\n",
              "    </tr>\n",
              "    <tr>\n",
              "      <th>1</th>\n",
              "      <td>0</td>\n",
              "      <td>1</td>\n",
              "      <td>0</td>\n",
              "      <td>0</td>\n",
              "      <td>0</td>\n",
              "      <td>1</td>\n",
              "      <td>0</td>\n",
              "      <td>0</td>\n",
              "      <td>0</td>\n",
              "      <td>0</td>\n",
              "      <td>0</td>\n",
              "      <td>0</td>\n",
              "      <td>0</td>\n",
              "      <td>0</td>\n",
              "      <td>0</td>\n",
              "      <td>0</td>\n",
              "      <td>0</td>\n",
              "      <td>1</td>\n",
              "      <td>0</td>\n",
              "      <td>0</td>\n",
              "    </tr>\n",
              "    <tr>\n",
              "      <th>2</th>\n",
              "      <td>0</td>\n",
              "      <td>0</td>\n",
              "      <td>0</td>\n",
              "      <td>0</td>\n",
              "      <td>0</td>\n",
              "      <td>0</td>\n",
              "      <td>1</td>\n",
              "      <td>0</td>\n",
              "      <td>0</td>\n",
              "      <td>0</td>\n",
              "      <td>0</td>\n",
              "      <td>0</td>\n",
              "      <td>0</td>\n",
              "      <td>0</td>\n",
              "      <td>0</td>\n",
              "      <td>0</td>\n",
              "      <td>0</td>\n",
              "      <td>0</td>\n",
              "      <td>1</td>\n",
              "      <td>0</td>\n",
              "    </tr>\n",
              "    <tr>\n",
              "      <th>3</th>\n",
              "      <td>0</td>\n",
              "      <td>0</td>\n",
              "      <td>0</td>\n",
              "      <td>0</td>\n",
              "      <td>0</td>\n",
              "      <td>0</td>\n",
              "      <td>1</td>\n",
              "      <td>0</td>\n",
              "      <td>0</td>\n",
              "      <td>0</td>\n",
              "      <td>0</td>\n",
              "      <td>0</td>\n",
              "      <td>0</td>\n",
              "      <td>0</td>\n",
              "      <td>0</td>\n",
              "      <td>1</td>\n",
              "      <td>0</td>\n",
              "      <td>0</td>\n",
              "      <td>1</td>\n",
              "      <td>0</td>\n",
              "    </tr>\n",
              "    <tr>\n",
              "      <th>4</th>\n",
              "      <td>0</td>\n",
              "      <td>0</td>\n",
              "      <td>0</td>\n",
              "      <td>0</td>\n",
              "      <td>0</td>\n",
              "      <td>0</td>\n",
              "      <td>1</td>\n",
              "      <td>0</td>\n",
              "      <td>0</td>\n",
              "      <td>0</td>\n",
              "      <td>0</td>\n",
              "      <td>0</td>\n",
              "      <td>0</td>\n",
              "      <td>0</td>\n",
              "      <td>0</td>\n",
              "      <td>0</td>\n",
              "      <td>0</td>\n",
              "      <td>0</td>\n",
              "      <td>0</td>\n",
              "      <td>0</td>\n",
              "    </tr>\n",
              "    <tr>\n",
              "      <th>...</th>\n",
              "      <td>...</td>\n",
              "      <td>...</td>\n",
              "      <td>...</td>\n",
              "      <td>...</td>\n",
              "      <td>...</td>\n",
              "      <td>...</td>\n",
              "      <td>...</td>\n",
              "      <td>...</td>\n",
              "      <td>...</td>\n",
              "      <td>...</td>\n",
              "      <td>...</td>\n",
              "      <td>...</td>\n",
              "      <td>...</td>\n",
              "      <td>...</td>\n",
              "      <td>...</td>\n",
              "      <td>...</td>\n",
              "      <td>...</td>\n",
              "      <td>...</td>\n",
              "      <td>...</td>\n",
              "      <td>...</td>\n",
              "    </tr>\n",
              "    <tr>\n",
              "      <th>45458</th>\n",
              "      <td>0</td>\n",
              "      <td>1</td>\n",
              "      <td>0</td>\n",
              "      <td>0</td>\n",
              "      <td>0</td>\n",
              "      <td>0</td>\n",
              "      <td>0</td>\n",
              "      <td>0</td>\n",
              "      <td>0</td>\n",
              "      <td>0</td>\n",
              "      <td>0</td>\n",
              "      <td>0</td>\n",
              "      <td>0</td>\n",
              "      <td>0</td>\n",
              "      <td>0</td>\n",
              "      <td>1</td>\n",
              "      <td>0</td>\n",
              "      <td>0</td>\n",
              "      <td>0</td>\n",
              "      <td>0</td>\n",
              "    </tr>\n",
              "    <tr>\n",
              "      <th>45459</th>\n",
              "      <td>0</td>\n",
              "      <td>0</td>\n",
              "      <td>0</td>\n",
              "      <td>0</td>\n",
              "      <td>0</td>\n",
              "      <td>0</td>\n",
              "      <td>0</td>\n",
              "      <td>0</td>\n",
              "      <td>0</td>\n",
              "      <td>0</td>\n",
              "      <td>0</td>\n",
              "      <td>0</td>\n",
              "      <td>0</td>\n",
              "      <td>0</td>\n",
              "      <td>0</td>\n",
              "      <td>1</td>\n",
              "      <td>0</td>\n",
              "      <td>0</td>\n",
              "      <td>0</td>\n",
              "      <td>0</td>\n",
              "    </tr>\n",
              "    <tr>\n",
              "      <th>45460</th>\n",
              "      <td>0</td>\n",
              "      <td>0</td>\n",
              "      <td>0</td>\n",
              "      <td>0</td>\n",
              "      <td>0</td>\n",
              "      <td>0</td>\n",
              "      <td>0</td>\n",
              "      <td>0</td>\n",
              "      <td>0</td>\n",
              "      <td>0</td>\n",
              "      <td>0</td>\n",
              "      <td>0</td>\n",
              "      <td>1</td>\n",
              "      <td>0</td>\n",
              "      <td>0</td>\n",
              "      <td>1</td>\n",
              "      <td>1</td>\n",
              "      <td>0</td>\n",
              "      <td>0</td>\n",
              "      <td>0</td>\n",
              "    </tr>\n",
              "    <tr>\n",
              "      <th>45461</th>\n",
              "      <td>0</td>\n",
              "      <td>0</td>\n",
              "      <td>0</td>\n",
              "      <td>0</td>\n",
              "      <td>0</td>\n",
              "      <td>0</td>\n",
              "      <td>0</td>\n",
              "      <td>0</td>\n",
              "      <td>0</td>\n",
              "      <td>0</td>\n",
              "      <td>0</td>\n",
              "      <td>0</td>\n",
              "      <td>0</td>\n",
              "      <td>0</td>\n",
              "      <td>0</td>\n",
              "      <td>0</td>\n",
              "      <td>0</td>\n",
              "      <td>0</td>\n",
              "      <td>0</td>\n",
              "      <td>0</td>\n",
              "    </tr>\n",
              "    <tr>\n",
              "      <th>45462</th>\n",
              "      <td>0</td>\n",
              "      <td>0</td>\n",
              "      <td>0</td>\n",
              "      <td>0</td>\n",
              "      <td>0</td>\n",
              "      <td>0</td>\n",
              "      <td>0</td>\n",
              "      <td>0</td>\n",
              "      <td>0</td>\n",
              "      <td>0</td>\n",
              "      <td>0</td>\n",
              "      <td>0</td>\n",
              "      <td>0</td>\n",
              "      <td>0</td>\n",
              "      <td>0</td>\n",
              "      <td>0</td>\n",
              "      <td>0</td>\n",
              "      <td>0</td>\n",
              "      <td>0</td>\n",
              "      <td>0</td>\n",
              "    </tr>\n",
              "  </tbody>\n",
              "</table>\n",
              "<p>45463 rows × 20 columns</p>\n",
              "</div>\n",
              "      <button class=\"colab-df-convert\" onclick=\"convertToInteractive('df-bc00cbac-5c0c-40c0-8b54-b382196d3ea4')\"\n",
              "              title=\"Convert this dataframe to an interactive table.\"\n",
              "              style=\"display:none;\">\n",
              "        \n",
              "  <svg xmlns=\"http://www.w3.org/2000/svg\" height=\"24px\"viewBox=\"0 0 24 24\"\n",
              "       width=\"24px\">\n",
              "    <path d=\"M0 0h24v24H0V0z\" fill=\"none\"/>\n",
              "    <path d=\"M18.56 5.44l.94 2.06.94-2.06 2.06-.94-2.06-.94-.94-2.06-.94 2.06-2.06.94zm-11 1L8.5 8.5l.94-2.06 2.06-.94-2.06-.94L8.5 2.5l-.94 2.06-2.06.94zm10 10l.94 2.06.94-2.06 2.06-.94-2.06-.94-.94-2.06-.94 2.06-2.06.94z\"/><path d=\"M17.41 7.96l-1.37-1.37c-.4-.4-.92-.59-1.43-.59-.52 0-1.04.2-1.43.59L10.3 9.45l-7.72 7.72c-.78.78-.78 2.05 0 2.83L4 21.41c.39.39.9.59 1.41.59.51 0 1.02-.2 1.41-.59l7.78-7.78 2.81-2.81c.8-.78.8-2.07 0-2.86zM5.41 20L4 18.59l7.72-7.72 1.47 1.35L5.41 20z\"/>\n",
              "  </svg>\n",
              "      </button>\n",
              "      \n",
              "  <style>\n",
              "    .colab-df-container {\n",
              "      display:flex;\n",
              "      flex-wrap:wrap;\n",
              "      gap: 12px;\n",
              "    }\n",
              "\n",
              "    .colab-df-convert {\n",
              "      background-color: #E8F0FE;\n",
              "      border: none;\n",
              "      border-radius: 50%;\n",
              "      cursor: pointer;\n",
              "      display: none;\n",
              "      fill: #1967D2;\n",
              "      height: 32px;\n",
              "      padding: 0 0 0 0;\n",
              "      width: 32px;\n",
              "    }\n",
              "\n",
              "    .colab-df-convert:hover {\n",
              "      background-color: #E2EBFA;\n",
              "      box-shadow: 0px 1px 2px rgba(60, 64, 67, 0.3), 0px 1px 3px 1px rgba(60, 64, 67, 0.15);\n",
              "      fill: #174EA6;\n",
              "    }\n",
              "\n",
              "    [theme=dark] .colab-df-convert {\n",
              "      background-color: #3B4455;\n",
              "      fill: #D2E3FC;\n",
              "    }\n",
              "\n",
              "    [theme=dark] .colab-df-convert:hover {\n",
              "      background-color: #434B5C;\n",
              "      box-shadow: 0px 1px 3px 1px rgba(0, 0, 0, 0.15);\n",
              "      filter: drop-shadow(0px 1px 2px rgba(0, 0, 0, 0.3));\n",
              "      fill: #FFFFFF;\n",
              "    }\n",
              "  </style>\n",
              "\n",
              "      <script>\n",
              "        const buttonEl =\n",
              "          document.querySelector('#df-bc00cbac-5c0c-40c0-8b54-b382196d3ea4 button.colab-df-convert');\n",
              "        buttonEl.style.display =\n",
              "          google.colab.kernel.accessAllowed ? 'block' : 'none';\n",
              "\n",
              "        async function convertToInteractive(key) {\n",
              "          const element = document.querySelector('#df-bc00cbac-5c0c-40c0-8b54-b382196d3ea4');\n",
              "          const dataTable =\n",
              "            await google.colab.kernel.invokeFunction('convertToInteractive',\n",
              "                                                     [key], {});\n",
              "          if (!dataTable) return;\n",
              "\n",
              "          const docLinkHtml = 'Like what you see? Visit the ' +\n",
              "            '<a target=\"_blank\" href=https://colab.research.google.com/notebooks/data_table.ipynb>data table notebook</a>'\n",
              "            + ' to learn more about interactive tables.';\n",
              "          element.innerHTML = '';\n",
              "          dataTable['output_type'] = 'display_data';\n",
              "          await google.colab.output.renderOutput(dataTable, element);\n",
              "          const docLink = document.createElement('div');\n",
              "          docLink.innerHTML = docLinkHtml;\n",
              "          element.appendChild(docLink);\n",
              "        }\n",
              "      </script>\n",
              "    </div>\n",
              "  </div>\n",
              "  "
            ]
          },
          "metadata": {},
          "execution_count": 43
        }
      ]
    },
    {
      "cell_type": "code",
      "source": [
        "genre.shape"
      ],
      "metadata": {
        "colab": {
          "base_uri": "https://localhost:8080/"
        },
        "id": "JtgC4uSm-neT",
        "outputId": "6bdda1d8-7ce0-43f6-d725-63220a38eb01"
      },
      "execution_count": null,
      "outputs": [
        {
          "output_type": "execute_result",
          "data": {
            "text/plain": [
              "(45463, 20)"
            ]
          },
          "metadata": {},
          "execution_count": 44
        }
      ]
    },
    {
      "cell_type": "code",
      "source": [
        "data.shape"
      ],
      "metadata": {
        "colab": {
          "base_uri": "https://localhost:8080/"
        },
        "id": "xRojF0OSuU7e",
        "outputId": "c9ac5d6e-231c-4b49-bd12-ce1542b6ba6d"
      },
      "execution_count": null,
      "outputs": [
        {
          "output_type": "execute_result",
          "data": {
            "text/plain": [
              "(45463, 24)"
            ]
          },
          "metadata": {},
          "execution_count": 49
        }
      ]
    },
    {
      "cell_type": "code",
      "metadata": {
        "colab": {
          "base_uri": "https://localhost:8080/"
        },
        "id": "XZB9MnHWv_PD",
        "outputId": "25db2972-e879-44c1-c612-cc5ffa5a6d37"
      },
      "source": [
        "data = pd.concat([data,genre], axis = 1) # joing the two dataframes\n",
        "data.shape, genre.shape"
      ],
      "execution_count": null,
      "outputs": [
        {
          "output_type": "execute_result",
          "data": {
            "text/plain": [
              "((45466, 44), (45463, 20))"
            ]
          },
          "metadata": {},
          "execution_count": 45
        }
      ]
    },
    {
      "cell_type": "markdown",
      "source": [],
      "metadata": {
        "id": "qlgluVCxHpgn"
      }
    },
    {
      "cell_type": "code",
      "metadata": {
        "id": "LDVHY09jULTa"
      },
      "source": [
        "data = data.drop(columns = ['genres'])"
      ],
      "execution_count": null,
      "outputs": []
    },
    {
      "cell_type": "code",
      "metadata": {
        "colab": {
          "base_uri": "https://localhost:8080/",
          "height": 974
        },
        "id": "pOEs78cUhV6c",
        "outputId": "af68054c-0182-4a8e-d998-15ad9087342f"
      },
      "source": [
        "data"
      ],
      "execution_count": null,
      "outputs": [
        {
          "output_type": "execute_result",
          "data": {
            "text/plain": [
              "       adult      budget                              homepage      id  \\\n",
              "0      False  30000000.0  http://toystory.disney.com/toy-story     862   \n",
              "1      False  65000000.0                                   NaN    8844   \n",
              "2      False         0.0                                   NaN   15602   \n",
              "3      False  16000000.0                                   NaN   31357   \n",
              "4      False         0.0                                   NaN   11862   \n",
              "...      ...         ...                                   ...     ...   \n",
              "45461  False         0.0  http://www.imdb.com/title/tt6209470/  439050   \n",
              "45462  False         0.0                                   NaN  111109   \n",
              "45463  False         0.0                                   NaN   67758   \n",
              "45464  False         0.0                                   NaN  227506   \n",
              "45465  False         0.0                                   NaN  461257   \n",
              "\n",
              "         imdb_id original_language               original_title  \\\n",
              "0      tt0114709                en                    Toy Story   \n",
              "1      tt0113497                en                      Jumanji   \n",
              "2      tt0113228                en             Grumpier Old Men   \n",
              "3      tt0114885                en            Waiting to Exhale   \n",
              "4      tt0113041                en  Father of the Bride Part II   \n",
              "...          ...               ...                          ...   \n",
              "45461  tt6209470                fa                      رگ خواب   \n",
              "45462  tt2028550                tl          Siglo ng Pagluluwal   \n",
              "45463  tt0303758                en                     Betrayal   \n",
              "45464  tt0008536                en          Satana likuyushchiy   \n",
              "45465  tt6980792                en                     Queerama   \n",
              "\n",
              "                                                overview popularity  \\\n",
              "0      Led by Woody, Andy's toys live happily in his ...  21.946943   \n",
              "1      When siblings Judy and Peter discover an encha...  17.015539   \n",
              "2      A family wedding reignites the ancient feud be...    11.7129   \n",
              "3      Cheated on, mistreated and stepped on, the wom...   3.859495   \n",
              "4      Just when George Banks has recovered from his ...   8.387519   \n",
              "...                                                  ...        ...   \n",
              "45461        Rising and falling between a man and woman.   0.072051   \n",
              "45462  An artist struggles to finish his work while a...   0.178241   \n",
              "45463  When one of her hits goes wrong, a professiona...   0.903007   \n",
              "45464  In a small town live two brothers, one a minis...   0.003503   \n",
              "45465  50 years after decriminalisation of homosexual...   0.163015   \n",
              "\n",
              "                            poster_path  ...  War Music Action  Mystery  \\\n",
              "0      /rhIRbceoE9lR4veEXuwCC2wARtG.jpg  ...  0.0   0.0    0.0      0.0   \n",
              "1      /vzmL6fP7aPKNKPRTFnZmiUfciyV.jpg  ...  0.0   0.0    0.0      0.0   \n",
              "2      /6ksm1sjKMFLbO7UY2i6G1ju9SML.jpg  ...  0.0   0.0    0.0      0.0   \n",
              "3      /16XOMpEaLWkrcPqSQqhTmeJuqQl.jpg  ...  0.0   0.0    0.0      0.0   \n",
              "4      /e64sOI48hQXyru7naBFyssKFxVd.jpg  ...  0.0   0.0    0.0      0.0   \n",
              "...                                 ...  ...  ...   ...    ...      ...   \n",
              "45461  /jldsYflnId4tTWPx8es3uzsB1I8.jpg  ...  0.0   0.0    0.0      0.0   \n",
              "45462  /xZkmxsNmYXJbKVsTRLLx3pqGHx7.jpg  ...  0.0   0.0    0.0      0.0   \n",
              "45463  /d5bX92nDsISNhu3ZT69uHwmfCGw.jpg  ...  NaN   NaN    NaN      NaN   \n",
              "45464  /aorBPO7ak8e8iJKT5OcqYxU3jlK.jpg  ...  NaN   NaN    NaN      NaN   \n",
              "45465  /s5UkZt6NTsrS7ZF0Rh8nzupRlIU.jpg  ...  NaN   NaN    NaN      NaN   \n",
              "\n",
              "       History Drama Thriller Fantasy Romance Foreign  \n",
              "0          0.0   0.0      0.0     0.0     0.0     0.0  \n",
              "1          0.0   0.0      0.0     1.0     0.0     0.0  \n",
              "2          0.0   0.0      0.0     0.0     1.0     0.0  \n",
              "3          0.0   1.0      0.0     0.0     1.0     0.0  \n",
              "4          0.0   0.0      0.0     0.0     0.0     0.0  \n",
              "...        ...   ...      ...     ...     ...     ...  \n",
              "45461      0.0   0.0      0.0     0.0     0.0     0.0  \n",
              "45462      0.0   0.0      0.0     0.0     0.0     0.0  \n",
              "45463      NaN   NaN      NaN     NaN     NaN     NaN  \n",
              "45464      NaN   NaN      NaN     NaN     NaN     NaN  \n",
              "45465      NaN   NaN      NaN     NaN     NaN     NaN  \n",
              "\n",
              "[45466 rows x 43 columns]"
            ],
            "text/html": [
              "\n",
              "  <div id=\"df-56682ba9-fafa-413c-8556-3c70fca29c22\">\n",
              "    <div class=\"colab-df-container\">\n",
              "      <div>\n",
              "<style scoped>\n",
              "    .dataframe tbody tr th:only-of-type {\n",
              "        vertical-align: middle;\n",
              "    }\n",
              "\n",
              "    .dataframe tbody tr th {\n",
              "        vertical-align: top;\n",
              "    }\n",
              "\n",
              "    .dataframe thead th {\n",
              "        text-align: right;\n",
              "    }\n",
              "</style>\n",
              "<table border=\"1\" class=\"dataframe\">\n",
              "  <thead>\n",
              "    <tr style=\"text-align: right;\">\n",
              "      <th></th>\n",
              "      <th>adult</th>\n",
              "      <th>budget</th>\n",
              "      <th>homepage</th>\n",
              "      <th>id</th>\n",
              "      <th>imdb_id</th>\n",
              "      <th>original_language</th>\n",
              "      <th>original_title</th>\n",
              "      <th>overview</th>\n",
              "      <th>popularity</th>\n",
              "      <th>poster_path</th>\n",
              "      <th>...</th>\n",
              "      <th>War</th>\n",
              "      <th>Music</th>\n",
              "      <th>Action</th>\n",
              "      <th>Mystery</th>\n",
              "      <th>History</th>\n",
              "      <th>Drama</th>\n",
              "      <th>Thriller</th>\n",
              "      <th>Fantasy</th>\n",
              "      <th>Romance</th>\n",
              "      <th>Foreign</th>\n",
              "    </tr>\n",
              "  </thead>\n",
              "  <tbody>\n",
              "    <tr>\n",
              "      <th>0</th>\n",
              "      <td>False</td>\n",
              "      <td>30000000.0</td>\n",
              "      <td>http://toystory.disney.com/toy-story</td>\n",
              "      <td>862</td>\n",
              "      <td>tt0114709</td>\n",
              "      <td>en</td>\n",
              "      <td>Toy Story</td>\n",
              "      <td>Led by Woody, Andy's toys live happily in his ...</td>\n",
              "      <td>21.946943</td>\n",
              "      <td>/rhIRbceoE9lR4veEXuwCC2wARtG.jpg</td>\n",
              "      <td>...</td>\n",
              "      <td>0.0</td>\n",
              "      <td>0.0</td>\n",
              "      <td>0.0</td>\n",
              "      <td>0.0</td>\n",
              "      <td>0.0</td>\n",
              "      <td>0.0</td>\n",
              "      <td>0.0</td>\n",
              "      <td>0.0</td>\n",
              "      <td>0.0</td>\n",
              "      <td>0.0</td>\n",
              "    </tr>\n",
              "    <tr>\n",
              "      <th>1</th>\n",
              "      <td>False</td>\n",
              "      <td>65000000.0</td>\n",
              "      <td>NaN</td>\n",
              "      <td>8844</td>\n",
              "      <td>tt0113497</td>\n",
              "      <td>en</td>\n",
              "      <td>Jumanji</td>\n",
              "      <td>When siblings Judy and Peter discover an encha...</td>\n",
              "      <td>17.015539</td>\n",
              "      <td>/vzmL6fP7aPKNKPRTFnZmiUfciyV.jpg</td>\n",
              "      <td>...</td>\n",
              "      <td>0.0</td>\n",
              "      <td>0.0</td>\n",
              "      <td>0.0</td>\n",
              "      <td>0.0</td>\n",
              "      <td>0.0</td>\n",
              "      <td>0.0</td>\n",
              "      <td>0.0</td>\n",
              "      <td>1.0</td>\n",
              "      <td>0.0</td>\n",
              "      <td>0.0</td>\n",
              "    </tr>\n",
              "    <tr>\n",
              "      <th>2</th>\n",
              "      <td>False</td>\n",
              "      <td>0.0</td>\n",
              "      <td>NaN</td>\n",
              "      <td>15602</td>\n",
              "      <td>tt0113228</td>\n",
              "      <td>en</td>\n",
              "      <td>Grumpier Old Men</td>\n",
              "      <td>A family wedding reignites the ancient feud be...</td>\n",
              "      <td>11.7129</td>\n",
              "      <td>/6ksm1sjKMFLbO7UY2i6G1ju9SML.jpg</td>\n",
              "      <td>...</td>\n",
              "      <td>0.0</td>\n",
              "      <td>0.0</td>\n",
              "      <td>0.0</td>\n",
              "      <td>0.0</td>\n",
              "      <td>0.0</td>\n",
              "      <td>0.0</td>\n",
              "      <td>0.0</td>\n",
              "      <td>0.0</td>\n",
              "      <td>1.0</td>\n",
              "      <td>0.0</td>\n",
              "    </tr>\n",
              "    <tr>\n",
              "      <th>3</th>\n",
              "      <td>False</td>\n",
              "      <td>16000000.0</td>\n",
              "      <td>NaN</td>\n",
              "      <td>31357</td>\n",
              "      <td>tt0114885</td>\n",
              "      <td>en</td>\n",
              "      <td>Waiting to Exhale</td>\n",
              "      <td>Cheated on, mistreated and stepped on, the wom...</td>\n",
              "      <td>3.859495</td>\n",
              "      <td>/16XOMpEaLWkrcPqSQqhTmeJuqQl.jpg</td>\n",
              "      <td>...</td>\n",
              "      <td>0.0</td>\n",
              "      <td>0.0</td>\n",
              "      <td>0.0</td>\n",
              "      <td>0.0</td>\n",
              "      <td>0.0</td>\n",
              "      <td>1.0</td>\n",
              "      <td>0.0</td>\n",
              "      <td>0.0</td>\n",
              "      <td>1.0</td>\n",
              "      <td>0.0</td>\n",
              "    </tr>\n",
              "    <tr>\n",
              "      <th>4</th>\n",
              "      <td>False</td>\n",
              "      <td>0.0</td>\n",
              "      <td>NaN</td>\n",
              "      <td>11862</td>\n",
              "      <td>tt0113041</td>\n",
              "      <td>en</td>\n",
              "      <td>Father of the Bride Part II</td>\n",
              "      <td>Just when George Banks has recovered from his ...</td>\n",
              "      <td>8.387519</td>\n",
              "      <td>/e64sOI48hQXyru7naBFyssKFxVd.jpg</td>\n",
              "      <td>...</td>\n",
              "      <td>0.0</td>\n",
              "      <td>0.0</td>\n",
              "      <td>0.0</td>\n",
              "      <td>0.0</td>\n",
              "      <td>0.0</td>\n",
              "      <td>0.0</td>\n",
              "      <td>0.0</td>\n",
              "      <td>0.0</td>\n",
              "      <td>0.0</td>\n",
              "      <td>0.0</td>\n",
              "    </tr>\n",
              "    <tr>\n",
              "      <th>...</th>\n",
              "      <td>...</td>\n",
              "      <td>...</td>\n",
              "      <td>...</td>\n",
              "      <td>...</td>\n",
              "      <td>...</td>\n",
              "      <td>...</td>\n",
              "      <td>...</td>\n",
              "      <td>...</td>\n",
              "      <td>...</td>\n",
              "      <td>...</td>\n",
              "      <td>...</td>\n",
              "      <td>...</td>\n",
              "      <td>...</td>\n",
              "      <td>...</td>\n",
              "      <td>...</td>\n",
              "      <td>...</td>\n",
              "      <td>...</td>\n",
              "      <td>...</td>\n",
              "      <td>...</td>\n",
              "      <td>...</td>\n",
              "      <td>...</td>\n",
              "    </tr>\n",
              "    <tr>\n",
              "      <th>45461</th>\n",
              "      <td>False</td>\n",
              "      <td>0.0</td>\n",
              "      <td>http://www.imdb.com/title/tt6209470/</td>\n",
              "      <td>439050</td>\n",
              "      <td>tt6209470</td>\n",
              "      <td>fa</td>\n",
              "      <td>رگ خواب</td>\n",
              "      <td>Rising and falling between a man and woman.</td>\n",
              "      <td>0.072051</td>\n",
              "      <td>/jldsYflnId4tTWPx8es3uzsB1I8.jpg</td>\n",
              "      <td>...</td>\n",
              "      <td>0.0</td>\n",
              "      <td>0.0</td>\n",
              "      <td>0.0</td>\n",
              "      <td>0.0</td>\n",
              "      <td>0.0</td>\n",
              "      <td>0.0</td>\n",
              "      <td>0.0</td>\n",
              "      <td>0.0</td>\n",
              "      <td>0.0</td>\n",
              "      <td>0.0</td>\n",
              "    </tr>\n",
              "    <tr>\n",
              "      <th>45462</th>\n",
              "      <td>False</td>\n",
              "      <td>0.0</td>\n",
              "      <td>NaN</td>\n",
              "      <td>111109</td>\n",
              "      <td>tt2028550</td>\n",
              "      <td>tl</td>\n",
              "      <td>Siglo ng Pagluluwal</td>\n",
              "      <td>An artist struggles to finish his work while a...</td>\n",
              "      <td>0.178241</td>\n",
              "      <td>/xZkmxsNmYXJbKVsTRLLx3pqGHx7.jpg</td>\n",
              "      <td>...</td>\n",
              "      <td>0.0</td>\n",
              "      <td>0.0</td>\n",
              "      <td>0.0</td>\n",
              "      <td>0.0</td>\n",
              "      <td>0.0</td>\n",
              "      <td>0.0</td>\n",
              "      <td>0.0</td>\n",
              "      <td>0.0</td>\n",
              "      <td>0.0</td>\n",
              "      <td>0.0</td>\n",
              "    </tr>\n",
              "    <tr>\n",
              "      <th>45463</th>\n",
              "      <td>False</td>\n",
              "      <td>0.0</td>\n",
              "      <td>NaN</td>\n",
              "      <td>67758</td>\n",
              "      <td>tt0303758</td>\n",
              "      <td>en</td>\n",
              "      <td>Betrayal</td>\n",
              "      <td>When one of her hits goes wrong, a professiona...</td>\n",
              "      <td>0.903007</td>\n",
              "      <td>/d5bX92nDsISNhu3ZT69uHwmfCGw.jpg</td>\n",
              "      <td>...</td>\n",
              "      <td>NaN</td>\n",
              "      <td>NaN</td>\n",
              "      <td>NaN</td>\n",
              "      <td>NaN</td>\n",
              "      <td>NaN</td>\n",
              "      <td>NaN</td>\n",
              "      <td>NaN</td>\n",
              "      <td>NaN</td>\n",
              "      <td>NaN</td>\n",
              "      <td>NaN</td>\n",
              "    </tr>\n",
              "    <tr>\n",
              "      <th>45464</th>\n",
              "      <td>False</td>\n",
              "      <td>0.0</td>\n",
              "      <td>NaN</td>\n",
              "      <td>227506</td>\n",
              "      <td>tt0008536</td>\n",
              "      <td>en</td>\n",
              "      <td>Satana likuyushchiy</td>\n",
              "      <td>In a small town live two brothers, one a minis...</td>\n",
              "      <td>0.003503</td>\n",
              "      <td>/aorBPO7ak8e8iJKT5OcqYxU3jlK.jpg</td>\n",
              "      <td>...</td>\n",
              "      <td>NaN</td>\n",
              "      <td>NaN</td>\n",
              "      <td>NaN</td>\n",
              "      <td>NaN</td>\n",
              "      <td>NaN</td>\n",
              "      <td>NaN</td>\n",
              "      <td>NaN</td>\n",
              "      <td>NaN</td>\n",
              "      <td>NaN</td>\n",
              "      <td>NaN</td>\n",
              "    </tr>\n",
              "    <tr>\n",
              "      <th>45465</th>\n",
              "      <td>False</td>\n",
              "      <td>0.0</td>\n",
              "      <td>NaN</td>\n",
              "      <td>461257</td>\n",
              "      <td>tt6980792</td>\n",
              "      <td>en</td>\n",
              "      <td>Queerama</td>\n",
              "      <td>50 years after decriminalisation of homosexual...</td>\n",
              "      <td>0.163015</td>\n",
              "      <td>/s5UkZt6NTsrS7ZF0Rh8nzupRlIU.jpg</td>\n",
              "      <td>...</td>\n",
              "      <td>NaN</td>\n",
              "      <td>NaN</td>\n",
              "      <td>NaN</td>\n",
              "      <td>NaN</td>\n",
              "      <td>NaN</td>\n",
              "      <td>NaN</td>\n",
              "      <td>NaN</td>\n",
              "      <td>NaN</td>\n",
              "      <td>NaN</td>\n",
              "      <td>NaN</td>\n",
              "    </tr>\n",
              "  </tbody>\n",
              "</table>\n",
              "<p>45466 rows × 43 columns</p>\n",
              "</div>\n",
              "      <button class=\"colab-df-convert\" onclick=\"convertToInteractive('df-56682ba9-fafa-413c-8556-3c70fca29c22')\"\n",
              "              title=\"Convert this dataframe to an interactive table.\"\n",
              "              style=\"display:none;\">\n",
              "        \n",
              "  <svg xmlns=\"http://www.w3.org/2000/svg\" height=\"24px\"viewBox=\"0 0 24 24\"\n",
              "       width=\"24px\">\n",
              "    <path d=\"M0 0h24v24H0V0z\" fill=\"none\"/>\n",
              "    <path d=\"M18.56 5.44l.94 2.06.94-2.06 2.06-.94-2.06-.94-.94-2.06-.94 2.06-2.06.94zm-11 1L8.5 8.5l.94-2.06 2.06-.94-2.06-.94L8.5 2.5l-.94 2.06-2.06.94zm10 10l.94 2.06.94-2.06 2.06-.94-2.06-.94-.94-2.06-.94 2.06-2.06.94z\"/><path d=\"M17.41 7.96l-1.37-1.37c-.4-.4-.92-.59-1.43-.59-.52 0-1.04.2-1.43.59L10.3 9.45l-7.72 7.72c-.78.78-.78 2.05 0 2.83L4 21.41c.39.39.9.59 1.41.59.51 0 1.02-.2 1.41-.59l7.78-7.78 2.81-2.81c.8-.78.8-2.07 0-2.86zM5.41 20L4 18.59l7.72-7.72 1.47 1.35L5.41 20z\"/>\n",
              "  </svg>\n",
              "      </button>\n",
              "      \n",
              "  <style>\n",
              "    .colab-df-container {\n",
              "      display:flex;\n",
              "      flex-wrap:wrap;\n",
              "      gap: 12px;\n",
              "    }\n",
              "\n",
              "    .colab-df-convert {\n",
              "      background-color: #E8F0FE;\n",
              "      border: none;\n",
              "      border-radius: 50%;\n",
              "      cursor: pointer;\n",
              "      display: none;\n",
              "      fill: #1967D2;\n",
              "      height: 32px;\n",
              "      padding: 0 0 0 0;\n",
              "      width: 32px;\n",
              "    }\n",
              "\n",
              "    .colab-df-convert:hover {\n",
              "      background-color: #E2EBFA;\n",
              "      box-shadow: 0px 1px 2px rgba(60, 64, 67, 0.3), 0px 1px 3px 1px rgba(60, 64, 67, 0.15);\n",
              "      fill: #174EA6;\n",
              "    }\n",
              "\n",
              "    [theme=dark] .colab-df-convert {\n",
              "      background-color: #3B4455;\n",
              "      fill: #D2E3FC;\n",
              "    }\n",
              "\n",
              "    [theme=dark] .colab-df-convert:hover {\n",
              "      background-color: #434B5C;\n",
              "      box-shadow: 0px 1px 3px 1px rgba(0, 0, 0, 0.15);\n",
              "      filter: drop-shadow(0px 1px 2px rgba(0, 0, 0, 0.3));\n",
              "      fill: #FFFFFF;\n",
              "    }\n",
              "  </style>\n",
              "\n",
              "      <script>\n",
              "        const buttonEl =\n",
              "          document.querySelector('#df-56682ba9-fafa-413c-8556-3c70fca29c22 button.colab-df-convert');\n",
              "        buttonEl.style.display =\n",
              "          google.colab.kernel.accessAllowed ? 'block' : 'none';\n",
              "\n",
              "        async function convertToInteractive(key) {\n",
              "          const element = document.querySelector('#df-56682ba9-fafa-413c-8556-3c70fca29c22');\n",
              "          const dataTable =\n",
              "            await google.colab.kernel.invokeFunction('convertToInteractive',\n",
              "                                                     [key], {});\n",
              "          if (!dataTable) return;\n",
              "\n",
              "          const docLinkHtml = 'Like what you see? Visit the ' +\n",
              "            '<a target=\"_blank\" href=https://colab.research.google.com/notebooks/data_table.ipynb>data table notebook</a>'\n",
              "            + ' to learn more about interactive tables.';\n",
              "          element.innerHTML = '';\n",
              "          dataTable['output_type'] = 'display_data';\n",
              "          await google.colab.output.renderOutput(dataTable, element);\n",
              "          const docLink = document.createElement('div');\n",
              "          docLink.innerHTML = docLinkHtml;\n",
              "          element.appendChild(docLink);\n",
              "        }\n",
              "      </script>\n",
              "    </div>\n",
              "  </div>\n",
              "  "
            ]
          },
          "metadata": {},
          "execution_count": 47
        }
      ]
    },
    {
      "cell_type": "markdown",
      "metadata": {
        "id": "TC4bj1jJURvL"
      },
      "source": [
        "## Home Page"
      ]
    },
    {
      "cell_type": "code",
      "metadata": {
        "colab": {
          "base_uri": "https://localhost:8080/"
        },
        "id": "Am0ozialx8R_",
        "outputId": "2ee7c62b-901e-4c02-c8f2-35d66cc69b5a"
      },
      "source": [
        "data.homepage.values[1]"
      ],
      "execution_count": null,
      "outputs": [
        {
          "output_type": "execute_result",
          "data": {
            "text/plain": [
              "nan"
            ]
          },
          "metadata": {},
          "execution_count": 48
        }
      ]
    },
    {
      "cell_type": "code",
      "source": [
        "~data.homepage.isnull()"
      ],
      "metadata": {
        "colab": {
          "base_uri": "https://localhost:8080/"
        },
        "id": "jyq-FrJE9R_e",
        "outputId": "6b26c626-5355-4162-c323-64c0189e49c7"
      },
      "execution_count": null,
      "outputs": [
        {
          "output_type": "execute_result",
          "data": {
            "text/plain": [
              "0         True\n",
              "1        False\n",
              "2        False\n",
              "3        False\n",
              "4        False\n",
              "         ...  \n",
              "45461     True\n",
              "45462    False\n",
              "45463    False\n",
              "45464    False\n",
              "45465    False\n",
              "Name: homepage, Length: 45466, dtype: bool"
            ]
          },
          "metadata": {},
          "execution_count": 49
        }
      ]
    },
    {
      "cell_type": "code",
      "metadata": {
        "colab": {
          "base_uri": "https://localhost:8080/"
        },
        "id": "ymQk_t2Kho78",
        "outputId": "56c037c3-a904-42ac-ac17-e462558057eb"
      },
      "source": [
        "data.homepage.isnull().sum()*100/data.shape[0]"
      ],
      "execution_count": null,
      "outputs": [
        {
          "output_type": "execute_result",
          "data": {
            "text/plain": [
              "82.89051159107905"
            ]
          },
          "metadata": {},
          "execution_count": 50
        }
      ]
    },
    {
      "cell_type": "code",
      "metadata": {
        "id": "L25hHpil4P6S"
      },
      "source": [
        "data['homePagePresent'] = (~data.homepage.isnull()) #fasle- if null in home page else true"
      ],
      "execution_count": null,
      "outputs": []
    },
    {
      "cell_type": "code",
      "metadata": {
        "id": "xOM4KOlrUTeb"
      },
      "source": [
        "data = data.drop(columns = ['homepage'])"
      ],
      "execution_count": null,
      "outputs": []
    },
    {
      "cell_type": "code",
      "source": [
        "data.homePagePresent = data.homePagePresent.map({True:1,False:0})"
      ],
      "metadata": {
        "id": "D-iWZ9AY96AT"
      },
      "execution_count": null,
      "outputs": []
    },
    {
      "cell_type": "code",
      "metadata": {
        "colab": {
          "base_uri": "https://localhost:8080/",
          "height": 974
        },
        "id": "14_0Ms2KeUUG",
        "outputId": "3e276c31-3364-43bf-d371-6f83788ad7b2"
      },
      "source": [
        "data"
      ],
      "execution_count": null,
      "outputs": [
        {
          "output_type": "execute_result",
          "data": {
            "text/plain": [
              "       adult      budget      id    imdb_id original_language  \\\n",
              "0      False  30000000.0     862  tt0114709                en   \n",
              "1      False  65000000.0    8844  tt0113497                en   \n",
              "2      False         0.0   15602  tt0113228                en   \n",
              "3      False  16000000.0   31357  tt0114885                en   \n",
              "4      False         0.0   11862  tt0113041                en   \n",
              "...      ...         ...     ...        ...               ...   \n",
              "45461  False         0.0  439050  tt6209470                fa   \n",
              "45462  False         0.0  111109  tt2028550                tl   \n",
              "45463  False         0.0   67758  tt0303758                en   \n",
              "45464  False         0.0  227506  tt0008536                en   \n",
              "45465  False         0.0  461257  tt6980792                en   \n",
              "\n",
              "                    original_title  \\\n",
              "0                        Toy Story   \n",
              "1                          Jumanji   \n",
              "2                 Grumpier Old Men   \n",
              "3                Waiting to Exhale   \n",
              "4      Father of the Bride Part II   \n",
              "...                            ...   \n",
              "45461                      رگ خواب   \n",
              "45462          Siglo ng Pagluluwal   \n",
              "45463                     Betrayal   \n",
              "45464          Satana likuyushchiy   \n",
              "45465                     Queerama   \n",
              "\n",
              "                                                overview popularity  \\\n",
              "0      Led by Woody, Andy's toys live happily in his ...  21.946943   \n",
              "1      When siblings Judy and Peter discover an encha...  17.015539   \n",
              "2      A family wedding reignites the ancient feud be...    11.7129   \n",
              "3      Cheated on, mistreated and stepped on, the wom...   3.859495   \n",
              "4      Just when George Banks has recovered from his ...   8.387519   \n",
              "...                                                  ...        ...   \n",
              "45461        Rising and falling between a man and woman.   0.072051   \n",
              "45462  An artist struggles to finish his work while a...   0.178241   \n",
              "45463  When one of her hits goes wrong, a professiona...   0.903007   \n",
              "45464  In a small town live two brothers, one a minis...   0.003503   \n",
              "45465  50 years after decriminalisation of homosexual...   0.163015   \n",
              "\n",
              "                            poster_path  \\\n",
              "0      /rhIRbceoE9lR4veEXuwCC2wARtG.jpg   \n",
              "1      /vzmL6fP7aPKNKPRTFnZmiUfciyV.jpg   \n",
              "2      /6ksm1sjKMFLbO7UY2i6G1ju9SML.jpg   \n",
              "3      /16XOMpEaLWkrcPqSQqhTmeJuqQl.jpg   \n",
              "4      /e64sOI48hQXyru7naBFyssKFxVd.jpg   \n",
              "...                                 ...   \n",
              "45461  /jldsYflnId4tTWPx8es3uzsB1I8.jpg   \n",
              "45462  /xZkmxsNmYXJbKVsTRLLx3pqGHx7.jpg   \n",
              "45463  /d5bX92nDsISNhu3ZT69uHwmfCGw.jpg   \n",
              "45464  /aorBPO7ak8e8iJKT5OcqYxU3jlK.jpg   \n",
              "45465  /s5UkZt6NTsrS7ZF0Rh8nzupRlIU.jpg   \n",
              "\n",
              "                                    production_companies  ... Music Action  \\\n",
              "0         [{'name': 'Pixar Animation Studios', 'id': 3}]  ...   0.0    0.0   \n",
              "1      [{'name': 'TriStar Pictures', 'id': 559}, {'na...  ...   0.0    0.0   \n",
              "2      [{'name': 'Warner Bros.', 'id': 6194}, {'name'...  ...   0.0    0.0   \n",
              "3      [{'name': 'Twentieth Century Fox Film Corporat...  ...   0.0    0.0   \n",
              "4      [{'name': 'Sandollar Productions', 'id': 5842}...  ...   0.0    0.0   \n",
              "...                                                  ...  ...   ...    ...   \n",
              "45461                                                 []  ...   0.0    0.0   \n",
              "45462             [{'name': 'Sine Olivia', 'id': 19653}]  ...   0.0    0.0   \n",
              "45463  [{'name': 'American World Pictures', 'id': 6165}]  ...   NaN    NaN   \n",
              "45464               [{'name': 'Yermoliev', 'id': 88753}]  ...   NaN    NaN   \n",
              "45465                                                 []  ...   NaN    NaN   \n",
              "\n",
              "       Mystery  History Drama Thriller Fantasy Romance Foreign  \\\n",
              "0          0.0      0.0   0.0      0.0     0.0     0.0     0.0   \n",
              "1          0.0      0.0   0.0      0.0     1.0     0.0     0.0   \n",
              "2          0.0      0.0   0.0      0.0     0.0     1.0     0.0   \n",
              "3          0.0      0.0   1.0      0.0     0.0     1.0     0.0   \n",
              "4          0.0      0.0   0.0      0.0     0.0     0.0     0.0   \n",
              "...        ...      ...   ...      ...     ...     ...     ...   \n",
              "45461      0.0      0.0   0.0      0.0     0.0     0.0     0.0   \n",
              "45462      0.0      0.0   0.0      0.0     0.0     0.0     0.0   \n",
              "45463      NaN      NaN   NaN      NaN     NaN     NaN     NaN   \n",
              "45464      NaN      NaN   NaN      NaN     NaN     NaN     NaN   \n",
              "45465      NaN      NaN   NaN      NaN     NaN     NaN     NaN   \n",
              "\n",
              "       homePagePresent  \n",
              "0                    1  \n",
              "1                    0  \n",
              "2                    0  \n",
              "3                    0  \n",
              "4                    0  \n",
              "...                ...  \n",
              "45461                1  \n",
              "45462                0  \n",
              "45463                0  \n",
              "45464                0  \n",
              "45465                0  \n",
              "\n",
              "[45466 rows x 43 columns]"
            ],
            "text/html": [
              "\n",
              "  <div id=\"df-a0f0d036-047b-4bf0-85f5-f1030d97881b\">\n",
              "    <div class=\"colab-df-container\">\n",
              "      <div>\n",
              "<style scoped>\n",
              "    .dataframe tbody tr th:only-of-type {\n",
              "        vertical-align: middle;\n",
              "    }\n",
              "\n",
              "    .dataframe tbody tr th {\n",
              "        vertical-align: top;\n",
              "    }\n",
              "\n",
              "    .dataframe thead th {\n",
              "        text-align: right;\n",
              "    }\n",
              "</style>\n",
              "<table border=\"1\" class=\"dataframe\">\n",
              "  <thead>\n",
              "    <tr style=\"text-align: right;\">\n",
              "      <th></th>\n",
              "      <th>adult</th>\n",
              "      <th>budget</th>\n",
              "      <th>id</th>\n",
              "      <th>imdb_id</th>\n",
              "      <th>original_language</th>\n",
              "      <th>original_title</th>\n",
              "      <th>overview</th>\n",
              "      <th>popularity</th>\n",
              "      <th>poster_path</th>\n",
              "      <th>production_companies</th>\n",
              "      <th>...</th>\n",
              "      <th>Music</th>\n",
              "      <th>Action</th>\n",
              "      <th>Mystery</th>\n",
              "      <th>History</th>\n",
              "      <th>Drama</th>\n",
              "      <th>Thriller</th>\n",
              "      <th>Fantasy</th>\n",
              "      <th>Romance</th>\n",
              "      <th>Foreign</th>\n",
              "      <th>homePagePresent</th>\n",
              "    </tr>\n",
              "  </thead>\n",
              "  <tbody>\n",
              "    <tr>\n",
              "      <th>0</th>\n",
              "      <td>False</td>\n",
              "      <td>30000000.0</td>\n",
              "      <td>862</td>\n",
              "      <td>tt0114709</td>\n",
              "      <td>en</td>\n",
              "      <td>Toy Story</td>\n",
              "      <td>Led by Woody, Andy's toys live happily in his ...</td>\n",
              "      <td>21.946943</td>\n",
              "      <td>/rhIRbceoE9lR4veEXuwCC2wARtG.jpg</td>\n",
              "      <td>[{'name': 'Pixar Animation Studios', 'id': 3}]</td>\n",
              "      <td>...</td>\n",
              "      <td>0.0</td>\n",
              "      <td>0.0</td>\n",
              "      <td>0.0</td>\n",
              "      <td>0.0</td>\n",
              "      <td>0.0</td>\n",
              "      <td>0.0</td>\n",
              "      <td>0.0</td>\n",
              "      <td>0.0</td>\n",
              "      <td>0.0</td>\n",
              "      <td>1</td>\n",
              "    </tr>\n",
              "    <tr>\n",
              "      <th>1</th>\n",
              "      <td>False</td>\n",
              "      <td>65000000.0</td>\n",
              "      <td>8844</td>\n",
              "      <td>tt0113497</td>\n",
              "      <td>en</td>\n",
              "      <td>Jumanji</td>\n",
              "      <td>When siblings Judy and Peter discover an encha...</td>\n",
              "      <td>17.015539</td>\n",
              "      <td>/vzmL6fP7aPKNKPRTFnZmiUfciyV.jpg</td>\n",
              "      <td>[{'name': 'TriStar Pictures', 'id': 559}, {'na...</td>\n",
              "      <td>...</td>\n",
              "      <td>0.0</td>\n",
              "      <td>0.0</td>\n",
              "      <td>0.0</td>\n",
              "      <td>0.0</td>\n",
              "      <td>0.0</td>\n",
              "      <td>0.0</td>\n",
              "      <td>1.0</td>\n",
              "      <td>0.0</td>\n",
              "      <td>0.0</td>\n",
              "      <td>0</td>\n",
              "    </tr>\n",
              "    <tr>\n",
              "      <th>2</th>\n",
              "      <td>False</td>\n",
              "      <td>0.0</td>\n",
              "      <td>15602</td>\n",
              "      <td>tt0113228</td>\n",
              "      <td>en</td>\n",
              "      <td>Grumpier Old Men</td>\n",
              "      <td>A family wedding reignites the ancient feud be...</td>\n",
              "      <td>11.7129</td>\n",
              "      <td>/6ksm1sjKMFLbO7UY2i6G1ju9SML.jpg</td>\n",
              "      <td>[{'name': 'Warner Bros.', 'id': 6194}, {'name'...</td>\n",
              "      <td>...</td>\n",
              "      <td>0.0</td>\n",
              "      <td>0.0</td>\n",
              "      <td>0.0</td>\n",
              "      <td>0.0</td>\n",
              "      <td>0.0</td>\n",
              "      <td>0.0</td>\n",
              "      <td>0.0</td>\n",
              "      <td>1.0</td>\n",
              "      <td>0.0</td>\n",
              "      <td>0</td>\n",
              "    </tr>\n",
              "    <tr>\n",
              "      <th>3</th>\n",
              "      <td>False</td>\n",
              "      <td>16000000.0</td>\n",
              "      <td>31357</td>\n",
              "      <td>tt0114885</td>\n",
              "      <td>en</td>\n",
              "      <td>Waiting to Exhale</td>\n",
              "      <td>Cheated on, mistreated and stepped on, the wom...</td>\n",
              "      <td>3.859495</td>\n",
              "      <td>/16XOMpEaLWkrcPqSQqhTmeJuqQl.jpg</td>\n",
              "      <td>[{'name': 'Twentieth Century Fox Film Corporat...</td>\n",
              "      <td>...</td>\n",
              "      <td>0.0</td>\n",
              "      <td>0.0</td>\n",
              "      <td>0.0</td>\n",
              "      <td>0.0</td>\n",
              "      <td>1.0</td>\n",
              "      <td>0.0</td>\n",
              "      <td>0.0</td>\n",
              "      <td>1.0</td>\n",
              "      <td>0.0</td>\n",
              "      <td>0</td>\n",
              "    </tr>\n",
              "    <tr>\n",
              "      <th>4</th>\n",
              "      <td>False</td>\n",
              "      <td>0.0</td>\n",
              "      <td>11862</td>\n",
              "      <td>tt0113041</td>\n",
              "      <td>en</td>\n",
              "      <td>Father of the Bride Part II</td>\n",
              "      <td>Just when George Banks has recovered from his ...</td>\n",
              "      <td>8.387519</td>\n",
              "      <td>/e64sOI48hQXyru7naBFyssKFxVd.jpg</td>\n",
              "      <td>[{'name': 'Sandollar Productions', 'id': 5842}...</td>\n",
              "      <td>...</td>\n",
              "      <td>0.0</td>\n",
              "      <td>0.0</td>\n",
              "      <td>0.0</td>\n",
              "      <td>0.0</td>\n",
              "      <td>0.0</td>\n",
              "      <td>0.0</td>\n",
              "      <td>0.0</td>\n",
              "      <td>0.0</td>\n",
              "      <td>0.0</td>\n",
              "      <td>0</td>\n",
              "    </tr>\n",
              "    <tr>\n",
              "      <th>...</th>\n",
              "      <td>...</td>\n",
              "      <td>...</td>\n",
              "      <td>...</td>\n",
              "      <td>...</td>\n",
              "      <td>...</td>\n",
              "      <td>...</td>\n",
              "      <td>...</td>\n",
              "      <td>...</td>\n",
              "      <td>...</td>\n",
              "      <td>...</td>\n",
              "      <td>...</td>\n",
              "      <td>...</td>\n",
              "      <td>...</td>\n",
              "      <td>...</td>\n",
              "      <td>...</td>\n",
              "      <td>...</td>\n",
              "      <td>...</td>\n",
              "      <td>...</td>\n",
              "      <td>...</td>\n",
              "      <td>...</td>\n",
              "      <td>...</td>\n",
              "    </tr>\n",
              "    <tr>\n",
              "      <th>45461</th>\n",
              "      <td>False</td>\n",
              "      <td>0.0</td>\n",
              "      <td>439050</td>\n",
              "      <td>tt6209470</td>\n",
              "      <td>fa</td>\n",
              "      <td>رگ خواب</td>\n",
              "      <td>Rising and falling between a man and woman.</td>\n",
              "      <td>0.072051</td>\n",
              "      <td>/jldsYflnId4tTWPx8es3uzsB1I8.jpg</td>\n",
              "      <td>[]</td>\n",
              "      <td>...</td>\n",
              "      <td>0.0</td>\n",
              "      <td>0.0</td>\n",
              "      <td>0.0</td>\n",
              "      <td>0.0</td>\n",
              "      <td>0.0</td>\n",
              "      <td>0.0</td>\n",
              "      <td>0.0</td>\n",
              "      <td>0.0</td>\n",
              "      <td>0.0</td>\n",
              "      <td>1</td>\n",
              "    </tr>\n",
              "    <tr>\n",
              "      <th>45462</th>\n",
              "      <td>False</td>\n",
              "      <td>0.0</td>\n",
              "      <td>111109</td>\n",
              "      <td>tt2028550</td>\n",
              "      <td>tl</td>\n",
              "      <td>Siglo ng Pagluluwal</td>\n",
              "      <td>An artist struggles to finish his work while a...</td>\n",
              "      <td>0.178241</td>\n",
              "      <td>/xZkmxsNmYXJbKVsTRLLx3pqGHx7.jpg</td>\n",
              "      <td>[{'name': 'Sine Olivia', 'id': 19653}]</td>\n",
              "      <td>...</td>\n",
              "      <td>0.0</td>\n",
              "      <td>0.0</td>\n",
              "      <td>0.0</td>\n",
              "      <td>0.0</td>\n",
              "      <td>0.0</td>\n",
              "      <td>0.0</td>\n",
              "      <td>0.0</td>\n",
              "      <td>0.0</td>\n",
              "      <td>0.0</td>\n",
              "      <td>0</td>\n",
              "    </tr>\n",
              "    <tr>\n",
              "      <th>45463</th>\n",
              "      <td>False</td>\n",
              "      <td>0.0</td>\n",
              "      <td>67758</td>\n",
              "      <td>tt0303758</td>\n",
              "      <td>en</td>\n",
              "      <td>Betrayal</td>\n",
              "      <td>When one of her hits goes wrong, a professiona...</td>\n",
              "      <td>0.903007</td>\n",
              "      <td>/d5bX92nDsISNhu3ZT69uHwmfCGw.jpg</td>\n",
              "      <td>[{'name': 'American World Pictures', 'id': 6165}]</td>\n",
              "      <td>...</td>\n",
              "      <td>NaN</td>\n",
              "      <td>NaN</td>\n",
              "      <td>NaN</td>\n",
              "      <td>NaN</td>\n",
              "      <td>NaN</td>\n",
              "      <td>NaN</td>\n",
              "      <td>NaN</td>\n",
              "      <td>NaN</td>\n",
              "      <td>NaN</td>\n",
              "      <td>0</td>\n",
              "    </tr>\n",
              "    <tr>\n",
              "      <th>45464</th>\n",
              "      <td>False</td>\n",
              "      <td>0.0</td>\n",
              "      <td>227506</td>\n",
              "      <td>tt0008536</td>\n",
              "      <td>en</td>\n",
              "      <td>Satana likuyushchiy</td>\n",
              "      <td>In a small town live two brothers, one a minis...</td>\n",
              "      <td>0.003503</td>\n",
              "      <td>/aorBPO7ak8e8iJKT5OcqYxU3jlK.jpg</td>\n",
              "      <td>[{'name': 'Yermoliev', 'id': 88753}]</td>\n",
              "      <td>...</td>\n",
              "      <td>NaN</td>\n",
              "      <td>NaN</td>\n",
              "      <td>NaN</td>\n",
              "      <td>NaN</td>\n",
              "      <td>NaN</td>\n",
              "      <td>NaN</td>\n",
              "      <td>NaN</td>\n",
              "      <td>NaN</td>\n",
              "      <td>NaN</td>\n",
              "      <td>0</td>\n",
              "    </tr>\n",
              "    <tr>\n",
              "      <th>45465</th>\n",
              "      <td>False</td>\n",
              "      <td>0.0</td>\n",
              "      <td>461257</td>\n",
              "      <td>tt6980792</td>\n",
              "      <td>en</td>\n",
              "      <td>Queerama</td>\n",
              "      <td>50 years after decriminalisation of homosexual...</td>\n",
              "      <td>0.163015</td>\n",
              "      <td>/s5UkZt6NTsrS7ZF0Rh8nzupRlIU.jpg</td>\n",
              "      <td>[]</td>\n",
              "      <td>...</td>\n",
              "      <td>NaN</td>\n",
              "      <td>NaN</td>\n",
              "      <td>NaN</td>\n",
              "      <td>NaN</td>\n",
              "      <td>NaN</td>\n",
              "      <td>NaN</td>\n",
              "      <td>NaN</td>\n",
              "      <td>NaN</td>\n",
              "      <td>NaN</td>\n",
              "      <td>0</td>\n",
              "    </tr>\n",
              "  </tbody>\n",
              "</table>\n",
              "<p>45466 rows × 43 columns</p>\n",
              "</div>\n",
              "      <button class=\"colab-df-convert\" onclick=\"convertToInteractive('df-a0f0d036-047b-4bf0-85f5-f1030d97881b')\"\n",
              "              title=\"Convert this dataframe to an interactive table.\"\n",
              "              style=\"display:none;\">\n",
              "        \n",
              "  <svg xmlns=\"http://www.w3.org/2000/svg\" height=\"24px\"viewBox=\"0 0 24 24\"\n",
              "       width=\"24px\">\n",
              "    <path d=\"M0 0h24v24H0V0z\" fill=\"none\"/>\n",
              "    <path d=\"M18.56 5.44l.94 2.06.94-2.06 2.06-.94-2.06-.94-.94-2.06-.94 2.06-2.06.94zm-11 1L8.5 8.5l.94-2.06 2.06-.94-2.06-.94L8.5 2.5l-.94 2.06-2.06.94zm10 10l.94 2.06.94-2.06 2.06-.94-2.06-.94-.94-2.06-.94 2.06-2.06.94z\"/><path d=\"M17.41 7.96l-1.37-1.37c-.4-.4-.92-.59-1.43-.59-.52 0-1.04.2-1.43.59L10.3 9.45l-7.72 7.72c-.78.78-.78 2.05 0 2.83L4 21.41c.39.39.9.59 1.41.59.51 0 1.02-.2 1.41-.59l7.78-7.78 2.81-2.81c.8-.78.8-2.07 0-2.86zM5.41 20L4 18.59l7.72-7.72 1.47 1.35L5.41 20z\"/>\n",
              "  </svg>\n",
              "      </button>\n",
              "      \n",
              "  <style>\n",
              "    .colab-df-container {\n",
              "      display:flex;\n",
              "      flex-wrap:wrap;\n",
              "      gap: 12px;\n",
              "    }\n",
              "\n",
              "    .colab-df-convert {\n",
              "      background-color: #E8F0FE;\n",
              "      border: none;\n",
              "      border-radius: 50%;\n",
              "      cursor: pointer;\n",
              "      display: none;\n",
              "      fill: #1967D2;\n",
              "      height: 32px;\n",
              "      padding: 0 0 0 0;\n",
              "      width: 32px;\n",
              "    }\n",
              "\n",
              "    .colab-df-convert:hover {\n",
              "      background-color: #E2EBFA;\n",
              "      box-shadow: 0px 1px 2px rgba(60, 64, 67, 0.3), 0px 1px 3px 1px rgba(60, 64, 67, 0.15);\n",
              "      fill: #174EA6;\n",
              "    }\n",
              "\n",
              "    [theme=dark] .colab-df-convert {\n",
              "      background-color: #3B4455;\n",
              "      fill: #D2E3FC;\n",
              "    }\n",
              "\n",
              "    [theme=dark] .colab-df-convert:hover {\n",
              "      background-color: #434B5C;\n",
              "      box-shadow: 0px 1px 3px 1px rgba(0, 0, 0, 0.15);\n",
              "      filter: drop-shadow(0px 1px 2px rgba(0, 0, 0, 0.3));\n",
              "      fill: #FFFFFF;\n",
              "    }\n",
              "  </style>\n",
              "\n",
              "      <script>\n",
              "        const buttonEl =\n",
              "          document.querySelector('#df-a0f0d036-047b-4bf0-85f5-f1030d97881b button.colab-df-convert');\n",
              "        buttonEl.style.display =\n",
              "          google.colab.kernel.accessAllowed ? 'block' : 'none';\n",
              "\n",
              "        async function convertToInteractive(key) {\n",
              "          const element = document.querySelector('#df-a0f0d036-047b-4bf0-85f5-f1030d97881b');\n",
              "          const dataTable =\n",
              "            await google.colab.kernel.invokeFunction('convertToInteractive',\n",
              "                                                     [key], {});\n",
              "          if (!dataTable) return;\n",
              "\n",
              "          const docLinkHtml = 'Like what you see? Visit the ' +\n",
              "            '<a target=\"_blank\" href=https://colab.research.google.com/notebooks/data_table.ipynb>data table notebook</a>'\n",
              "            + ' to learn more about interactive tables.';\n",
              "          element.innerHTML = '';\n",
              "          dataTable['output_type'] = 'display_data';\n",
              "          await google.colab.output.renderOutput(dataTable, element);\n",
              "          const docLink = document.createElement('div');\n",
              "          docLink.innerHTML = docLinkHtml;\n",
              "          element.appendChild(docLink);\n",
              "        }\n",
              "      </script>\n",
              "    </div>\n",
              "  </div>\n",
              "  "
            ]
          },
          "metadata": {},
          "execution_count": 54
        }
      ]
    },
    {
      "cell_type": "code",
      "source": [],
      "metadata": {
        "id": "z-BX3iB5-OD8"
      },
      "execution_count": null,
      "outputs": []
    },
    {
      "cell_type": "markdown",
      "metadata": {
        "id": "DejNtUQZUaSs"
      },
      "source": [
        "# Id"
      ]
    },
    {
      "cell_type": "code",
      "metadata": {
        "id": "FJCpbKggUbmu",
        "colab": {
          "base_uri": "https://localhost:8080/"
        },
        "outputId": "f2c77163-9e81-42b5-9f3c-7aa796a41cb6"
      },
      "source": [
        "(data.shape[0] - len(data.id.unique())) #difference between movies and unique ids\n"
      ],
      "execution_count": null,
      "outputs": [
        {
          "output_type": "execute_result",
          "data": {
            "text/plain": [
              "32"
            ]
          },
          "metadata": {},
          "execution_count": 55
        }
      ]
    },
    {
      "cell_type": "code",
      "source": [
        "data = data.drop_duplicates(subset = 'id') # delete the rows which has id column to be the same\n",
        "data.shape"
      ],
      "metadata": {
        "colab": {
          "base_uri": "https://localhost:8080/"
        },
        "id": "vlOQmJPSMTUZ",
        "outputId": "d0ce8da4-77b8-4b18-ed6d-c5a2d8dadcb6"
      },
      "execution_count": null,
      "outputs": [
        {
          "output_type": "execute_result",
          "data": {
            "text/plain": [
              "(45434, 43)"
            ]
          },
          "metadata": {},
          "execution_count": 57
        }
      ]
    },
    {
      "cell_type": "code",
      "metadata": {
        "colab": {
          "base_uri": "https://localhost:8080/"
        },
        "id": "FqwQ10b0j2-F",
        "outputId": "43b9c4d8-15fc-4de9-fffd-1c70054b804d"
      },
      "source": [
        "(data.shape[0] - len(data.id.unique()))"
      ],
      "execution_count": null,
      "outputs": [
        {
          "output_type": "execute_result",
          "data": {
            "text/plain": [
              "0"
            ]
          },
          "metadata": {},
          "execution_count": 58
        }
      ]
    },
    {
      "cell_type": "code",
      "source": [
        "data.id.values[0]"
      ],
      "metadata": {
        "colab": {
          "base_uri": "https://localhost:8080/",
          "height": 35
        },
        "id": "tNoZJixsECVv",
        "outputId": "b500e9be-9d59-4ec0-a317-e67474162c92"
      },
      "execution_count": null,
      "outputs": [
        {
          "output_type": "execute_result",
          "data": {
            "text/plain": [
              "'862'"
            ],
            "application/vnd.google.colaboratory.intrinsic+json": {
              "type": "string"
            }
          },
          "metadata": {},
          "execution_count": 59
        }
      ]
    },
    {
      "cell_type": "code",
      "source": [
        "data = data.dropna(subset = ['id'] )"
      ],
      "metadata": {
        "id": "QeaLtdBM_uAu"
      },
      "execution_count": null,
      "outputs": []
    },
    {
      "cell_type": "code",
      "source": [
        "data.id = data.id.astype('int64')"
      ],
      "metadata": {
        "id": "ZrSHY6va_9WT"
      },
      "execution_count": null,
      "outputs": []
    },
    {
      "cell_type": "code",
      "source": [
        "data.id"
      ],
      "metadata": {
        "colab": {
          "base_uri": "https://localhost:8080/"
        },
        "id": "IF8YosO5_LUo",
        "outputId": "896c68a7-38b8-4ffb-8c1a-1840f0e0fc8f"
      },
      "execution_count": null,
      "outputs": [
        {
          "output_type": "execute_result",
          "data": {
            "text/plain": [
              "0           862\n",
              "1          8844\n",
              "2         15602\n",
              "3         31357\n",
              "4         11862\n",
              "          ...  \n",
              "45461    439050\n",
              "45462    111109\n",
              "45463     67758\n",
              "45464    227506\n",
              "45465    461257\n",
              "Name: id, Length: 45433, dtype: int64"
            ]
          },
          "metadata": {},
          "execution_count": 62
        }
      ]
    },
    {
      "cell_type": "code",
      "source": [
        "data.imdb_id.values[0]"
      ],
      "metadata": {
        "colab": {
          "base_uri": "https://localhost:8080/",
          "height": 35
        },
        "id": "8Se9dkXSAS-5",
        "outputId": "9c1f3246-6fb4-4a65-932f-217cd1088be9"
      },
      "execution_count": null,
      "outputs": [
        {
          "output_type": "execute_result",
          "data": {
            "text/plain": [
              "'tt0114709'"
            ],
            "application/vnd.google.colaboratory.intrinsic+json": {
              "type": "string"
            }
          },
          "metadata": {},
          "execution_count": 64
        }
      ]
    },
    {
      "cell_type": "code",
      "metadata": {
        "id": "iyryAaXukdoO"
      },
      "source": [
        "data.imdb_id.values[0]\n",
        "(data.shape[0] - len(data.imdb_id.unique()))\n",
        "data = data.drop_duplicates(subset = 'imdb_id')"
      ],
      "execution_count": null,
      "outputs": []
    },
    {
      "cell_type": "markdown",
      "metadata": {
        "id": "2bQrX6e_Ukx0"
      },
      "source": [
        "# Original Language"
      ]
    },
    {
      "cell_type": "code",
      "source": [
        "data.original_language.values[0]\n"
      ],
      "metadata": {
        "colab": {
          "base_uri": "https://localhost:8080/",
          "height": 35
        },
        "id": "LyZJYlk8Bhhg",
        "outputId": "649a8b3f-7717-4436-c247-9e3aa26a8408"
      },
      "execution_count": null,
      "outputs": [
        {
          "output_type": "execute_result",
          "data": {
            "text/plain": [
              "'en'"
            ],
            "application/vnd.google.colaboratory.intrinsic+json": {
              "type": "string"
            }
          },
          "metadata": {},
          "execution_count": 65
        }
      ]
    },
    {
      "cell_type": "code",
      "metadata": {
        "id": "GViLElA2Uo8Z"
      },
      "source": [
        "len(data.original_language.unique())\n",
        "data.original_language.value_counts()\n",
        "data.original_language.isnull().sum()\n",
        "# # #data.loc[data.original_language.isnull(),:]\n",
        "data['original_language'] = data.original_language.fillna('mode')"
      ],
      "execution_count": null,
      "outputs": []
    },
    {
      "cell_type": "code",
      "metadata": {
        "colab": {
          "base_uri": "https://localhost:8080/"
        },
        "id": "_S-Pgf7XlsqJ",
        "outputId": "4b66eaa1-c96e-4874-c826-26ee7389214b"
      },
      "source": [
        "data.columns"
      ],
      "execution_count": null,
      "outputs": [
        {
          "output_type": "execute_result",
          "data": {
            "text/plain": [
              "Index(['adult', 'budget', 'id', 'imdb_id', 'original_language',\n",
              "       'original_title', 'overview', 'popularity', 'poster_path',\n",
              "       'production_companies', 'production_countries', 'release_date',\n",
              "       'revenue', 'runtime', 'spoken_languages', 'status', 'tagline', 'title',\n",
              "       'video', 'vote_average', 'vote_count', 'collectionName', 'Horror',\n",
              "       'Family', 'Documentary', 'Western', 'TV Movie', 'Adventure', 'Comedy',\n",
              "       'Crime', 'Science Fiction', 'Animation', 'War', 'Music', 'Action',\n",
              "       'Mystery', 'History', 'Drama', 'Thriller', 'Fantasy', 'Romance',\n",
              "       'Foreign', 'homePagePresent'],\n",
              "      dtype='object')"
            ]
          },
          "metadata": {},
          "execution_count": 70
        }
      ]
    },
    {
      "cell_type": "markdown",
      "metadata": {
        "id": "53nhvtWZVF-b"
      },
      "source": [
        "# Title"
      ]
    },
    {
      "cell_type": "code",
      "metadata": {
        "colab": {
          "base_uri": "https://localhost:8080/"
        },
        "id": "jQWYqh6rVHU-",
        "outputId": "fdb927c0-f9f6-4f6d-aef5-c178e24cd951"
      },
      "source": [
        "data.title.isnull().sum(), len(data.title.unique())*100/data.shape[0]"
      ],
      "execution_count": null,
      "outputs": [
        {
          "output_type": "execute_result",
          "data": {
            "text/plain": [
              "(3, 93.05986745051412)"
            ]
          },
          "metadata": {},
          "execution_count": 71
        }
      ]
    },
    {
      "cell_type": "code",
      "metadata": {
        "colab": {
          "base_uri": "https://localhost:8080/"
        },
        "id": "Qf5CZVhiVKny",
        "outputId": "09847595-3874-4349-8110-9e8d0e4e4cbd"
      },
      "source": [
        "data.original_title.isnull().sum(), len(data.original_title.unique())*100/data.shape[0]"
      ],
      "execution_count": null,
      "outputs": [
        {
          "output_type": "execute_result",
          "data": {
            "text/plain": [
              "(0, 95.464253473369)"
            ]
          },
          "metadata": {},
          "execution_count": 72
        }
      ]
    },
    {
      "cell_type": "code",
      "metadata": {
        "id": "Fo1bA7OB2uGT"
      },
      "source": [
        "data = data.drop(columns = ['title'])"
      ],
      "execution_count": null,
      "outputs": []
    },
    {
      "cell_type": "code",
      "source": [
        "data.original_title.values[0]"
      ],
      "metadata": {
        "colab": {
          "base_uri": "https://localhost:8080/",
          "height": 35
        },
        "id": "kNI4EUMVHiOG",
        "outputId": "3a7b152e-fd8c-484a-cab6-3278e3fce1f5"
      },
      "execution_count": null,
      "outputs": [
        {
          "output_type": "execute_result",
          "data": {
            "text/plain": [
              "'Toy Story'"
            ],
            "application/vnd.google.colaboratory.intrinsic+json": {
              "type": "string"
            }
          },
          "metadata": {},
          "execution_count": 74
        }
      ]
    },
    {
      "cell_type": "code",
      "metadata": {
        "colab": {
          "base_uri": "https://localhost:8080/"
        },
        "id": "W1RDEHCG23a0",
        "outputId": "176fda93-7213-482a-e598-745068a07f5d"
      },
      "source": [
        "#data.original_title\n",
        "\"data science\" == \"data  science\""
      ],
      "execution_count": null,
      "outputs": [
        {
          "output_type": "execute_result",
          "data": {
            "text/plain": [
              "False"
            ]
          },
          "metadata": {},
          "execution_count": 75
        }
      ]
    },
    {
      "cell_type": "markdown",
      "metadata": {
        "id": "V_yjSTvi79D5"
      },
      "source": [
        "1) lower case upper case\n",
        "2) remove unwanted spaces (data science, data  science)\n",
        "3) checking spelling mistakes -> for places where there are a lot of chracters (textBlob)\n",
        "4) handling special characters"
      ]
    },
    {
      "cell_type": "code",
      "metadata": {
        "id": "JNNp1PbUVihB"
      },
      "source": [
        "data.original_title = data['original_title'].str.lower() # brinf the text data to lowercase\n",
        "data.original_title = data['original_title'].str.strip() # delete unwanted whtespaces"
      ],
      "execution_count": null,
      "outputs": []
    },
    {
      "cell_type": "code",
      "metadata": {
        "colab": {
          "base_uri": "https://localhost:8080/"
        },
        "id": "syUb0hqOnZYP",
        "outputId": "57db5c68-ec32-4876-f1b0-12cddd1de3c2"
      },
      "source": [
        "data.original_title"
      ],
      "execution_count": null,
      "outputs": [
        {
          "output_type": "execute_result",
          "data": {
            "text/plain": [
              "0                          toy story\n",
              "1                            jumanji\n",
              "2                   grumpier old men\n",
              "3                  waiting to exhale\n",
              "4        father of the bride part ii\n",
              "                    ...             \n",
              "45461                        رگ خواب\n",
              "45462            siglo ng pagluluwal\n",
              "45463                       betrayal\n",
              "45464            satana likuyushchiy\n",
              "45465                       queerama\n",
              "Name: original_title, Length: 45417, dtype: object"
            ]
          },
          "metadata": {},
          "execution_count": 78
        }
      ]
    },
    {
      "cell_type": "markdown",
      "metadata": {
        "id": "_CP0gLHzVqAg"
      },
      "source": [
        "# Overview"
      ]
    },
    {
      "cell_type": "code",
      "source": [
        "data.overview.values[0]"
      ],
      "metadata": {
        "colab": {
          "base_uri": "https://localhost:8080/",
          "height": 88
        },
        "id": "nn_TRcT-PWeX",
        "outputId": "4e6cd252-5dd0-4a2e-f8d1-b2d937a92cc1"
      },
      "execution_count": null,
      "outputs": [
        {
          "output_type": "execute_result",
          "data": {
            "text/plain": [
              "\"Led by Woody, Andy's toys live happily in his room until Andy's birthday brings Buzz Lightyear onto the scene. Afraid of losing his place in Andy's heart, Woody plots against Buzz. But when circumstances separate Buzz and Woody from their owner, the duo eventually learns to put aside their differences.\""
            ],
            "application/vnd.google.colaboratory.intrinsic+json": {
              "type": "string"
            }
          },
          "metadata": {},
          "execution_count": 79
        }
      ]
    },
    {
      "cell_type": "code",
      "metadata": {
        "colab": {
          "base_uri": "https://localhost:8080/"
        },
        "id": "eReA0T8e9CrQ",
        "outputId": "ce918e0a-f32f-4a6d-b3f8-5290f001672a"
      },
      "source": [
        "data.overview = data.overview.str.lower()\n",
        "data.overview = data.overview.str.strip()\n",
        "data.overview"
      ],
      "execution_count": null,
      "outputs": [
        {
          "output_type": "execute_result",
          "data": {
            "text/plain": [
              "0        led by woody, andy's toys live happily in his ...\n",
              "1        when siblings judy and peter discover an encha...\n",
              "2        a family wedding reignites the ancient feud be...\n",
              "3        cheated on, mistreated and stepped on, the wom...\n",
              "4        just when george banks has recovered from his ...\n",
              "                               ...                        \n",
              "45461          rising and falling between a man and woman.\n",
              "45462    an artist struggles to finish his work while a...\n",
              "45463    when one of her hits goes wrong, a professiona...\n",
              "45464    in a small town live two brothers, one a minis...\n",
              "45465    50 years after decriminalisation of homosexual...\n",
              "Name: overview, Length: 45417, dtype: object"
            ]
          },
          "metadata": {},
          "execution_count": 80
        }
      ]
    },
    {
      "cell_type": "code",
      "source": [
        "data.overview.isnull().sum()"
      ],
      "metadata": {
        "colab": {
          "base_uri": "https://localhost:8080/"
        },
        "id": "d9ugZ47JEOvu",
        "outputId": "b1e6690f-1291-44ed-d2ba-65f8b3783cda"
      },
      "execution_count": null,
      "outputs": [
        {
          "output_type": "execute_result",
          "data": {
            "text/plain": [
              "952"
            ]
          },
          "metadata": {},
          "execution_count": 81
        }
      ]
    },
    {
      "cell_type": "code",
      "source": [
        "data.loc[data.overview.isnull(),'overview'] = 'no overview available'"
      ],
      "metadata": {
        "id": "4ymo4CFTPg6r"
      },
      "execution_count": null,
      "outputs": []
    },
    {
      "cell_type": "markdown",
      "metadata": {
        "id": "uikAfrrIV0l2"
      },
      "source": [
        "# Popularity"
      ]
    },
    {
      "cell_type": "code",
      "metadata": {
        "colab": {
          "base_uri": "https://localhost:8080/"
        },
        "id": "kGTzx_U93nA2",
        "outputId": "cc1b2fea-78c5-4baf-a61a-993f7761afcd"
      },
      "source": [
        "data.popularity.values[5]"
      ],
      "execution_count": null,
      "outputs": [
        {
          "output_type": "execute_result",
          "data": {
            "text/plain": [
              "17.924927"
            ]
          },
          "metadata": {},
          "execution_count": 83
        }
      ]
    },
    {
      "cell_type": "code",
      "source": [
        "data.popularity.dtype"
      ],
      "metadata": {
        "colab": {
          "base_uri": "https://localhost:8080/"
        },
        "id": "xma43ET0ETb2",
        "outputId": "d946f242-7fe1-4daf-b8d5-db0fa3404320"
      },
      "execution_count": null,
      "outputs": [
        {
          "output_type": "execute_result",
          "data": {
            "text/plain": [
              "dtype('O')"
            ]
          },
          "metadata": {},
          "execution_count": 84
        }
      ]
    },
    {
      "cell_type": "code",
      "metadata": {
        "id": "bS4-h8UiV2du",
        "colab": {
          "base_uri": "https://localhost:8080/"
        },
        "outputId": "9a2ee711-774f-4d68-fd6c-29a9ff7ce30d"
      },
      "source": [
        "data.popularity = data.popularity.astype('float64') ##floating point value\n",
        "data.popularity.describe()\n",
        "\n",
        "#Z-score\n",
        "# data['z_score_popularity'] = (data.popularity - data.popularity.mean())/data.popularity.std()\n",
        "# data['outliers'] = (data['z_score_popularity'] > 3) | (data['z_score_popularity'] < -3)"
      ],
      "execution_count": null,
      "outputs": [
        {
          "output_type": "execute_result",
          "data": {
            "text/plain": [
              "count    45414.000000\n",
              "mean         2.921932\n",
              "std          6.007588\n",
              "min          0.000000\n",
              "25%          0.386107\n",
              "50%          1.127685\n",
              "75%          3.679143\n",
              "max        547.488298\n",
              "Name: popularity, dtype: float64"
            ]
          },
          "metadata": {},
          "execution_count": 85
        }
      ]
    },
    {
      "cell_type": "code",
      "source": [
        "#IQR\n",
        "q3 = data.popularity.quantile(0.75)\n",
        "q1 = data.popularity.quantile(0.25)\n",
        "iqr = q3 - q1"
      ],
      "metadata": {
        "id": "JzYZokK7_fe7"
      },
      "execution_count": null,
      "outputs": []
    },
    {
      "cell_type": "code",
      "source": [
        "#thresholds\n",
        "q3 + (1.5 * iqr)"
      ],
      "metadata": {
        "colab": {
          "base_uri": "https://localhost:8080/"
        },
        "id": "Q5J5jNKI_t2E",
        "outputId": "e489678e-80fc-455e-8e23-e993cecce063"
      },
      "execution_count": null,
      "outputs": [
        {
          "output_type": "execute_result",
          "data": {
            "text/plain": [
              "8.618696"
            ]
          },
          "metadata": {},
          "execution_count": 87
        }
      ]
    },
    {
      "cell_type": "code",
      "source": [
        "q1 - (1.5*iqr)"
      ],
      "metadata": {
        "colab": {
          "base_uri": "https://localhost:8080/"
        },
        "id": "S0XMBFSf_xjT",
        "outputId": "9480d2cf-b25d-48a7-f60f-95b0aa66d0c9"
      },
      "execution_count": null,
      "outputs": [
        {
          "output_type": "execute_result",
          "data": {
            "text/plain": [
              "-4.553446"
            ]
          },
          "metadata": {},
          "execution_count": 88
        }
      ]
    },
    {
      "cell_type": "code",
      "metadata": {
        "id": "ANvjPH2sV-Kk"
      },
      "source": [
        "##outlier detection - 1) domain knowledge 2) u need to handle them\n",
        "data.popularity = data.popularity.clip(-4.55,8.62) #.clip(lt,ut)\n",
        "#data = data.loc[(data.popularity > 0) & (data.popularity <= 100),:]"
      ],
      "execution_count": null,
      "outputs": []
    },
    {
      "cell_type": "code",
      "metadata": {
        "colab": {
          "base_uri": "https://localhost:8080/"
        },
        "id": "Vf1g4THAX27n",
        "outputId": "a3bf2bfc-625f-4466-d955-5644d405ef08"
      },
      "source": [
        "data.popularity.describe()"
      ],
      "execution_count": null,
      "outputs": [
        {
          "output_type": "execute_result",
          "data": {
            "text/plain": [
              "count    45414.000000\n",
              "mean         2.459170\n",
              "std          2.831027\n",
              "min          0.000000\n",
              "25%          0.386107\n",
              "50%          1.127685\n",
              "75%          3.679143\n",
              "max          8.620000\n",
              "Name: popularity, dtype: float64"
            ]
          },
          "metadata": {},
          "execution_count": 90
        }
      ]
    },
    {
      "cell_type": "code",
      "source": [
        "sum(data.popularity.isnull())"
      ],
      "metadata": {
        "colab": {
          "base_uri": "https://localhost:8080/"
        },
        "id": "w4-cuWsdAZFH",
        "outputId": "85a5af49-df3d-4ffa-d4cd-fe469bfd7521"
      },
      "execution_count": null,
      "outputs": [
        {
          "output_type": "execute_result",
          "data": {
            "text/plain": [
              "3"
            ]
          },
          "metadata": {},
          "execution_count": 91
        }
      ]
    },
    {
      "cell_type": "code",
      "source": [
        "data = data.dropna(subset = ['popularity']) #find all the null values in my popularity column and delete them"
      ],
      "metadata": {
        "id": "C7VTVrZdAegm"
      },
      "execution_count": null,
      "outputs": []
    },
    {
      "cell_type": "code",
      "source": [
        "sum(data.popularity.isnull())"
      ],
      "metadata": {
        "colab": {
          "base_uri": "https://localhost:8080/"
        },
        "id": "f9Cr95TIAsjr",
        "outputId": "c798ebb4-6677-430c-946a-227374a1aeab"
      },
      "execution_count": null,
      "outputs": [
        {
          "output_type": "execute_result",
          "data": {
            "text/plain": [
              "0"
            ]
          },
          "metadata": {},
          "execution_count": 93
        }
      ]
    },
    {
      "cell_type": "markdown",
      "metadata": {
        "id": "6bbCsoTXWALW"
      },
      "source": [
        "# Vote Count and Vote Average"
      ]
    },
    {
      "cell_type": "code",
      "source": [
        "data.vote_count.values[0]"
      ],
      "metadata": {
        "colab": {
          "base_uri": "https://localhost:8080/"
        },
        "id": "U1pEh_jfBLcC",
        "outputId": "0b320882-2685-465b-834e-c908b02556be"
      },
      "execution_count": null,
      "outputs": [
        {
          "output_type": "execute_result",
          "data": {
            "text/plain": [
              "5415.0"
            ]
          },
          "metadata": {},
          "execution_count": 94
        }
      ]
    },
    {
      "cell_type": "code",
      "source": [
        "data.vote_count.dtype"
      ],
      "metadata": {
        "colab": {
          "base_uri": "https://localhost:8080/"
        },
        "id": "Ob4gZ_IkvLAf",
        "outputId": "35f74d26-a7ce-432d-c47f-c489308843f7"
      },
      "execution_count": null,
      "outputs": [
        {
          "output_type": "execute_result",
          "data": {
            "text/plain": [
              "dtype('float64')"
            ]
          },
          "metadata": {},
          "execution_count": 96
        }
      ]
    },
    {
      "cell_type": "code",
      "source": [
        "data.vote_count = data.vote_count.astype(int)"
      ],
      "metadata": {
        "id": "S9nOd7xOEvpF"
      },
      "execution_count": null,
      "outputs": []
    },
    {
      "cell_type": "code",
      "source": [
        "sum(data.vote_count.isnull())"
      ],
      "metadata": {
        "colab": {
          "base_uri": "https://localhost:8080/"
        },
        "id": "QyWmQ5v4BUoZ",
        "outputId": "da755c6a-7aa5-47c4-ff7b-47aeca938d93"
      },
      "execution_count": null,
      "outputs": [
        {
          "output_type": "execute_result",
          "data": {
            "text/plain": [
              "0"
            ]
          },
          "metadata": {},
          "execution_count": 98
        }
      ]
    },
    {
      "cell_type": "code",
      "metadata": {
        "id": "Y4F2jP3M5QY5",
        "colab": {
          "base_uri": "https://localhost:8080/"
        },
        "outputId": "feffc631-d4f9-4d5e-975c-d5b4b00e2db7"
      },
      "source": [
        "data.vote_count.describe()\n",
        "#data.vote_count.quantile(0.99)\n",
        "# data.vote_count.isna().sum()\n",
        "# data = data.dropna(subset = ['vote_count'])\n"
      ],
      "execution_count": null,
      "outputs": [
        {
          "output_type": "execute_result",
          "data": {
            "text/plain": [
              "count    45414.000000\n",
              "mean       109.971837\n",
              "std        491.549122\n",
              "min          0.000000\n",
              "25%          3.000000\n",
              "50%         10.000000\n",
              "75%         34.000000\n",
              "max      14075.000000\n",
              "Name: vote_count, dtype: float64"
            ]
          },
          "metadata": {},
          "execution_count": 99
        }
      ]
    },
    {
      "cell_type": "code",
      "metadata": {
        "id": "rKgHWxnHWHru",
        "colab": {
          "base_uri": "https://localhost:8080/"
        },
        "outputId": "7de8ad7e-8e07-4bdd-d1c5-2cf6b38722a1"
      },
      "source": [
        "data.vote_average.values[0]"
      ],
      "execution_count": null,
      "outputs": [
        {
          "output_type": "execute_result",
          "data": {
            "text/plain": [
              "7.7"
            ]
          },
          "metadata": {},
          "execution_count": 100
        }
      ]
    },
    {
      "cell_type": "code",
      "source": [
        "data.vote_average.dtype"
      ],
      "metadata": {
        "colab": {
          "base_uri": "https://localhost:8080/"
        },
        "id": "p6mv4olwwSbf",
        "outputId": "a9f3a68f-4dbc-47be-e474-28df37a0a16e"
      },
      "execution_count": null,
      "outputs": [
        {
          "output_type": "execute_result",
          "data": {
            "text/plain": [
              "dtype('float64')"
            ]
          },
          "metadata": {},
          "execution_count": 101
        }
      ]
    },
    {
      "cell_type": "code",
      "source": [
        "data.vote_average.isnull().sum()"
      ],
      "metadata": {
        "colab": {
          "base_uri": "https://localhost:8080/"
        },
        "id": "5hHyQDGXCD5K",
        "outputId": "263ec257-5f51-4e03-944e-050bb9acd6ea"
      },
      "execution_count": null,
      "outputs": [
        {
          "output_type": "execute_result",
          "data": {
            "text/plain": [
              "0"
            ]
          },
          "metadata": {},
          "execution_count": 102
        }
      ]
    },
    {
      "cell_type": "code",
      "metadata": {
        "colab": {
          "base_uri": "https://localhost:8080/"
        },
        "id": "9_rz5rV6WNUN",
        "outputId": "1a087a8e-e210-4a4c-b544-37624b4dc816"
      },
      "source": [
        "data.vote_average.describe()"
      ],
      "execution_count": null,
      "outputs": [
        {
          "output_type": "execute_result",
          "data": {
            "text/plain": [
              "count    45414.000000\n",
              "mean         5.618864\n",
              "std          1.923210\n",
              "min          0.000000\n",
              "25%          5.000000\n",
              "50%          6.000000\n",
              "75%          6.800000\n",
              "max         10.000000\n",
              "Name: vote_average, dtype: float64"
            ]
          },
          "metadata": {},
          "execution_count": 103
        }
      ]
    },
    {
      "cell_type": "markdown",
      "metadata": {
        "id": "3j-RcAY_Wehn"
      },
      "source": [
        "# Poster Path"
      ]
    },
    {
      "cell_type": "code",
      "metadata": {
        "id": "X45wJ3ZrWjr0"
      },
      "source": [
        "data = data.drop(columns = ['poster_path'])"
      ],
      "execution_count": null,
      "outputs": []
    },
    {
      "cell_type": "markdown",
      "metadata": {
        "id": "FbIbGqHSXER1"
      },
      "source": [
        "# Production Companies"
      ]
    },
    {
      "cell_type": "code",
      "source": [
        "data.production_companies.values[0]"
      ],
      "metadata": {
        "colab": {
          "base_uri": "https://localhost:8080/",
          "height": 35
        },
        "id": "r09cMO8gHoP3",
        "outputId": "674e0d26-61d7-4a38-9d8d-37347978721f"
      },
      "execution_count": null,
      "outputs": [
        {
          "output_type": "execute_result",
          "data": {
            "text/plain": [
              "\"[{'name': 'Pixar Animation Studios', 'id': 3}]\""
            ],
            "application/vnd.google.colaboratory.intrinsic+json": {
              "type": "string"
            }
          },
          "metadata": {},
          "execution_count": 105
        }
      ]
    },
    {
      "cell_type": "code",
      "source": [
        "data.production_companies.isnull().sum()"
      ],
      "metadata": {
        "colab": {
          "base_uri": "https://localhost:8080/"
        },
        "id": "QHu6kHMpH4FM",
        "outputId": "333a9386-7a85-4a2b-ca6a-7fb0cd755d7a"
      },
      "execution_count": null,
      "outputs": [
        {
          "output_type": "execute_result",
          "data": {
            "text/plain": [
              "0"
            ]
          },
          "metadata": {},
          "execution_count": 106
        }
      ]
    },
    {
      "cell_type": "code",
      "metadata": {
        "colab": {
          "base_uri": "https://localhost:8080/",
          "height": 35
        },
        "id": "RwSdIo4N6887",
        "outputId": "0cf7001e-ba09-4e30-be33-8c1d6040e51d"
      },
      "source": [
        "data.production_companies.values[0]"
      ],
      "execution_count": null,
      "outputs": [
        {
          "output_type": "execute_result",
          "data": {
            "text/plain": [
              "\"[{'name': 'Pixar Animation Studios', 'id': 3}]\""
            ],
            "application/vnd.google.colaboratory.intrinsic+json": {
              "type": "string"
            }
          },
          "metadata": {},
          "execution_count": 107
        }
      ]
    },
    {
      "cell_type": "code",
      "metadata": {
        "id": "kZxYuwpFXJqu"
      },
      "source": [
        "#Code for extracting Producer 1\n",
        "import ast\n",
        "index = 0\n",
        "prod1 = [] #empty list which is going to store producer 1's name for each movie\n",
        "\n",
        "for prod in data.production_companies.values: # looping through all rows/movies\n",
        "  prodList = ast.literal_eval(prod) #string -> list of dicts #for each movie, prodList will contain the set of all the producers\n",
        "  if len(prodList) > index:  # if they have atleast 1 producer\n",
        "    prod1.append(prodList[index]['name']) #note the name of producer\n",
        "  else:\n",
        "    prod1.append('No Producer') #put them as no producer\n",
        "\n",
        "data['Producer1'] = prod1"
      ],
      "execution_count": null,
      "outputs": []
    },
    {
      "cell_type": "code",
      "metadata": {
        "id": "7ATIQr3kXhbp"
      },
      "source": [
        "# Code for extracting producer 2\n",
        "import ast\n",
        "index = 1\n",
        "prod2 = []\n",
        "\n",
        "for prod in data.production_companies.values:\n",
        "  prodList = ast.literal_eval(prod)\n",
        "  if len(prodList) > index:\n",
        "    prod2.append(prodList[index]['name'])\n",
        "  else:\n",
        "    prod2.append('No Producer')\n",
        "\n",
        "data['Producer2'] = prod2"
      ],
      "execution_count": null,
      "outputs": []
    },
    {
      "cell_type": "code",
      "source": [
        "data"
      ],
      "metadata": {
        "colab": {
          "base_uri": "https://localhost:8080/",
          "height": 939
        },
        "id": "73MxRJ4qRzFA",
        "outputId": "93b2a917-a6b5-4742-e1ea-067bae6186ea"
      },
      "execution_count": null,
      "outputs": [
        {
          "output_type": "execute_result",
          "data": {
            "text/plain": [
              "       adult      budget      id    imdb_id original_language  \\\n",
              "0      False  30000000.0     862  tt0114709                en   \n",
              "1      False  65000000.0    8844  tt0113497                en   \n",
              "2      False         0.0   15602  tt0113228                en   \n",
              "3      False  16000000.0   31357  tt0114885                en   \n",
              "4      False         0.0   11862  tt0113041                en   \n",
              "...      ...         ...     ...        ...               ...   \n",
              "45461  False         0.0  439050  tt6209470                fa   \n",
              "45462  False         0.0  111109  tt2028550                tl   \n",
              "45463  False         0.0   67758  tt0303758                en   \n",
              "45464  False         0.0  227506  tt0008536                en   \n",
              "45465  False         0.0  461257  tt6980792                en   \n",
              "\n",
              "                    original_title  \\\n",
              "0                        toy story   \n",
              "1                          jumanji   \n",
              "2                 grumpier old men   \n",
              "3                waiting to exhale   \n",
              "4      father of the bride part ii   \n",
              "...                            ...   \n",
              "45461                      رگ خواب   \n",
              "45462          siglo ng pagluluwal   \n",
              "45463                     betrayal   \n",
              "45464          satana likuyushchiy   \n",
              "45465                     queerama   \n",
              "\n",
              "                                                overview  popularity  \\\n",
              "0      led by woody, andy's toys live happily in his ...    8.620000   \n",
              "1      when siblings judy and peter discover an encha...    8.620000   \n",
              "2      a family wedding reignites the ancient feud be...    8.620000   \n",
              "3      cheated on, mistreated and stepped on, the wom...    3.859495   \n",
              "4      just when george banks has recovered from his ...    8.387519   \n",
              "...                                                  ...         ...   \n",
              "45461        rising and falling between a man and woman.    0.072051   \n",
              "45462  an artist struggles to finish his work while a...    0.178241   \n",
              "45463  when one of her hits goes wrong, a professiona...    0.903007   \n",
              "45464  in a small town live two brothers, one a minis...    0.003503   \n",
              "45465  50 years after decriminalisation of homosexual...    0.163015   \n",
              "\n",
              "                                    production_companies  \\\n",
              "0         [{'name': 'Pixar Animation Studios', 'id': 3}]   \n",
              "1      [{'name': 'TriStar Pictures', 'id': 559}, {'na...   \n",
              "2      [{'name': 'Warner Bros.', 'id': 6194}, {'name'...   \n",
              "3      [{'name': 'Twentieth Century Fox Film Corporat...   \n",
              "4      [{'name': 'Sandollar Productions', 'id': 5842}...   \n",
              "...                                                  ...   \n",
              "45461                                                 []   \n",
              "45462             [{'name': 'Sine Olivia', 'id': 19653}]   \n",
              "45463  [{'name': 'American World Pictures', 'id': 6165}]   \n",
              "45464               [{'name': 'Yermoliev', 'id': 88753}]   \n",
              "45465                                                 []   \n",
              "\n",
              "                                    production_countries  ... Mystery  \\\n",
              "0      [{'iso_3166_1': 'US', 'name': 'United States o...  ...     0.0   \n",
              "1      [{'iso_3166_1': 'US', 'name': 'United States o...  ...     0.0   \n",
              "2      [{'iso_3166_1': 'US', 'name': 'United States o...  ...     0.0   \n",
              "3      [{'iso_3166_1': 'US', 'name': 'United States o...  ...     0.0   \n",
              "4      [{'iso_3166_1': 'US', 'name': 'United States o...  ...     0.0   \n",
              "...                                                  ...  ...     ...   \n",
              "45461             [{'iso_3166_1': 'IR', 'name': 'Iran'}]  ...     0.0   \n",
              "45462      [{'iso_3166_1': 'PH', 'name': 'Philippines'}]  ...     0.0   \n",
              "45463  [{'iso_3166_1': 'US', 'name': 'United States o...  ...     NaN   \n",
              "45464           [{'iso_3166_1': 'RU', 'name': 'Russia'}]  ...     NaN   \n",
              "45465   [{'iso_3166_1': 'GB', 'name': 'United Kingdom'}]  ...     NaN   \n",
              "\n",
              "       History  Drama Thriller Fantasy Romance Foreign  homePagePresent  \\\n",
              "0          0.0    0.0      0.0     0.0     0.0     0.0                1   \n",
              "1          0.0    0.0      0.0     1.0     0.0     0.0                0   \n",
              "2          0.0    0.0      0.0     0.0     1.0     0.0                0   \n",
              "3          0.0    1.0      0.0     0.0     1.0     0.0                0   \n",
              "4          0.0    0.0      0.0     0.0     0.0     0.0                0   \n",
              "...        ...    ...      ...     ...     ...     ...              ...   \n",
              "45461      0.0    0.0      0.0     0.0     0.0     0.0                1   \n",
              "45462      0.0    0.0      0.0     0.0     0.0     0.0                0   \n",
              "45463      NaN    NaN      NaN     NaN     NaN     NaN                0   \n",
              "45464      NaN    NaN      NaN     NaN     NaN     NaN                0   \n",
              "45465      NaN    NaN      NaN     NaN     NaN     NaN                0   \n",
              "\n",
              "                                    Producer1            Producer2  \n",
              "0                     Pixar Animation Studios          No Producer  \n",
              "1                            TriStar Pictures         Teitler Film  \n",
              "2                                Warner Bros.       Lancaster Gate  \n",
              "3      Twentieth Century Fox Film Corporation          No Producer  \n",
              "4                       Sandollar Productions  Touchstone Pictures  \n",
              "...                                       ...                  ...  \n",
              "45461                             No Producer          No Producer  \n",
              "45462                             Sine Olivia          No Producer  \n",
              "45463                 American World Pictures          No Producer  \n",
              "45464                               Yermoliev          No Producer  \n",
              "45465                             No Producer          No Producer  \n",
              "\n",
              "[45414 rows x 43 columns]"
            ],
            "text/html": [
              "\n",
              "  <div id=\"df-9e1d7c4b-1fd3-45a4-9bc1-8d8b6f987dc3\">\n",
              "    <div class=\"colab-df-container\">\n",
              "      <div>\n",
              "<style scoped>\n",
              "    .dataframe tbody tr th:only-of-type {\n",
              "        vertical-align: middle;\n",
              "    }\n",
              "\n",
              "    .dataframe tbody tr th {\n",
              "        vertical-align: top;\n",
              "    }\n",
              "\n",
              "    .dataframe thead th {\n",
              "        text-align: right;\n",
              "    }\n",
              "</style>\n",
              "<table border=\"1\" class=\"dataframe\">\n",
              "  <thead>\n",
              "    <tr style=\"text-align: right;\">\n",
              "      <th></th>\n",
              "      <th>adult</th>\n",
              "      <th>budget</th>\n",
              "      <th>id</th>\n",
              "      <th>imdb_id</th>\n",
              "      <th>original_language</th>\n",
              "      <th>original_title</th>\n",
              "      <th>overview</th>\n",
              "      <th>popularity</th>\n",
              "      <th>production_companies</th>\n",
              "      <th>production_countries</th>\n",
              "      <th>...</th>\n",
              "      <th>Mystery</th>\n",
              "      <th>History</th>\n",
              "      <th>Drama</th>\n",
              "      <th>Thriller</th>\n",
              "      <th>Fantasy</th>\n",
              "      <th>Romance</th>\n",
              "      <th>Foreign</th>\n",
              "      <th>homePagePresent</th>\n",
              "      <th>Producer1</th>\n",
              "      <th>Producer2</th>\n",
              "    </tr>\n",
              "  </thead>\n",
              "  <tbody>\n",
              "    <tr>\n",
              "      <th>0</th>\n",
              "      <td>False</td>\n",
              "      <td>30000000.0</td>\n",
              "      <td>862</td>\n",
              "      <td>tt0114709</td>\n",
              "      <td>en</td>\n",
              "      <td>toy story</td>\n",
              "      <td>led by woody, andy's toys live happily in his ...</td>\n",
              "      <td>8.620000</td>\n",
              "      <td>[{'name': 'Pixar Animation Studios', 'id': 3}]</td>\n",
              "      <td>[{'iso_3166_1': 'US', 'name': 'United States o...</td>\n",
              "      <td>...</td>\n",
              "      <td>0.0</td>\n",
              "      <td>0.0</td>\n",
              "      <td>0.0</td>\n",
              "      <td>0.0</td>\n",
              "      <td>0.0</td>\n",
              "      <td>0.0</td>\n",
              "      <td>0.0</td>\n",
              "      <td>1</td>\n",
              "      <td>Pixar Animation Studios</td>\n",
              "      <td>No Producer</td>\n",
              "    </tr>\n",
              "    <tr>\n",
              "      <th>1</th>\n",
              "      <td>False</td>\n",
              "      <td>65000000.0</td>\n",
              "      <td>8844</td>\n",
              "      <td>tt0113497</td>\n",
              "      <td>en</td>\n",
              "      <td>jumanji</td>\n",
              "      <td>when siblings judy and peter discover an encha...</td>\n",
              "      <td>8.620000</td>\n",
              "      <td>[{'name': 'TriStar Pictures', 'id': 559}, {'na...</td>\n",
              "      <td>[{'iso_3166_1': 'US', 'name': 'United States o...</td>\n",
              "      <td>...</td>\n",
              "      <td>0.0</td>\n",
              "      <td>0.0</td>\n",
              "      <td>0.0</td>\n",
              "      <td>0.0</td>\n",
              "      <td>1.0</td>\n",
              "      <td>0.0</td>\n",
              "      <td>0.0</td>\n",
              "      <td>0</td>\n",
              "      <td>TriStar Pictures</td>\n",
              "      <td>Teitler Film</td>\n",
              "    </tr>\n",
              "    <tr>\n",
              "      <th>2</th>\n",
              "      <td>False</td>\n",
              "      <td>0.0</td>\n",
              "      <td>15602</td>\n",
              "      <td>tt0113228</td>\n",
              "      <td>en</td>\n",
              "      <td>grumpier old men</td>\n",
              "      <td>a family wedding reignites the ancient feud be...</td>\n",
              "      <td>8.620000</td>\n",
              "      <td>[{'name': 'Warner Bros.', 'id': 6194}, {'name'...</td>\n",
              "      <td>[{'iso_3166_1': 'US', 'name': 'United States o...</td>\n",
              "      <td>...</td>\n",
              "      <td>0.0</td>\n",
              "      <td>0.0</td>\n",
              "      <td>0.0</td>\n",
              "      <td>0.0</td>\n",
              "      <td>0.0</td>\n",
              "      <td>1.0</td>\n",
              "      <td>0.0</td>\n",
              "      <td>0</td>\n",
              "      <td>Warner Bros.</td>\n",
              "      <td>Lancaster Gate</td>\n",
              "    </tr>\n",
              "    <tr>\n",
              "      <th>3</th>\n",
              "      <td>False</td>\n",
              "      <td>16000000.0</td>\n",
              "      <td>31357</td>\n",
              "      <td>tt0114885</td>\n",
              "      <td>en</td>\n",
              "      <td>waiting to exhale</td>\n",
              "      <td>cheated on, mistreated and stepped on, the wom...</td>\n",
              "      <td>3.859495</td>\n",
              "      <td>[{'name': 'Twentieth Century Fox Film Corporat...</td>\n",
              "      <td>[{'iso_3166_1': 'US', 'name': 'United States o...</td>\n",
              "      <td>...</td>\n",
              "      <td>0.0</td>\n",
              "      <td>0.0</td>\n",
              "      <td>1.0</td>\n",
              "      <td>0.0</td>\n",
              "      <td>0.0</td>\n",
              "      <td>1.0</td>\n",
              "      <td>0.0</td>\n",
              "      <td>0</td>\n",
              "      <td>Twentieth Century Fox Film Corporation</td>\n",
              "      <td>No Producer</td>\n",
              "    </tr>\n",
              "    <tr>\n",
              "      <th>4</th>\n",
              "      <td>False</td>\n",
              "      <td>0.0</td>\n",
              "      <td>11862</td>\n",
              "      <td>tt0113041</td>\n",
              "      <td>en</td>\n",
              "      <td>father of the bride part ii</td>\n",
              "      <td>just when george banks has recovered from his ...</td>\n",
              "      <td>8.387519</td>\n",
              "      <td>[{'name': 'Sandollar Productions', 'id': 5842}...</td>\n",
              "      <td>[{'iso_3166_1': 'US', 'name': 'United States o...</td>\n",
              "      <td>...</td>\n",
              "      <td>0.0</td>\n",
              "      <td>0.0</td>\n",
              "      <td>0.0</td>\n",
              "      <td>0.0</td>\n",
              "      <td>0.0</td>\n",
              "      <td>0.0</td>\n",
              "      <td>0.0</td>\n",
              "      <td>0</td>\n",
              "      <td>Sandollar Productions</td>\n",
              "      <td>Touchstone Pictures</td>\n",
              "    </tr>\n",
              "    <tr>\n",
              "      <th>...</th>\n",
              "      <td>...</td>\n",
              "      <td>...</td>\n",
              "      <td>...</td>\n",
              "      <td>...</td>\n",
              "      <td>...</td>\n",
              "      <td>...</td>\n",
              "      <td>...</td>\n",
              "      <td>...</td>\n",
              "      <td>...</td>\n",
              "      <td>...</td>\n",
              "      <td>...</td>\n",
              "      <td>...</td>\n",
              "      <td>...</td>\n",
              "      <td>...</td>\n",
              "      <td>...</td>\n",
              "      <td>...</td>\n",
              "      <td>...</td>\n",
              "      <td>...</td>\n",
              "      <td>...</td>\n",
              "      <td>...</td>\n",
              "      <td>...</td>\n",
              "    </tr>\n",
              "    <tr>\n",
              "      <th>45461</th>\n",
              "      <td>False</td>\n",
              "      <td>0.0</td>\n",
              "      <td>439050</td>\n",
              "      <td>tt6209470</td>\n",
              "      <td>fa</td>\n",
              "      <td>رگ خواب</td>\n",
              "      <td>rising and falling between a man and woman.</td>\n",
              "      <td>0.072051</td>\n",
              "      <td>[]</td>\n",
              "      <td>[{'iso_3166_1': 'IR', 'name': 'Iran'}]</td>\n",
              "      <td>...</td>\n",
              "      <td>0.0</td>\n",
              "      <td>0.0</td>\n",
              "      <td>0.0</td>\n",
              "      <td>0.0</td>\n",
              "      <td>0.0</td>\n",
              "      <td>0.0</td>\n",
              "      <td>0.0</td>\n",
              "      <td>1</td>\n",
              "      <td>No Producer</td>\n",
              "      <td>No Producer</td>\n",
              "    </tr>\n",
              "    <tr>\n",
              "      <th>45462</th>\n",
              "      <td>False</td>\n",
              "      <td>0.0</td>\n",
              "      <td>111109</td>\n",
              "      <td>tt2028550</td>\n",
              "      <td>tl</td>\n",
              "      <td>siglo ng pagluluwal</td>\n",
              "      <td>an artist struggles to finish his work while a...</td>\n",
              "      <td>0.178241</td>\n",
              "      <td>[{'name': 'Sine Olivia', 'id': 19653}]</td>\n",
              "      <td>[{'iso_3166_1': 'PH', 'name': 'Philippines'}]</td>\n",
              "      <td>...</td>\n",
              "      <td>0.0</td>\n",
              "      <td>0.0</td>\n",
              "      <td>0.0</td>\n",
              "      <td>0.0</td>\n",
              "      <td>0.0</td>\n",
              "      <td>0.0</td>\n",
              "      <td>0.0</td>\n",
              "      <td>0</td>\n",
              "      <td>Sine Olivia</td>\n",
              "      <td>No Producer</td>\n",
              "    </tr>\n",
              "    <tr>\n",
              "      <th>45463</th>\n",
              "      <td>False</td>\n",
              "      <td>0.0</td>\n",
              "      <td>67758</td>\n",
              "      <td>tt0303758</td>\n",
              "      <td>en</td>\n",
              "      <td>betrayal</td>\n",
              "      <td>when one of her hits goes wrong, a professiona...</td>\n",
              "      <td>0.903007</td>\n",
              "      <td>[{'name': 'American World Pictures', 'id': 6165}]</td>\n",
              "      <td>[{'iso_3166_1': 'US', 'name': 'United States o...</td>\n",
              "      <td>...</td>\n",
              "      <td>NaN</td>\n",
              "      <td>NaN</td>\n",
              "      <td>NaN</td>\n",
              "      <td>NaN</td>\n",
              "      <td>NaN</td>\n",
              "      <td>NaN</td>\n",
              "      <td>NaN</td>\n",
              "      <td>0</td>\n",
              "      <td>American World Pictures</td>\n",
              "      <td>No Producer</td>\n",
              "    </tr>\n",
              "    <tr>\n",
              "      <th>45464</th>\n",
              "      <td>False</td>\n",
              "      <td>0.0</td>\n",
              "      <td>227506</td>\n",
              "      <td>tt0008536</td>\n",
              "      <td>en</td>\n",
              "      <td>satana likuyushchiy</td>\n",
              "      <td>in a small town live two brothers, one a minis...</td>\n",
              "      <td>0.003503</td>\n",
              "      <td>[{'name': 'Yermoliev', 'id': 88753}]</td>\n",
              "      <td>[{'iso_3166_1': 'RU', 'name': 'Russia'}]</td>\n",
              "      <td>...</td>\n",
              "      <td>NaN</td>\n",
              "      <td>NaN</td>\n",
              "      <td>NaN</td>\n",
              "      <td>NaN</td>\n",
              "      <td>NaN</td>\n",
              "      <td>NaN</td>\n",
              "      <td>NaN</td>\n",
              "      <td>0</td>\n",
              "      <td>Yermoliev</td>\n",
              "      <td>No Producer</td>\n",
              "    </tr>\n",
              "    <tr>\n",
              "      <th>45465</th>\n",
              "      <td>False</td>\n",
              "      <td>0.0</td>\n",
              "      <td>461257</td>\n",
              "      <td>tt6980792</td>\n",
              "      <td>en</td>\n",
              "      <td>queerama</td>\n",
              "      <td>50 years after decriminalisation of homosexual...</td>\n",
              "      <td>0.163015</td>\n",
              "      <td>[]</td>\n",
              "      <td>[{'iso_3166_1': 'GB', 'name': 'United Kingdom'}]</td>\n",
              "      <td>...</td>\n",
              "      <td>NaN</td>\n",
              "      <td>NaN</td>\n",
              "      <td>NaN</td>\n",
              "      <td>NaN</td>\n",
              "      <td>NaN</td>\n",
              "      <td>NaN</td>\n",
              "      <td>NaN</td>\n",
              "      <td>0</td>\n",
              "      <td>No Producer</td>\n",
              "      <td>No Producer</td>\n",
              "    </tr>\n",
              "  </tbody>\n",
              "</table>\n",
              "<p>45414 rows × 43 columns</p>\n",
              "</div>\n",
              "      <button class=\"colab-df-convert\" onclick=\"convertToInteractive('df-9e1d7c4b-1fd3-45a4-9bc1-8d8b6f987dc3')\"\n",
              "              title=\"Convert this dataframe to an interactive table.\"\n",
              "              style=\"display:none;\">\n",
              "        \n",
              "  <svg xmlns=\"http://www.w3.org/2000/svg\" height=\"24px\"viewBox=\"0 0 24 24\"\n",
              "       width=\"24px\">\n",
              "    <path d=\"M0 0h24v24H0V0z\" fill=\"none\"/>\n",
              "    <path d=\"M18.56 5.44l.94 2.06.94-2.06 2.06-.94-2.06-.94-.94-2.06-.94 2.06-2.06.94zm-11 1L8.5 8.5l.94-2.06 2.06-.94-2.06-.94L8.5 2.5l-.94 2.06-2.06.94zm10 10l.94 2.06.94-2.06 2.06-.94-2.06-.94-.94-2.06-.94 2.06-2.06.94z\"/><path d=\"M17.41 7.96l-1.37-1.37c-.4-.4-.92-.59-1.43-.59-.52 0-1.04.2-1.43.59L10.3 9.45l-7.72 7.72c-.78.78-.78 2.05 0 2.83L4 21.41c.39.39.9.59 1.41.59.51 0 1.02-.2 1.41-.59l7.78-7.78 2.81-2.81c.8-.78.8-2.07 0-2.86zM5.41 20L4 18.59l7.72-7.72 1.47 1.35L5.41 20z\"/>\n",
              "  </svg>\n",
              "      </button>\n",
              "      \n",
              "  <style>\n",
              "    .colab-df-container {\n",
              "      display:flex;\n",
              "      flex-wrap:wrap;\n",
              "      gap: 12px;\n",
              "    }\n",
              "\n",
              "    .colab-df-convert {\n",
              "      background-color: #E8F0FE;\n",
              "      border: none;\n",
              "      border-radius: 50%;\n",
              "      cursor: pointer;\n",
              "      display: none;\n",
              "      fill: #1967D2;\n",
              "      height: 32px;\n",
              "      padding: 0 0 0 0;\n",
              "      width: 32px;\n",
              "    }\n",
              "\n",
              "    .colab-df-convert:hover {\n",
              "      background-color: #E2EBFA;\n",
              "      box-shadow: 0px 1px 2px rgba(60, 64, 67, 0.3), 0px 1px 3px 1px rgba(60, 64, 67, 0.15);\n",
              "      fill: #174EA6;\n",
              "    }\n",
              "\n",
              "    [theme=dark] .colab-df-convert {\n",
              "      background-color: #3B4455;\n",
              "      fill: #D2E3FC;\n",
              "    }\n",
              "\n",
              "    [theme=dark] .colab-df-convert:hover {\n",
              "      background-color: #434B5C;\n",
              "      box-shadow: 0px 1px 3px 1px rgba(0, 0, 0, 0.15);\n",
              "      filter: drop-shadow(0px 1px 2px rgba(0, 0, 0, 0.3));\n",
              "      fill: #FFFFFF;\n",
              "    }\n",
              "  </style>\n",
              "\n",
              "      <script>\n",
              "        const buttonEl =\n",
              "          document.querySelector('#df-9e1d7c4b-1fd3-45a4-9bc1-8d8b6f987dc3 button.colab-df-convert');\n",
              "        buttonEl.style.display =\n",
              "          google.colab.kernel.accessAllowed ? 'block' : 'none';\n",
              "\n",
              "        async function convertToInteractive(key) {\n",
              "          const element = document.querySelector('#df-9e1d7c4b-1fd3-45a4-9bc1-8d8b6f987dc3');\n",
              "          const dataTable =\n",
              "            await google.colab.kernel.invokeFunction('convertToInteractive',\n",
              "                                                     [key], {});\n",
              "          if (!dataTable) return;\n",
              "\n",
              "          const docLinkHtml = 'Like what you see? Visit the ' +\n",
              "            '<a target=\"_blank\" href=https://colab.research.google.com/notebooks/data_table.ipynb>data table notebook</a>'\n",
              "            + ' to learn more about interactive tables.';\n",
              "          element.innerHTML = '';\n",
              "          dataTable['output_type'] = 'display_data';\n",
              "          await google.colab.output.renderOutput(dataTable, element);\n",
              "          const docLink = document.createElement('div');\n",
              "          docLink.innerHTML = docLinkHtml;\n",
              "          element.appendChild(docLink);\n",
              "        }\n",
              "      </script>\n",
              "    </div>\n",
              "  </div>\n",
              "  "
            ]
          },
          "metadata": {},
          "execution_count": 110
        }
      ]
    },
    {
      "cell_type": "code",
      "metadata": {
        "id": "cpruqMtOXp2Y"
      },
      "source": [
        "data = data.drop(columns = ['production_companies'])"
      ],
      "execution_count": null,
      "outputs": []
    },
    {
      "cell_type": "code",
      "metadata": {
        "id": "STObzqVBjcrS"
      },
      "source": [
        "data['Producer1'] = data['Producer1'].str.lower()\n",
        "data['Producer2'] = data['Producer2'].str.lower()\n",
        "data['Producer1'] = data['Producer1'].str.strip()\n",
        "data['Producer2'] = data['Producer2'].str.strip()"
      ],
      "execution_count": null,
      "outputs": []
    },
    {
      "cell_type": "code",
      "metadata": {
        "colab": {
          "base_uri": "https://localhost:8080/",
          "height": 939
        },
        "id": "hgXwSkqn4n2m",
        "outputId": "8547aea4-b1a9-49d2-fa18-8c7d1f487c19"
      },
      "source": [
        "data"
      ],
      "execution_count": null,
      "outputs": [
        {
          "output_type": "execute_result",
          "data": {
            "text/plain": [
              "       adult      budget      id    imdb_id original_language  \\\n",
              "0      False  30000000.0     862  tt0114709                en   \n",
              "1      False  65000000.0    8844  tt0113497                en   \n",
              "2      False         0.0   15602  tt0113228                en   \n",
              "3      False  16000000.0   31357  tt0114885                en   \n",
              "4      False         0.0   11862  tt0113041                en   \n",
              "...      ...         ...     ...        ...               ...   \n",
              "45461  False         0.0  439050  tt6209470                fa   \n",
              "45462  False         0.0  111109  tt2028550                tl   \n",
              "45463  False         0.0   67758  tt0303758                en   \n",
              "45464  False         0.0  227506  tt0008536                en   \n",
              "45465  False         0.0  461257  tt6980792                en   \n",
              "\n",
              "                    original_title  \\\n",
              "0                        toy story   \n",
              "1                          jumanji   \n",
              "2                 grumpier old men   \n",
              "3                waiting to exhale   \n",
              "4      father of the bride part ii   \n",
              "...                            ...   \n",
              "45461                      رگ خواب   \n",
              "45462          siglo ng pagluluwal   \n",
              "45463                     betrayal   \n",
              "45464          satana likuyushchiy   \n",
              "45465                     queerama   \n",
              "\n",
              "                                                overview  popularity  \\\n",
              "0      led by woody, andy's toys live happily in his ...    8.620000   \n",
              "1      when siblings judy and peter discover an encha...    8.620000   \n",
              "2      a family wedding reignites the ancient feud be...    8.620000   \n",
              "3      cheated on, mistreated and stepped on, the wom...    3.859495   \n",
              "4      just when george banks has recovered from his ...    8.387519   \n",
              "...                                                  ...         ...   \n",
              "45461        rising and falling between a man and woman.    0.072051   \n",
              "45462  an artist struggles to finish his work while a...    0.178241   \n",
              "45463  when one of her hits goes wrong, a professiona...    0.903007   \n",
              "45464  in a small town live two brothers, one a minis...    0.003503   \n",
              "45465  50 years after decriminalisation of homosexual...    0.163015   \n",
              "\n",
              "                                    production_countries release_date  ...  \\\n",
              "0      [{'iso_3166_1': 'US', 'name': 'United States o...   1995-10-30  ...   \n",
              "1      [{'iso_3166_1': 'US', 'name': 'United States o...   1995-12-15  ...   \n",
              "2      [{'iso_3166_1': 'US', 'name': 'United States o...   1995-12-22  ...   \n",
              "3      [{'iso_3166_1': 'US', 'name': 'United States o...   1995-12-22  ...   \n",
              "4      [{'iso_3166_1': 'US', 'name': 'United States o...   1995-02-10  ...   \n",
              "...                                                  ...          ...  ...   \n",
              "45461             [{'iso_3166_1': 'IR', 'name': 'Iran'}]          NaN  ...   \n",
              "45462      [{'iso_3166_1': 'PH', 'name': 'Philippines'}]   2011-11-17  ...   \n",
              "45463  [{'iso_3166_1': 'US', 'name': 'United States o...   2003-08-01  ...   \n",
              "45464           [{'iso_3166_1': 'RU', 'name': 'Russia'}]   1917-10-21  ...   \n",
              "45465   [{'iso_3166_1': 'GB', 'name': 'United Kingdom'}]   2017-06-09  ...   \n",
              "\n",
              "       Mystery  History Drama Thriller Fantasy Romance  Foreign  \\\n",
              "0          0.0      0.0   0.0      0.0     0.0     0.0      0.0   \n",
              "1          0.0      0.0   0.0      0.0     1.0     0.0      0.0   \n",
              "2          0.0      0.0   0.0      0.0     0.0     1.0      0.0   \n",
              "3          0.0      0.0   1.0      0.0     0.0     1.0      0.0   \n",
              "4          0.0      0.0   0.0      0.0     0.0     0.0      0.0   \n",
              "...        ...      ...   ...      ...     ...     ...      ...   \n",
              "45461      0.0      0.0   0.0      0.0     0.0     0.0      0.0   \n",
              "45462      0.0      0.0   0.0      0.0     0.0     0.0      0.0   \n",
              "45463      NaN      NaN   NaN      NaN     NaN     NaN      NaN   \n",
              "45464      NaN      NaN   NaN      NaN     NaN     NaN      NaN   \n",
              "45465      NaN      NaN   NaN      NaN     NaN     NaN      NaN   \n",
              "\n",
              "       homePagePresent                               Producer1  \\\n",
              "0                    1                 pixar animation studios   \n",
              "1                    0                        tristar pictures   \n",
              "2                    0                            warner bros.   \n",
              "3                    0  twentieth century fox film corporation   \n",
              "4                    0                   sandollar productions   \n",
              "...                ...                                     ...   \n",
              "45461                1                             no producer   \n",
              "45462                0                             sine olivia   \n",
              "45463                0                 american world pictures   \n",
              "45464                0                               yermoliev   \n",
              "45465                0                             no producer   \n",
              "\n",
              "                 Producer2  \n",
              "0              no producer  \n",
              "1             teitler film  \n",
              "2           lancaster gate  \n",
              "3              no producer  \n",
              "4      touchstone pictures  \n",
              "...                    ...  \n",
              "45461          no producer  \n",
              "45462          no producer  \n",
              "45463          no producer  \n",
              "45464          no producer  \n",
              "45465          no producer  \n",
              "\n",
              "[45414 rows x 42 columns]"
            ],
            "text/html": [
              "\n",
              "  <div id=\"df-64e276b1-d269-42c0-8463-db9b2b30cfc0\">\n",
              "    <div class=\"colab-df-container\">\n",
              "      <div>\n",
              "<style scoped>\n",
              "    .dataframe tbody tr th:only-of-type {\n",
              "        vertical-align: middle;\n",
              "    }\n",
              "\n",
              "    .dataframe tbody tr th {\n",
              "        vertical-align: top;\n",
              "    }\n",
              "\n",
              "    .dataframe thead th {\n",
              "        text-align: right;\n",
              "    }\n",
              "</style>\n",
              "<table border=\"1\" class=\"dataframe\">\n",
              "  <thead>\n",
              "    <tr style=\"text-align: right;\">\n",
              "      <th></th>\n",
              "      <th>adult</th>\n",
              "      <th>budget</th>\n",
              "      <th>id</th>\n",
              "      <th>imdb_id</th>\n",
              "      <th>original_language</th>\n",
              "      <th>original_title</th>\n",
              "      <th>overview</th>\n",
              "      <th>popularity</th>\n",
              "      <th>production_countries</th>\n",
              "      <th>release_date</th>\n",
              "      <th>...</th>\n",
              "      <th>Mystery</th>\n",
              "      <th>History</th>\n",
              "      <th>Drama</th>\n",
              "      <th>Thriller</th>\n",
              "      <th>Fantasy</th>\n",
              "      <th>Romance</th>\n",
              "      <th>Foreign</th>\n",
              "      <th>homePagePresent</th>\n",
              "      <th>Producer1</th>\n",
              "      <th>Producer2</th>\n",
              "    </tr>\n",
              "  </thead>\n",
              "  <tbody>\n",
              "    <tr>\n",
              "      <th>0</th>\n",
              "      <td>False</td>\n",
              "      <td>30000000.0</td>\n",
              "      <td>862</td>\n",
              "      <td>tt0114709</td>\n",
              "      <td>en</td>\n",
              "      <td>toy story</td>\n",
              "      <td>led by woody, andy's toys live happily in his ...</td>\n",
              "      <td>8.620000</td>\n",
              "      <td>[{'iso_3166_1': 'US', 'name': 'United States o...</td>\n",
              "      <td>1995-10-30</td>\n",
              "      <td>...</td>\n",
              "      <td>0.0</td>\n",
              "      <td>0.0</td>\n",
              "      <td>0.0</td>\n",
              "      <td>0.0</td>\n",
              "      <td>0.0</td>\n",
              "      <td>0.0</td>\n",
              "      <td>0.0</td>\n",
              "      <td>1</td>\n",
              "      <td>pixar animation studios</td>\n",
              "      <td>no producer</td>\n",
              "    </tr>\n",
              "    <tr>\n",
              "      <th>1</th>\n",
              "      <td>False</td>\n",
              "      <td>65000000.0</td>\n",
              "      <td>8844</td>\n",
              "      <td>tt0113497</td>\n",
              "      <td>en</td>\n",
              "      <td>jumanji</td>\n",
              "      <td>when siblings judy and peter discover an encha...</td>\n",
              "      <td>8.620000</td>\n",
              "      <td>[{'iso_3166_1': 'US', 'name': 'United States o...</td>\n",
              "      <td>1995-12-15</td>\n",
              "      <td>...</td>\n",
              "      <td>0.0</td>\n",
              "      <td>0.0</td>\n",
              "      <td>0.0</td>\n",
              "      <td>0.0</td>\n",
              "      <td>1.0</td>\n",
              "      <td>0.0</td>\n",
              "      <td>0.0</td>\n",
              "      <td>0</td>\n",
              "      <td>tristar pictures</td>\n",
              "      <td>teitler film</td>\n",
              "    </tr>\n",
              "    <tr>\n",
              "      <th>2</th>\n",
              "      <td>False</td>\n",
              "      <td>0.0</td>\n",
              "      <td>15602</td>\n",
              "      <td>tt0113228</td>\n",
              "      <td>en</td>\n",
              "      <td>grumpier old men</td>\n",
              "      <td>a family wedding reignites the ancient feud be...</td>\n",
              "      <td>8.620000</td>\n",
              "      <td>[{'iso_3166_1': 'US', 'name': 'United States o...</td>\n",
              "      <td>1995-12-22</td>\n",
              "      <td>...</td>\n",
              "      <td>0.0</td>\n",
              "      <td>0.0</td>\n",
              "      <td>0.0</td>\n",
              "      <td>0.0</td>\n",
              "      <td>0.0</td>\n",
              "      <td>1.0</td>\n",
              "      <td>0.0</td>\n",
              "      <td>0</td>\n",
              "      <td>warner bros.</td>\n",
              "      <td>lancaster gate</td>\n",
              "    </tr>\n",
              "    <tr>\n",
              "      <th>3</th>\n",
              "      <td>False</td>\n",
              "      <td>16000000.0</td>\n",
              "      <td>31357</td>\n",
              "      <td>tt0114885</td>\n",
              "      <td>en</td>\n",
              "      <td>waiting to exhale</td>\n",
              "      <td>cheated on, mistreated and stepped on, the wom...</td>\n",
              "      <td>3.859495</td>\n",
              "      <td>[{'iso_3166_1': 'US', 'name': 'United States o...</td>\n",
              "      <td>1995-12-22</td>\n",
              "      <td>...</td>\n",
              "      <td>0.0</td>\n",
              "      <td>0.0</td>\n",
              "      <td>1.0</td>\n",
              "      <td>0.0</td>\n",
              "      <td>0.0</td>\n",
              "      <td>1.0</td>\n",
              "      <td>0.0</td>\n",
              "      <td>0</td>\n",
              "      <td>twentieth century fox film corporation</td>\n",
              "      <td>no producer</td>\n",
              "    </tr>\n",
              "    <tr>\n",
              "      <th>4</th>\n",
              "      <td>False</td>\n",
              "      <td>0.0</td>\n",
              "      <td>11862</td>\n",
              "      <td>tt0113041</td>\n",
              "      <td>en</td>\n",
              "      <td>father of the bride part ii</td>\n",
              "      <td>just when george banks has recovered from his ...</td>\n",
              "      <td>8.387519</td>\n",
              "      <td>[{'iso_3166_1': 'US', 'name': 'United States o...</td>\n",
              "      <td>1995-02-10</td>\n",
              "      <td>...</td>\n",
              "      <td>0.0</td>\n",
              "      <td>0.0</td>\n",
              "      <td>0.0</td>\n",
              "      <td>0.0</td>\n",
              "      <td>0.0</td>\n",
              "      <td>0.0</td>\n",
              "      <td>0.0</td>\n",
              "      <td>0</td>\n",
              "      <td>sandollar productions</td>\n",
              "      <td>touchstone pictures</td>\n",
              "    </tr>\n",
              "    <tr>\n",
              "      <th>...</th>\n",
              "      <td>...</td>\n",
              "      <td>...</td>\n",
              "      <td>...</td>\n",
              "      <td>...</td>\n",
              "      <td>...</td>\n",
              "      <td>...</td>\n",
              "      <td>...</td>\n",
              "      <td>...</td>\n",
              "      <td>...</td>\n",
              "      <td>...</td>\n",
              "      <td>...</td>\n",
              "      <td>...</td>\n",
              "      <td>...</td>\n",
              "      <td>...</td>\n",
              "      <td>...</td>\n",
              "      <td>...</td>\n",
              "      <td>...</td>\n",
              "      <td>...</td>\n",
              "      <td>...</td>\n",
              "      <td>...</td>\n",
              "      <td>...</td>\n",
              "    </tr>\n",
              "    <tr>\n",
              "      <th>45461</th>\n",
              "      <td>False</td>\n",
              "      <td>0.0</td>\n",
              "      <td>439050</td>\n",
              "      <td>tt6209470</td>\n",
              "      <td>fa</td>\n",
              "      <td>رگ خواب</td>\n",
              "      <td>rising and falling between a man and woman.</td>\n",
              "      <td>0.072051</td>\n",
              "      <td>[{'iso_3166_1': 'IR', 'name': 'Iran'}]</td>\n",
              "      <td>NaN</td>\n",
              "      <td>...</td>\n",
              "      <td>0.0</td>\n",
              "      <td>0.0</td>\n",
              "      <td>0.0</td>\n",
              "      <td>0.0</td>\n",
              "      <td>0.0</td>\n",
              "      <td>0.0</td>\n",
              "      <td>0.0</td>\n",
              "      <td>1</td>\n",
              "      <td>no producer</td>\n",
              "      <td>no producer</td>\n",
              "    </tr>\n",
              "    <tr>\n",
              "      <th>45462</th>\n",
              "      <td>False</td>\n",
              "      <td>0.0</td>\n",
              "      <td>111109</td>\n",
              "      <td>tt2028550</td>\n",
              "      <td>tl</td>\n",
              "      <td>siglo ng pagluluwal</td>\n",
              "      <td>an artist struggles to finish his work while a...</td>\n",
              "      <td>0.178241</td>\n",
              "      <td>[{'iso_3166_1': 'PH', 'name': 'Philippines'}]</td>\n",
              "      <td>2011-11-17</td>\n",
              "      <td>...</td>\n",
              "      <td>0.0</td>\n",
              "      <td>0.0</td>\n",
              "      <td>0.0</td>\n",
              "      <td>0.0</td>\n",
              "      <td>0.0</td>\n",
              "      <td>0.0</td>\n",
              "      <td>0.0</td>\n",
              "      <td>0</td>\n",
              "      <td>sine olivia</td>\n",
              "      <td>no producer</td>\n",
              "    </tr>\n",
              "    <tr>\n",
              "      <th>45463</th>\n",
              "      <td>False</td>\n",
              "      <td>0.0</td>\n",
              "      <td>67758</td>\n",
              "      <td>tt0303758</td>\n",
              "      <td>en</td>\n",
              "      <td>betrayal</td>\n",
              "      <td>when one of her hits goes wrong, a professiona...</td>\n",
              "      <td>0.903007</td>\n",
              "      <td>[{'iso_3166_1': 'US', 'name': 'United States o...</td>\n",
              "      <td>2003-08-01</td>\n",
              "      <td>...</td>\n",
              "      <td>NaN</td>\n",
              "      <td>NaN</td>\n",
              "      <td>NaN</td>\n",
              "      <td>NaN</td>\n",
              "      <td>NaN</td>\n",
              "      <td>NaN</td>\n",
              "      <td>NaN</td>\n",
              "      <td>0</td>\n",
              "      <td>american world pictures</td>\n",
              "      <td>no producer</td>\n",
              "    </tr>\n",
              "    <tr>\n",
              "      <th>45464</th>\n",
              "      <td>False</td>\n",
              "      <td>0.0</td>\n",
              "      <td>227506</td>\n",
              "      <td>tt0008536</td>\n",
              "      <td>en</td>\n",
              "      <td>satana likuyushchiy</td>\n",
              "      <td>in a small town live two brothers, one a minis...</td>\n",
              "      <td>0.003503</td>\n",
              "      <td>[{'iso_3166_1': 'RU', 'name': 'Russia'}]</td>\n",
              "      <td>1917-10-21</td>\n",
              "      <td>...</td>\n",
              "      <td>NaN</td>\n",
              "      <td>NaN</td>\n",
              "      <td>NaN</td>\n",
              "      <td>NaN</td>\n",
              "      <td>NaN</td>\n",
              "      <td>NaN</td>\n",
              "      <td>NaN</td>\n",
              "      <td>0</td>\n",
              "      <td>yermoliev</td>\n",
              "      <td>no producer</td>\n",
              "    </tr>\n",
              "    <tr>\n",
              "      <th>45465</th>\n",
              "      <td>False</td>\n",
              "      <td>0.0</td>\n",
              "      <td>461257</td>\n",
              "      <td>tt6980792</td>\n",
              "      <td>en</td>\n",
              "      <td>queerama</td>\n",
              "      <td>50 years after decriminalisation of homosexual...</td>\n",
              "      <td>0.163015</td>\n",
              "      <td>[{'iso_3166_1': 'GB', 'name': 'United Kingdom'}]</td>\n",
              "      <td>2017-06-09</td>\n",
              "      <td>...</td>\n",
              "      <td>NaN</td>\n",
              "      <td>NaN</td>\n",
              "      <td>NaN</td>\n",
              "      <td>NaN</td>\n",
              "      <td>NaN</td>\n",
              "      <td>NaN</td>\n",
              "      <td>NaN</td>\n",
              "      <td>0</td>\n",
              "      <td>no producer</td>\n",
              "      <td>no producer</td>\n",
              "    </tr>\n",
              "  </tbody>\n",
              "</table>\n",
              "<p>45414 rows × 42 columns</p>\n",
              "</div>\n",
              "      <button class=\"colab-df-convert\" onclick=\"convertToInteractive('df-64e276b1-d269-42c0-8463-db9b2b30cfc0')\"\n",
              "              title=\"Convert this dataframe to an interactive table.\"\n",
              "              style=\"display:none;\">\n",
              "        \n",
              "  <svg xmlns=\"http://www.w3.org/2000/svg\" height=\"24px\"viewBox=\"0 0 24 24\"\n",
              "       width=\"24px\">\n",
              "    <path d=\"M0 0h24v24H0V0z\" fill=\"none\"/>\n",
              "    <path d=\"M18.56 5.44l.94 2.06.94-2.06 2.06-.94-2.06-.94-.94-2.06-.94 2.06-2.06.94zm-11 1L8.5 8.5l.94-2.06 2.06-.94-2.06-.94L8.5 2.5l-.94 2.06-2.06.94zm10 10l.94 2.06.94-2.06 2.06-.94-2.06-.94-.94-2.06-.94 2.06-2.06.94z\"/><path d=\"M17.41 7.96l-1.37-1.37c-.4-.4-.92-.59-1.43-.59-.52 0-1.04.2-1.43.59L10.3 9.45l-7.72 7.72c-.78.78-.78 2.05 0 2.83L4 21.41c.39.39.9.59 1.41.59.51 0 1.02-.2 1.41-.59l7.78-7.78 2.81-2.81c.8-.78.8-2.07 0-2.86zM5.41 20L4 18.59l7.72-7.72 1.47 1.35L5.41 20z\"/>\n",
              "  </svg>\n",
              "      </button>\n",
              "      \n",
              "  <style>\n",
              "    .colab-df-container {\n",
              "      display:flex;\n",
              "      flex-wrap:wrap;\n",
              "      gap: 12px;\n",
              "    }\n",
              "\n",
              "    .colab-df-convert {\n",
              "      background-color: #E8F0FE;\n",
              "      border: none;\n",
              "      border-radius: 50%;\n",
              "      cursor: pointer;\n",
              "      display: none;\n",
              "      fill: #1967D2;\n",
              "      height: 32px;\n",
              "      padding: 0 0 0 0;\n",
              "      width: 32px;\n",
              "    }\n",
              "\n",
              "    .colab-df-convert:hover {\n",
              "      background-color: #E2EBFA;\n",
              "      box-shadow: 0px 1px 2px rgba(60, 64, 67, 0.3), 0px 1px 3px 1px rgba(60, 64, 67, 0.15);\n",
              "      fill: #174EA6;\n",
              "    }\n",
              "\n",
              "    [theme=dark] .colab-df-convert {\n",
              "      background-color: #3B4455;\n",
              "      fill: #D2E3FC;\n",
              "    }\n",
              "\n",
              "    [theme=dark] .colab-df-convert:hover {\n",
              "      background-color: #434B5C;\n",
              "      box-shadow: 0px 1px 3px 1px rgba(0, 0, 0, 0.15);\n",
              "      filter: drop-shadow(0px 1px 2px rgba(0, 0, 0, 0.3));\n",
              "      fill: #FFFFFF;\n",
              "    }\n",
              "  </style>\n",
              "\n",
              "      <script>\n",
              "        const buttonEl =\n",
              "          document.querySelector('#df-64e276b1-d269-42c0-8463-db9b2b30cfc0 button.colab-df-convert');\n",
              "        buttonEl.style.display =\n",
              "          google.colab.kernel.accessAllowed ? 'block' : 'none';\n",
              "\n",
              "        async function convertToInteractive(key) {\n",
              "          const element = document.querySelector('#df-64e276b1-d269-42c0-8463-db9b2b30cfc0');\n",
              "          const dataTable =\n",
              "            await google.colab.kernel.invokeFunction('convertToInteractive',\n",
              "                                                     [key], {});\n",
              "          if (!dataTable) return;\n",
              "\n",
              "          const docLinkHtml = 'Like what you see? Visit the ' +\n",
              "            '<a target=\"_blank\" href=https://colab.research.google.com/notebooks/data_table.ipynb>data table notebook</a>'\n",
              "            + ' to learn more about interactive tables.';\n",
              "          element.innerHTML = '';\n",
              "          dataTable['output_type'] = 'display_data';\n",
              "          await google.colab.output.renderOutput(dataTable, element);\n",
              "          const docLink = document.createElement('div');\n",
              "          docLink.innerHTML = docLinkHtml;\n",
              "          element.appendChild(docLink);\n",
              "        }\n",
              "      </script>\n",
              "    </div>\n",
              "  </div>\n",
              "  "
            ]
          },
          "metadata": {},
          "execution_count": 113
        }
      ]
    },
    {
      "cell_type": "markdown",
      "metadata": {
        "id": "DAvENe4oX3H-"
      },
      "source": [
        "# Release Dates"
      ]
    },
    {
      "cell_type": "code",
      "metadata": {
        "colab": {
          "base_uri": "https://localhost:8080/",
          "height": 35
        },
        "id": "D1OXgBvdEL6r",
        "outputId": "11147715-0285-4810-e991-a249f26eec00"
      },
      "source": [
        "data.release_date.values[0]"
      ],
      "execution_count": null,
      "outputs": [
        {
          "output_type": "execute_result",
          "data": {
            "text/plain": [
              "'1995-10-30'"
            ],
            "application/vnd.google.colaboratory.intrinsic+json": {
              "type": "string"
            }
          },
          "metadata": {},
          "execution_count": 115
        }
      ]
    },
    {
      "cell_type": "code",
      "metadata": {
        "colab": {
          "base_uri": "https://localhost:8080/"
        },
        "id": "L7fPcWzmYDZq",
        "outputId": "5cd8aa38-5c30-45fb-9ae5-a344b75fc0d2"
      },
      "source": [
        "data.release_date.isnull().sum()"
      ],
      "execution_count": null,
      "outputs": [
        {
          "output_type": "execute_result",
          "data": {
            "text/plain": [
              "81"
            ]
          },
          "metadata": {},
          "execution_count": 116
        }
      ]
    },
    {
      "cell_type": "code",
      "metadata": {
        "colab": {
          "base_uri": "https://localhost:8080/"
        },
        "id": "swaNG5CnYI_D",
        "outputId": "100cdce4-2dc3-4018-838e-dfa5b68fe678"
      },
      "source": [
        "data.release_date"
      ],
      "execution_count": null,
      "outputs": [
        {
          "output_type": "execute_result",
          "data": {
            "text/plain": [
              "0        1995-10-30\n",
              "1        1995-12-15\n",
              "2        1995-12-22\n",
              "3        1995-12-22\n",
              "4        1995-02-10\n",
              "            ...    \n",
              "45461           NaN\n",
              "45462    2011-11-17\n",
              "45463    2003-08-01\n",
              "45464    1917-10-21\n",
              "45465    2017-06-09\n",
              "Name: release_date, Length: 45414, dtype: object"
            ]
          },
          "metadata": {},
          "execution_count": 118
        }
      ]
    },
    {
      "cell_type": "code",
      "metadata": {
        "id": "sQUOFvY8X5Ck"
      },
      "source": [
        "data = data.dropna(subset = ['release_date'])\n"
      ],
      "execution_count": null,
      "outputs": []
    },
    {
      "cell_type": "code",
      "source": [
        "import datetime\n",
        "dateString = 'September/2022/04::10:27:00'\n",
        "date = datetime.datetime.strptime(dateString, \"%B/%Y/%d::%H:%M:%S\") #string to datetime#\n",
        "#datetime.datetime.strftime((date + datetime.timedelta(days = 2, hours = 2)),\"%d-%b-%y-%H:%M:%S\")\n",
        "# #date\n",
        "#(date - datetime.timedelta(days = 90))\n",
        "#date.month\n",
        "date.day"
      ],
      "metadata": {
        "colab": {
          "base_uri": "https://localhost:8080/"
        },
        "id": "MZfPBaq-M_gt",
        "outputId": "6f25b97a-3a20-495a-8256-8ccd933f26e0"
      },
      "execution_count": null,
      "outputs": [
        {
          "output_type": "execute_result",
          "data": {
            "text/plain": [
              "4"
            ]
          },
          "metadata": {},
          "execution_count": 120
        }
      ]
    },
    {
      "cell_type": "code",
      "metadata": {
        "id": "Z-94exABFfJb",
        "colab": {
          "base_uri": "https://localhost:8080/"
        },
        "outputId": "704a97ff-5d94-4f52-9900-4b09c0c74e8c"
      },
      "source": [
        "data.release_date = pd.to_datetime(data.release_date, format='%Y-%m-%d')"
      ],
      "execution_count": null,
      "outputs": [
        {
          "output_type": "stream",
          "name": "stderr",
          "text": [
            "/usr/local/lib/python3.8/dist-packages/pandas/core/generic.py:5516: SettingWithCopyWarning: \n",
            "A value is trying to be set on a copy of a slice from a DataFrame.\n",
            "Try using .loc[row_indexer,col_indexer] = value instead\n",
            "\n",
            "See the caveats in the documentation: https://pandas.pydata.org/pandas-docs/stable/user_guide/indexing.html#returning-a-view-versus-a-copy\n",
            "  self[name] = value\n"
          ]
        }
      ]
    },
    {
      "cell_type": "code",
      "metadata": {
        "colab": {
          "base_uri": "https://localhost:8080/"
        },
        "id": "cHKEoCLRFpIe",
        "outputId": "d6154cf0-89c9-4b55-a89f-003a20456882"
      },
      "source": [
        "data.release_date.dt.weekday"
      ],
      "execution_count": null,
      "outputs": [
        {
          "output_type": "execute_result",
          "data": {
            "text/plain": [
              "0        0\n",
              "1        4\n",
              "2        4\n",
              "3        4\n",
              "4        4\n",
              "        ..\n",
              "45460    0\n",
              "45462    3\n",
              "45463    4\n",
              "45464    6\n",
              "45465    4\n",
              "Name: release_date, Length: 45333, dtype: int64"
            ]
          },
          "metadata": {},
          "execution_count": 122
        }
      ]
    },
    {
      "cell_type": "markdown",
      "metadata": {
        "id": "wAWfZnhfYX6x"
      },
      "source": [
        "# Revenues"
      ]
    },
    {
      "cell_type": "code",
      "source": [
        "data.revenue.values[0]"
      ],
      "metadata": {
        "colab": {
          "base_uri": "https://localhost:8080/"
        },
        "id": "pRiVs7EoLr5r",
        "outputId": "b344e0c9-1564-49b4-cb91-27e5478b545b"
      },
      "execution_count": null,
      "outputs": [
        {
          "output_type": "execute_result",
          "data": {
            "text/plain": [
              "373554033.0"
            ]
          },
          "metadata": {},
          "execution_count": 119
        }
      ]
    },
    {
      "cell_type": "code",
      "source": [
        "data.revenue.dtype"
      ],
      "metadata": {
        "colab": {
          "base_uri": "https://localhost:8080/"
        },
        "id": "DSRVKNxe4XI0",
        "outputId": "ebec4c61-f0f3-4914-bc4f-27e0d023ce66"
      },
      "execution_count": null,
      "outputs": [
        {
          "output_type": "execute_result",
          "data": {
            "text/plain": [
              "dtype('float64')"
            ]
          },
          "metadata": {},
          "execution_count": 120
        }
      ]
    },
    {
      "cell_type": "code",
      "metadata": {
        "id": "VVghVH9U9iWz"
      },
      "source": [
        "data.revenue = data.revenue.astype('int64')"
      ],
      "execution_count": null,
      "outputs": []
    },
    {
      "cell_type": "code",
      "metadata": {
        "colab": {
          "base_uri": "https://localhost:8080/"
        },
        "id": "NSrU5L-EYZMm",
        "outputId": "d8a1c49e-71ed-46d0-dd05-d04180da74e9"
      },
      "source": [
        "data.revenue.describe()"
      ],
      "execution_count": null,
      "outputs": [
        {
          "output_type": "execute_result",
          "data": {
            "text/plain": [
              "count    4.533300e+04\n",
              "mean     1.123688e+07\n",
              "std      6.441885e+07\n",
              "min      0.000000e+00\n",
              "25%      0.000000e+00\n",
              "50%      0.000000e+00\n",
              "75%      0.000000e+00\n",
              "max      2.787965e+09\n",
              "Name: revenue, dtype: float64"
            ]
          },
          "metadata": {},
          "execution_count": 122
        }
      ]
    },
    {
      "cell_type": "code",
      "metadata": {
        "colab": {
          "base_uri": "https://localhost:8080/"
        },
        "id": "GrRgUn32YdVo",
        "outputId": "36322c26-8b45-41c4-8596-d1153ee3b65c"
      },
      "source": [
        "sum(data.revenue == 0)*100/data.shape[0]"
      ],
      "execution_count": null,
      "outputs": [
        {
          "output_type": "execute_result",
          "data": {
            "text/plain": [
              "83.68296825711954"
            ]
          },
          "metadata": {},
          "execution_count": 123
        }
      ]
    },
    {
      "cell_type": "markdown",
      "metadata": {
        "id": "hnuSVjKRYrvV"
      },
      "source": [
        "# RunTime"
      ]
    },
    {
      "cell_type": "code",
      "source": [
        "data.runtime.values[0]"
      ],
      "metadata": {
        "colab": {
          "base_uri": "https://localhost:8080/"
        },
        "id": "_oXSoE5KNIla",
        "outputId": "6e1fc745-49fe-4dfb-a26d-e54a8e063d79"
      },
      "execution_count": null,
      "outputs": [
        {
          "output_type": "execute_result",
          "data": {
            "text/plain": [
              "81.0"
            ]
          },
          "metadata": {},
          "execution_count": 124
        }
      ]
    },
    {
      "cell_type": "code",
      "metadata": {
        "colab": {
          "base_uri": "https://localhost:8080/"
        },
        "id": "uqWemUyFYtUk",
        "outputId": "c953928b-7b48-4c4b-81af-98c6119a8ebd"
      },
      "source": [
        "data.runtime.describe()"
      ],
      "execution_count": null,
      "outputs": [
        {
          "output_type": "execute_result",
          "data": {
            "text/plain": [
              "count    45089.000000\n",
              "mean        94.184014\n",
              "std         38.342419\n",
              "min          0.000000\n",
              "25%         85.000000\n",
              "50%         95.000000\n",
              "75%        107.000000\n",
              "max       1256.000000\n",
              "Name: runtime, dtype: float64"
            ]
          },
          "metadata": {},
          "execution_count": 125
        }
      ]
    },
    {
      "cell_type": "code",
      "source": [
        "sum(data.runtime == 0)"
      ],
      "metadata": {
        "colab": {
          "base_uri": "https://localhost:8080/"
        },
        "id": "53JDAtKuNe5a",
        "outputId": "169f36e4-e704-4cd3-cb13-38ef5e7df79f"
      },
      "execution_count": null,
      "outputs": [
        {
          "output_type": "execute_result",
          "data": {
            "text/plain": [
              "1532"
            ]
          },
          "metadata": {},
          "execution_count": 126
        }
      ]
    },
    {
      "cell_type": "code",
      "source": [
        "data.loc[data.runtime == 0,'runtime']  = 95"
      ],
      "metadata": {
        "colab": {
          "base_uri": "https://localhost:8080/"
        },
        "id": "qQkuQeNgOecN",
        "outputId": "10b07bd4-daa3-44c0-d659-362f13a63afd"
      },
      "execution_count": null,
      "outputs": [
        {
          "output_type": "stream",
          "name": "stderr",
          "text": [
            "/usr/local/lib/python3.8/dist-packages/pandas/core/indexing.py:1817: SettingWithCopyWarning: \n",
            "A value is trying to be set on a copy of a slice from a DataFrame.\n",
            "Try using .loc[row_indexer,col_indexer] = value instead\n",
            "\n",
            "See the caveats in the documentation: https://pandas.pydata.org/pandas-docs/stable/user_guide/indexing.html#returning-a-view-versus-a-copy\n",
            "  self._setitem_single_column(loc, value, pi)\n"
          ]
        }
      ]
    },
    {
      "cell_type": "code",
      "metadata": {
        "id": "BO4Kij7Z9Bdx",
        "colab": {
          "base_uri": "https://localhost:8080/"
        },
        "outputId": "eb663517-7265-415a-c934-a7288509c414"
      },
      "source": [
        "sum(data.runtime > 240)"
      ],
      "execution_count": null,
      "outputs": [
        {
          "output_type": "execute_result",
          "data": {
            "text/plain": [
              "194"
            ]
          },
          "metadata": {},
          "execution_count": 128
        }
      ]
    },
    {
      "cell_type": "code",
      "source": [
        "data.loc[data.runtime > 240, :]"
      ],
      "metadata": {
        "colab": {
          "base_uri": "https://localhost:8080/",
          "height": 1000
        },
        "id": "L3BnY0KBS563",
        "outputId": "8a144c95-04d7-458c-ef83-516b955b7592"
      },
      "execution_count": null,
      "outputs": [
        {
          "output_type": "execute_result",
          "data": {
            "text/plain": [
              "       adult      budget      id    imdb_id original_language  \\\n",
              "1260   False  23000000.0   10341  tt0101458                de   \n",
              "1360   False         0.0   10549  tt0116477                en   \n",
              "3409   False         0.0   61560  tt0108167                fr   \n",
              "3922   False         0.0   10655  tt0107007                en   \n",
              "4146   False  31115000.0    8095  tt0056937                en   \n",
              "...      ...         ...     ...        ...               ...   \n",
              "44525  False         0.0  176167  tt0084476                de   \n",
              "44721  False         0.0  458298  tt6792200                en   \n",
              "44758  False         0.0  128733  tt0080230                en   \n",
              "45424  False         0.0   42652  tt0096356                ru   \n",
              "45462  False         0.0  111109  tt2028550                tl   \n",
              "\n",
              "              original_title  \\\n",
              "1260   bis ans ende der welt   \n",
              "1360                  hamlet   \n",
              "3409    smoking / no smoking   \n",
              "3922              gettysburg   \n",
              "4146               cleopatra   \n",
              "...                      ...   \n",
              "44525               parsifal   \n",
              "44721            the keepers   \n",
              "44758              hollywood   \n",
              "45424         uznik zamka if   \n",
              "45462    siglo ng pagluluwal   \n",
              "\n",
              "                                                overview  popularity  \\\n",
              "1260   until the end of the world is an odyssey for t...    2.146520   \n",
              "1360   hamlet, prince of denmark, returns home to fin...    8.620000   \n",
              "3409   \"smoking\" and \"no smoking\" are two segments of...    0.501632   \n",
              "3922   summer 1863. the confederacy pushes north into...    6.588347   \n",
              "4146   historical epic. the triumphs and tragedy of t...    8.591238   \n",
              "...                                                  ...         ...   \n",
              "44525  hans-jürgen syberberg's parsifal film is a psy...    0.165026   \n",
              "44721  a seven-part docuseries about the unsolved mur...    1.576170   \n",
              "44758  the definitive documentary about the american ...    0.055713   \n",
              "45424  a russian version of the classic alexandre dum...    0.243401   \n",
              "45462  an artist struggles to finish his work while a...    0.178241   \n",
              "\n",
              "                                    production_countries release_date  ...  \\\n",
              "1260   [{'iso_3166_1': 'AU', 'name': 'Australia'}, {'...   1991-09-12  ...   \n",
              "1360   [{'iso_3166_1': 'GB', 'name': 'United Kingdom'...   1996-12-25  ...   \n",
              "3409            [{'iso_3166_1': 'FR', 'name': 'France'}]   1993-12-15  ...   \n",
              "3922   [{'iso_3166_1': 'US', 'name': 'United States o...   1993-10-08  ...   \n",
              "4146   [{'iso_3166_1': 'GB', 'name': 'United Kingdom'...   1963-06-12  ...   \n",
              "...                                                  ...          ...  ...   \n",
              "44525          [{'iso_3166_1': 'DE', 'name': 'Germany'}]   1982-04-30  ...   \n",
              "44721  [{'iso_3166_1': 'US', 'name': 'United States o...   2017-05-19  ...   \n",
              "44758                                                 []   1980-02-09  ...   \n",
              "45424  [{'iso_3166_1': 'UA', 'name': 'Ukraine'}, {'is...   1988-01-01  ...   \n",
              "45462      [{'iso_3166_1': 'PH', 'name': 'Philippines'}]   2011-11-17  ...   \n",
              "\n",
              "       Mystery  History Drama Thriller Fantasy Romance  Foreign  \\\n",
              "1260       0.0      0.0   1.0      1.0     0.0     0.0      0.0   \n",
              "1360       0.0      0.0   1.0      0.0     0.0     0.0      0.0   \n",
              "3409       0.0      0.0   1.0      0.0     0.0     0.0      0.0   \n",
              "3922       0.0      1.0   1.0      0.0     0.0     0.0      0.0   \n",
              "4146       0.0      1.0   1.0      0.0     0.0     1.0      0.0   \n",
              "...        ...      ...   ...      ...     ...     ...      ...   \n",
              "44525      0.0      0.0   1.0      0.0     0.0     0.0      0.0   \n",
              "44721      0.0      0.0   0.0      0.0     0.0     0.0      0.0   \n",
              "44758      0.0      0.0   0.0      1.0     0.0     0.0      0.0   \n",
              "45424      1.0      0.0   1.0      1.0     0.0     0.0      0.0   \n",
              "45462      0.0      0.0   0.0      0.0     0.0     0.0      0.0   \n",
              "\n",
              "       homePagePresent                               Producer1  \\\n",
              "1260                 0               village roadshow pictures   \n",
              "1360                 0               castle rock entertainment   \n",
              "3409                 0                             no producer   \n",
              "3922                 0                      tristar television   \n",
              "4146                 0  twentieth century fox film corporation   \n",
              "...                ...                                     ...   \n",
              "44525                0                                 gaumont   \n",
              "44721                1                                 netflix   \n",
              "44758                0                             no producer   \n",
              "45424                0                     odessa film studios   \n",
              "45462                0                             sine olivia   \n",
              "\n",
              "                        Producer2  \n",
              "1260                  argos films  \n",
              "1360          turner pictures (i)  \n",
              "3409                  no producer  \n",
              "3922   esparza / katz productions  \n",
              "4146               mcl films s.a.  \n",
              "...                           ...  \n",
              "44525                bavaria film  \n",
              "44721                     film 45  \n",
              "44758                 no producer  \n",
              "45424                 no producer  \n",
              "45462                 no producer  \n",
              "\n",
              "[194 rows x 42 columns]"
            ],
            "text/html": [
              "\n",
              "  <div id=\"df-04147f7d-2de4-4dde-8c93-73cc3852d0b1\">\n",
              "    <div class=\"colab-df-container\">\n",
              "      <div>\n",
              "<style scoped>\n",
              "    .dataframe tbody tr th:only-of-type {\n",
              "        vertical-align: middle;\n",
              "    }\n",
              "\n",
              "    .dataframe tbody tr th {\n",
              "        vertical-align: top;\n",
              "    }\n",
              "\n",
              "    .dataframe thead th {\n",
              "        text-align: right;\n",
              "    }\n",
              "</style>\n",
              "<table border=\"1\" class=\"dataframe\">\n",
              "  <thead>\n",
              "    <tr style=\"text-align: right;\">\n",
              "      <th></th>\n",
              "      <th>adult</th>\n",
              "      <th>budget</th>\n",
              "      <th>id</th>\n",
              "      <th>imdb_id</th>\n",
              "      <th>original_language</th>\n",
              "      <th>original_title</th>\n",
              "      <th>overview</th>\n",
              "      <th>popularity</th>\n",
              "      <th>production_countries</th>\n",
              "      <th>release_date</th>\n",
              "      <th>...</th>\n",
              "      <th>Mystery</th>\n",
              "      <th>History</th>\n",
              "      <th>Drama</th>\n",
              "      <th>Thriller</th>\n",
              "      <th>Fantasy</th>\n",
              "      <th>Romance</th>\n",
              "      <th>Foreign</th>\n",
              "      <th>homePagePresent</th>\n",
              "      <th>Producer1</th>\n",
              "      <th>Producer2</th>\n",
              "    </tr>\n",
              "  </thead>\n",
              "  <tbody>\n",
              "    <tr>\n",
              "      <th>1260</th>\n",
              "      <td>False</td>\n",
              "      <td>23000000.0</td>\n",
              "      <td>10341</td>\n",
              "      <td>tt0101458</td>\n",
              "      <td>de</td>\n",
              "      <td>bis ans ende der welt</td>\n",
              "      <td>until the end of the world is an odyssey for t...</td>\n",
              "      <td>2.146520</td>\n",
              "      <td>[{'iso_3166_1': 'AU', 'name': 'Australia'}, {'...</td>\n",
              "      <td>1991-09-12</td>\n",
              "      <td>...</td>\n",
              "      <td>0.0</td>\n",
              "      <td>0.0</td>\n",
              "      <td>1.0</td>\n",
              "      <td>1.0</td>\n",
              "      <td>0.0</td>\n",
              "      <td>0.0</td>\n",
              "      <td>0.0</td>\n",
              "      <td>0</td>\n",
              "      <td>village roadshow pictures</td>\n",
              "      <td>argos films</td>\n",
              "    </tr>\n",
              "    <tr>\n",
              "      <th>1360</th>\n",
              "      <td>False</td>\n",
              "      <td>0.0</td>\n",
              "      <td>10549</td>\n",
              "      <td>tt0116477</td>\n",
              "      <td>en</td>\n",
              "      <td>hamlet</td>\n",
              "      <td>hamlet, prince of denmark, returns home to fin...</td>\n",
              "      <td>8.620000</td>\n",
              "      <td>[{'iso_3166_1': 'GB', 'name': 'United Kingdom'...</td>\n",
              "      <td>1996-12-25</td>\n",
              "      <td>...</td>\n",
              "      <td>0.0</td>\n",
              "      <td>0.0</td>\n",
              "      <td>1.0</td>\n",
              "      <td>0.0</td>\n",
              "      <td>0.0</td>\n",
              "      <td>0.0</td>\n",
              "      <td>0.0</td>\n",
              "      <td>0</td>\n",
              "      <td>castle rock entertainment</td>\n",
              "      <td>turner pictures (i)</td>\n",
              "    </tr>\n",
              "    <tr>\n",
              "      <th>3409</th>\n",
              "      <td>False</td>\n",
              "      <td>0.0</td>\n",
              "      <td>61560</td>\n",
              "      <td>tt0108167</td>\n",
              "      <td>fr</td>\n",
              "      <td>smoking / no smoking</td>\n",
              "      <td>\"smoking\" and \"no smoking\" are two segments of...</td>\n",
              "      <td>0.501632</td>\n",
              "      <td>[{'iso_3166_1': 'FR', 'name': 'France'}]</td>\n",
              "      <td>1993-12-15</td>\n",
              "      <td>...</td>\n",
              "      <td>0.0</td>\n",
              "      <td>0.0</td>\n",
              "      <td>1.0</td>\n",
              "      <td>0.0</td>\n",
              "      <td>0.0</td>\n",
              "      <td>0.0</td>\n",
              "      <td>0.0</td>\n",
              "      <td>0</td>\n",
              "      <td>no producer</td>\n",
              "      <td>no producer</td>\n",
              "    </tr>\n",
              "    <tr>\n",
              "      <th>3922</th>\n",
              "      <td>False</td>\n",
              "      <td>0.0</td>\n",
              "      <td>10655</td>\n",
              "      <td>tt0107007</td>\n",
              "      <td>en</td>\n",
              "      <td>gettysburg</td>\n",
              "      <td>summer 1863. the confederacy pushes north into...</td>\n",
              "      <td>6.588347</td>\n",
              "      <td>[{'iso_3166_1': 'US', 'name': 'United States o...</td>\n",
              "      <td>1993-10-08</td>\n",
              "      <td>...</td>\n",
              "      <td>0.0</td>\n",
              "      <td>1.0</td>\n",
              "      <td>1.0</td>\n",
              "      <td>0.0</td>\n",
              "      <td>0.0</td>\n",
              "      <td>0.0</td>\n",
              "      <td>0.0</td>\n",
              "      <td>0</td>\n",
              "      <td>tristar television</td>\n",
              "      <td>esparza / katz productions</td>\n",
              "    </tr>\n",
              "    <tr>\n",
              "      <th>4146</th>\n",
              "      <td>False</td>\n",
              "      <td>31115000.0</td>\n",
              "      <td>8095</td>\n",
              "      <td>tt0056937</td>\n",
              "      <td>en</td>\n",
              "      <td>cleopatra</td>\n",
              "      <td>historical epic. the triumphs and tragedy of t...</td>\n",
              "      <td>8.591238</td>\n",
              "      <td>[{'iso_3166_1': 'GB', 'name': 'United Kingdom'...</td>\n",
              "      <td>1963-06-12</td>\n",
              "      <td>...</td>\n",
              "      <td>0.0</td>\n",
              "      <td>1.0</td>\n",
              "      <td>1.0</td>\n",
              "      <td>0.0</td>\n",
              "      <td>0.0</td>\n",
              "      <td>1.0</td>\n",
              "      <td>0.0</td>\n",
              "      <td>0</td>\n",
              "      <td>twentieth century fox film corporation</td>\n",
              "      <td>mcl films s.a.</td>\n",
              "    </tr>\n",
              "    <tr>\n",
              "      <th>...</th>\n",
              "      <td>...</td>\n",
              "      <td>...</td>\n",
              "      <td>...</td>\n",
              "      <td>...</td>\n",
              "      <td>...</td>\n",
              "      <td>...</td>\n",
              "      <td>...</td>\n",
              "      <td>...</td>\n",
              "      <td>...</td>\n",
              "      <td>...</td>\n",
              "      <td>...</td>\n",
              "      <td>...</td>\n",
              "      <td>...</td>\n",
              "      <td>...</td>\n",
              "      <td>...</td>\n",
              "      <td>...</td>\n",
              "      <td>...</td>\n",
              "      <td>...</td>\n",
              "      <td>...</td>\n",
              "      <td>...</td>\n",
              "      <td>...</td>\n",
              "    </tr>\n",
              "    <tr>\n",
              "      <th>44525</th>\n",
              "      <td>False</td>\n",
              "      <td>0.0</td>\n",
              "      <td>176167</td>\n",
              "      <td>tt0084476</td>\n",
              "      <td>de</td>\n",
              "      <td>parsifal</td>\n",
              "      <td>hans-jürgen syberberg's parsifal film is a psy...</td>\n",
              "      <td>0.165026</td>\n",
              "      <td>[{'iso_3166_1': 'DE', 'name': 'Germany'}]</td>\n",
              "      <td>1982-04-30</td>\n",
              "      <td>...</td>\n",
              "      <td>0.0</td>\n",
              "      <td>0.0</td>\n",
              "      <td>1.0</td>\n",
              "      <td>0.0</td>\n",
              "      <td>0.0</td>\n",
              "      <td>0.0</td>\n",
              "      <td>0.0</td>\n",
              "      <td>0</td>\n",
              "      <td>gaumont</td>\n",
              "      <td>bavaria film</td>\n",
              "    </tr>\n",
              "    <tr>\n",
              "      <th>44721</th>\n",
              "      <td>False</td>\n",
              "      <td>0.0</td>\n",
              "      <td>458298</td>\n",
              "      <td>tt6792200</td>\n",
              "      <td>en</td>\n",
              "      <td>the keepers</td>\n",
              "      <td>a seven-part docuseries about the unsolved mur...</td>\n",
              "      <td>1.576170</td>\n",
              "      <td>[{'iso_3166_1': 'US', 'name': 'United States o...</td>\n",
              "      <td>2017-05-19</td>\n",
              "      <td>...</td>\n",
              "      <td>0.0</td>\n",
              "      <td>0.0</td>\n",
              "      <td>0.0</td>\n",
              "      <td>0.0</td>\n",
              "      <td>0.0</td>\n",
              "      <td>0.0</td>\n",
              "      <td>0.0</td>\n",
              "      <td>1</td>\n",
              "      <td>netflix</td>\n",
              "      <td>film 45</td>\n",
              "    </tr>\n",
              "    <tr>\n",
              "      <th>44758</th>\n",
              "      <td>False</td>\n",
              "      <td>0.0</td>\n",
              "      <td>128733</td>\n",
              "      <td>tt0080230</td>\n",
              "      <td>en</td>\n",
              "      <td>hollywood</td>\n",
              "      <td>the definitive documentary about the american ...</td>\n",
              "      <td>0.055713</td>\n",
              "      <td>[]</td>\n",
              "      <td>1980-02-09</td>\n",
              "      <td>...</td>\n",
              "      <td>0.0</td>\n",
              "      <td>0.0</td>\n",
              "      <td>0.0</td>\n",
              "      <td>1.0</td>\n",
              "      <td>0.0</td>\n",
              "      <td>0.0</td>\n",
              "      <td>0.0</td>\n",
              "      <td>0</td>\n",
              "      <td>no producer</td>\n",
              "      <td>no producer</td>\n",
              "    </tr>\n",
              "    <tr>\n",
              "      <th>45424</th>\n",
              "      <td>False</td>\n",
              "      <td>0.0</td>\n",
              "      <td>42652</td>\n",
              "      <td>tt0096356</td>\n",
              "      <td>ru</td>\n",
              "      <td>uznik zamka if</td>\n",
              "      <td>a russian version of the classic alexandre dum...</td>\n",
              "      <td>0.243401</td>\n",
              "      <td>[{'iso_3166_1': 'UA', 'name': 'Ukraine'}, {'is...</td>\n",
              "      <td>1988-01-01</td>\n",
              "      <td>...</td>\n",
              "      <td>1.0</td>\n",
              "      <td>0.0</td>\n",
              "      <td>1.0</td>\n",
              "      <td>1.0</td>\n",
              "      <td>0.0</td>\n",
              "      <td>0.0</td>\n",
              "      <td>0.0</td>\n",
              "      <td>0</td>\n",
              "      <td>odessa film studios</td>\n",
              "      <td>no producer</td>\n",
              "    </tr>\n",
              "    <tr>\n",
              "      <th>45462</th>\n",
              "      <td>False</td>\n",
              "      <td>0.0</td>\n",
              "      <td>111109</td>\n",
              "      <td>tt2028550</td>\n",
              "      <td>tl</td>\n",
              "      <td>siglo ng pagluluwal</td>\n",
              "      <td>an artist struggles to finish his work while a...</td>\n",
              "      <td>0.178241</td>\n",
              "      <td>[{'iso_3166_1': 'PH', 'name': 'Philippines'}]</td>\n",
              "      <td>2011-11-17</td>\n",
              "      <td>...</td>\n",
              "      <td>0.0</td>\n",
              "      <td>0.0</td>\n",
              "      <td>0.0</td>\n",
              "      <td>0.0</td>\n",
              "      <td>0.0</td>\n",
              "      <td>0.0</td>\n",
              "      <td>0.0</td>\n",
              "      <td>0</td>\n",
              "      <td>sine olivia</td>\n",
              "      <td>no producer</td>\n",
              "    </tr>\n",
              "  </tbody>\n",
              "</table>\n",
              "<p>194 rows × 42 columns</p>\n",
              "</div>\n",
              "      <button class=\"colab-df-convert\" onclick=\"convertToInteractive('df-04147f7d-2de4-4dde-8c93-73cc3852d0b1')\"\n",
              "              title=\"Convert this dataframe to an interactive table.\"\n",
              "              style=\"display:none;\">\n",
              "        \n",
              "  <svg xmlns=\"http://www.w3.org/2000/svg\" height=\"24px\"viewBox=\"0 0 24 24\"\n",
              "       width=\"24px\">\n",
              "    <path d=\"M0 0h24v24H0V0z\" fill=\"none\"/>\n",
              "    <path d=\"M18.56 5.44l.94 2.06.94-2.06 2.06-.94-2.06-.94-.94-2.06-.94 2.06-2.06.94zm-11 1L8.5 8.5l.94-2.06 2.06-.94-2.06-.94L8.5 2.5l-.94 2.06-2.06.94zm10 10l.94 2.06.94-2.06 2.06-.94-2.06-.94-.94-2.06-.94 2.06-2.06.94z\"/><path d=\"M17.41 7.96l-1.37-1.37c-.4-.4-.92-.59-1.43-.59-.52 0-1.04.2-1.43.59L10.3 9.45l-7.72 7.72c-.78.78-.78 2.05 0 2.83L4 21.41c.39.39.9.59 1.41.59.51 0 1.02-.2 1.41-.59l7.78-7.78 2.81-2.81c.8-.78.8-2.07 0-2.86zM5.41 20L4 18.59l7.72-7.72 1.47 1.35L5.41 20z\"/>\n",
              "  </svg>\n",
              "      </button>\n",
              "      \n",
              "  <style>\n",
              "    .colab-df-container {\n",
              "      display:flex;\n",
              "      flex-wrap:wrap;\n",
              "      gap: 12px;\n",
              "    }\n",
              "\n",
              "    .colab-df-convert {\n",
              "      background-color: #E8F0FE;\n",
              "      border: none;\n",
              "      border-radius: 50%;\n",
              "      cursor: pointer;\n",
              "      display: none;\n",
              "      fill: #1967D2;\n",
              "      height: 32px;\n",
              "      padding: 0 0 0 0;\n",
              "      width: 32px;\n",
              "    }\n",
              "\n",
              "    .colab-df-convert:hover {\n",
              "      background-color: #E2EBFA;\n",
              "      box-shadow: 0px 1px 2px rgba(60, 64, 67, 0.3), 0px 1px 3px 1px rgba(60, 64, 67, 0.15);\n",
              "      fill: #174EA6;\n",
              "    }\n",
              "\n",
              "    [theme=dark] .colab-df-convert {\n",
              "      background-color: #3B4455;\n",
              "      fill: #D2E3FC;\n",
              "    }\n",
              "\n",
              "    [theme=dark] .colab-df-convert:hover {\n",
              "      background-color: #434B5C;\n",
              "      box-shadow: 0px 1px 3px 1px rgba(0, 0, 0, 0.15);\n",
              "      filter: drop-shadow(0px 1px 2px rgba(0, 0, 0, 0.3));\n",
              "      fill: #FFFFFF;\n",
              "    }\n",
              "  </style>\n",
              "\n",
              "      <script>\n",
              "        const buttonEl =\n",
              "          document.querySelector('#df-04147f7d-2de4-4dde-8c93-73cc3852d0b1 button.colab-df-convert');\n",
              "        buttonEl.style.display =\n",
              "          google.colab.kernel.accessAllowed ? 'block' : 'none';\n",
              "\n",
              "        async function convertToInteractive(key) {\n",
              "          const element = document.querySelector('#df-04147f7d-2de4-4dde-8c93-73cc3852d0b1');\n",
              "          const dataTable =\n",
              "            await google.colab.kernel.invokeFunction('convertToInteractive',\n",
              "                                                     [key], {});\n",
              "          if (!dataTable) return;\n",
              "\n",
              "          const docLinkHtml = 'Like what you see? Visit the ' +\n",
              "            '<a target=\"_blank\" href=https://colab.research.google.com/notebooks/data_table.ipynb>data table notebook</a>'\n",
              "            + ' to learn more about interactive tables.';\n",
              "          element.innerHTML = '';\n",
              "          dataTable['output_type'] = 'display_data';\n",
              "          await google.colab.output.renderOutput(dataTable, element);\n",
              "          const docLink = document.createElement('div');\n",
              "          docLink.innerHTML = docLinkHtml;\n",
              "          element.appendChild(docLink);\n",
              "        }\n",
              "      </script>\n",
              "    </div>\n",
              "  </div>\n",
              "  "
            ]
          },
          "metadata": {},
          "execution_count": 129
        }
      ]
    },
    {
      "cell_type": "code",
      "source": [
        "data = data.loc[data.runtime <= 240,:]"
      ],
      "metadata": {
        "id": "MBsAdbQFQ2AA"
      },
      "execution_count": null,
      "outputs": []
    },
    {
      "cell_type": "code",
      "source": [
        "data.runtime.isnull().sum()"
      ],
      "metadata": {
        "colab": {
          "base_uri": "https://localhost:8080/"
        },
        "id": "0N-BDDn9TZyR",
        "outputId": "22f3d539-b4de-4fba-df7a-a712d74ba2b4"
      },
      "execution_count": null,
      "outputs": [
        {
          "output_type": "execute_result",
          "data": {
            "text/plain": [
              "0"
            ]
          },
          "metadata": {},
          "execution_count": 135
        }
      ]
    },
    {
      "cell_type": "code",
      "source": [
        "data.runtime.isnull().sum()"
      ],
      "metadata": {
        "colab": {
          "base_uri": "https://localhost:8080/"
        },
        "id": "Pb9-8uQKUQix",
        "outputId": "df4286f1-f5a4-42c4-9a6e-17142fe83045"
      },
      "execution_count": null,
      "outputs": [
        {
          "output_type": "execute_result",
          "data": {
            "text/plain": [
              "0"
            ]
          },
          "metadata": {},
          "execution_count": 136
        }
      ]
    },
    {
      "cell_type": "markdown",
      "metadata": {
        "id": "GaQvuTJFZL6H"
      },
      "source": [
        "# Spoken Languages"
      ]
    },
    {
      "cell_type": "code",
      "metadata": {
        "colab": {
          "base_uri": "https://localhost:8080/",
          "height": 35
        },
        "id": "bn_cjGJPZOmV",
        "outputId": "42e37c15-85ee-4963-9a91-fedb73433743"
      },
      "source": [
        "data.spoken_languages.values[0]"
      ],
      "execution_count": null,
      "outputs": [
        {
          "output_type": "execute_result",
          "data": {
            "text/plain": [
              "\"[{'iso_639_1': 'en', 'name': 'English'}]\""
            ],
            "application/vnd.google.colaboratory.intrinsic+json": {
              "type": "string"
            }
          },
          "metadata": {},
          "execution_count": 130
        }
      ]
    },
    {
      "cell_type": "code",
      "metadata": {
        "id": "ttbc0XB0Z-lF",
        "colab": {
          "base_uri": "https://localhost:8080/"
        },
        "outputId": "c177b397-fc8f-42f3-b9f7-13fb131dfa43"
      },
      "source": [
        "import ast\n",
        "totalLanguages = []\n",
        "\n",
        "for prod in data.spoken_languages.values: # looping through all the rows\n",
        "  prodList = ast.literal_eval(prod) #converting from string to list of dictionary\n",
        "  totalLanguages.append(len(prodList)) #how many languages spoken?\n",
        "\n",
        "data['TotalLanguages'] = totalLanguages"
      ],
      "execution_count": null,
      "outputs": [
        {
          "output_type": "stream",
          "name": "stderr",
          "text": [
            "<ipython-input-131-6a1b8ce2eca8>:8: SettingWithCopyWarning: \n",
            "A value is trying to be set on a copy of a slice from a DataFrame.\n",
            "Try using .loc[row_indexer,col_indexer] = value instead\n",
            "\n",
            "See the caveats in the documentation: https://pandas.pydata.org/pandas-docs/stable/user_guide/indexing.html#returning-a-view-versus-a-copy\n",
            "  data['TotalLanguages'] = totalLanguages\n"
          ]
        }
      ]
    },
    {
      "cell_type": "code",
      "metadata": {
        "id": "oot-0tpraSvy"
      },
      "source": [
        "data = data.drop(columns = ['spoken_languages'])"
      ],
      "execution_count": null,
      "outputs": []
    },
    {
      "cell_type": "code",
      "metadata": {
        "colab": {
          "base_uri": "https://localhost:8080/",
          "height": 974
        },
        "id": "RxYelpNki26g",
        "outputId": "d3f361df-9eef-4f48-e0f6-d48f094db02a"
      },
      "source": [
        "data"
      ],
      "execution_count": null,
      "outputs": [
        {
          "output_type": "execute_result",
          "data": {
            "text/plain": [
              "       adult      budget      id    imdb_id original_language  \\\n",
              "0      False  30000000.0     862  tt0114709                en   \n",
              "1      False  65000000.0    8844  tt0113497                en   \n",
              "2      False         0.0   15602  tt0113228                en   \n",
              "3      False  16000000.0   31357  tt0114885                en   \n",
              "4      False         0.0   11862  tt0113041                en   \n",
              "...      ...         ...     ...        ...               ...   \n",
              "45459  False         0.0  222848  tt0112613                en   \n",
              "45460  False         0.0   30840  tt0102797                en   \n",
              "45463  False         0.0   67758  tt0303758                en   \n",
              "45464  False         0.0  227506  tt0008536                en   \n",
              "45465  False         0.0  461257  tt6980792                en   \n",
              "\n",
              "                    original_title  \\\n",
              "0                        toy story   \n",
              "1                          jumanji   \n",
              "2                 grumpier old men   \n",
              "3                waiting to exhale   \n",
              "4      father of the bride part ii   \n",
              "...                            ...   \n",
              "45459              caged heat 3000   \n",
              "45460                   robin hood   \n",
              "45463                     betrayal   \n",
              "45464          satana likuyushchiy   \n",
              "45465                     queerama   \n",
              "\n",
              "                                                overview  popularity  \\\n",
              "0      led by woody, andy's toys live happily in his ...    8.620000   \n",
              "1      when siblings judy and peter discover an encha...    8.620000   \n",
              "2      a family wedding reignites the ancient feud be...    8.620000   \n",
              "3      cheated on, mistreated and stepped on, the wom...    3.859495   \n",
              "4      just when george banks has recovered from his ...    8.387519   \n",
              "...                                                  ...         ...   \n",
              "45459  it's the year 3000 ad. the world's most danger...    0.661558   \n",
              "45460  yet another version of the classic epic, with ...    5.683753   \n",
              "45463  when one of her hits goes wrong, a professiona...    0.903007   \n",
              "45464  in a small town live two brothers, one a minis...    0.003503   \n",
              "45465  50 years after decriminalisation of homosexual...    0.163015   \n",
              "\n",
              "                                    production_countries release_date  ...  \\\n",
              "0      [{'iso_3166_1': 'US', 'name': 'United States o...   1995-10-30  ...   \n",
              "1      [{'iso_3166_1': 'US', 'name': 'United States o...   1995-12-15  ...   \n",
              "2      [{'iso_3166_1': 'US', 'name': 'United States o...   1995-12-22  ...   \n",
              "3      [{'iso_3166_1': 'US', 'name': 'United States o...   1995-12-22  ...   \n",
              "4      [{'iso_3166_1': 'US', 'name': 'United States o...   1995-02-10  ...   \n",
              "...                                                  ...          ...  ...   \n",
              "45459  [{'iso_3166_1': 'US', 'name': 'United States o...   1995-01-01  ...   \n",
              "45460  [{'iso_3166_1': 'CA', 'name': 'Canada'}, {'iso...   1991-05-13  ...   \n",
              "45463  [{'iso_3166_1': 'US', 'name': 'United States o...   2003-08-01  ...   \n",
              "45464           [{'iso_3166_1': 'RU', 'name': 'Russia'}]   1917-10-21  ...   \n",
              "45465   [{'iso_3166_1': 'GB', 'name': 'United Kingdom'}]   2017-06-09  ...   \n",
              "\n",
              "       History  Mystery Foreign TV Movie Drama  Documentary  homePagePresent  \\\n",
              "0          0.0      0.0     0.0      0.0   0.0          0.0                1   \n",
              "1          0.0      0.0     0.0      0.0   0.0          0.0                0   \n",
              "2          0.0      0.0     0.0      0.0   0.0          0.0                0   \n",
              "3          0.0      0.0     0.0      0.0   1.0          0.0                0   \n",
              "4          0.0      0.0     0.0      0.0   0.0          0.0                0   \n",
              "...        ...      ...     ...      ...   ...          ...              ...   \n",
              "45459      0.0      0.0     0.0      0.0   1.0          0.0                0   \n",
              "45460      0.0      0.0     0.0      0.0   1.0          0.0                0   \n",
              "45463      NaN      NaN     NaN      NaN   NaN          NaN                0   \n",
              "45464      NaN      NaN     NaN      NaN   NaN          NaN                0   \n",
              "45465      NaN      NaN     NaN      NaN   NaN          NaN                0   \n",
              "\n",
              "                                    Producer1            Producer2  \\\n",
              "0                     pixar animation studios          no producer   \n",
              "1                            tristar pictures         teitler film   \n",
              "2                                warner bros.       lancaster gate   \n",
              "3      twentieth century fox film corporation          no producer   \n",
              "4                       sandollar productions  touchstone pictures   \n",
              "...                                       ...                  ...   \n",
              "45459                   concorde-new horizons          no producer   \n",
              "45460            westdeutscher rundfunk (wdr)  working title films   \n",
              "45463                 american world pictures          no producer   \n",
              "45464                               yermoliev          no producer   \n",
              "45465                             no producer          no producer   \n",
              "\n",
              "       TotalLanguages  \n",
              "0                   1  \n",
              "1                   2  \n",
              "2                   1  \n",
              "3                   1  \n",
              "4                   1  \n",
              "...               ...  \n",
              "45459               1  \n",
              "45460               1  \n",
              "45463               1  \n",
              "45464               0  \n",
              "45465               1  \n",
              "\n",
              "[44895 rows x 42 columns]"
            ],
            "text/html": [
              "\n",
              "  <div id=\"df-49fb0935-0a5c-4478-bbbb-cfe3ca4c4c23\">\n",
              "    <div class=\"colab-df-container\">\n",
              "      <div>\n",
              "<style scoped>\n",
              "    .dataframe tbody tr th:only-of-type {\n",
              "        vertical-align: middle;\n",
              "    }\n",
              "\n",
              "    .dataframe tbody tr th {\n",
              "        vertical-align: top;\n",
              "    }\n",
              "\n",
              "    .dataframe thead th {\n",
              "        text-align: right;\n",
              "    }\n",
              "</style>\n",
              "<table border=\"1\" class=\"dataframe\">\n",
              "  <thead>\n",
              "    <tr style=\"text-align: right;\">\n",
              "      <th></th>\n",
              "      <th>adult</th>\n",
              "      <th>budget</th>\n",
              "      <th>id</th>\n",
              "      <th>imdb_id</th>\n",
              "      <th>original_language</th>\n",
              "      <th>original_title</th>\n",
              "      <th>overview</th>\n",
              "      <th>popularity</th>\n",
              "      <th>production_countries</th>\n",
              "      <th>release_date</th>\n",
              "      <th>...</th>\n",
              "      <th>History</th>\n",
              "      <th>Mystery</th>\n",
              "      <th>Foreign</th>\n",
              "      <th>TV Movie</th>\n",
              "      <th>Drama</th>\n",
              "      <th>Documentary</th>\n",
              "      <th>homePagePresent</th>\n",
              "      <th>Producer1</th>\n",
              "      <th>Producer2</th>\n",
              "      <th>TotalLanguages</th>\n",
              "    </tr>\n",
              "  </thead>\n",
              "  <tbody>\n",
              "    <tr>\n",
              "      <th>0</th>\n",
              "      <td>False</td>\n",
              "      <td>30000000.0</td>\n",
              "      <td>862</td>\n",
              "      <td>tt0114709</td>\n",
              "      <td>en</td>\n",
              "      <td>toy story</td>\n",
              "      <td>led by woody, andy's toys live happily in his ...</td>\n",
              "      <td>8.620000</td>\n",
              "      <td>[{'iso_3166_1': 'US', 'name': 'United States o...</td>\n",
              "      <td>1995-10-30</td>\n",
              "      <td>...</td>\n",
              "      <td>0.0</td>\n",
              "      <td>0.0</td>\n",
              "      <td>0.0</td>\n",
              "      <td>0.0</td>\n",
              "      <td>0.0</td>\n",
              "      <td>0.0</td>\n",
              "      <td>1</td>\n",
              "      <td>pixar animation studios</td>\n",
              "      <td>no producer</td>\n",
              "      <td>1</td>\n",
              "    </tr>\n",
              "    <tr>\n",
              "      <th>1</th>\n",
              "      <td>False</td>\n",
              "      <td>65000000.0</td>\n",
              "      <td>8844</td>\n",
              "      <td>tt0113497</td>\n",
              "      <td>en</td>\n",
              "      <td>jumanji</td>\n",
              "      <td>when siblings judy and peter discover an encha...</td>\n",
              "      <td>8.620000</td>\n",
              "      <td>[{'iso_3166_1': 'US', 'name': 'United States o...</td>\n",
              "      <td>1995-12-15</td>\n",
              "      <td>...</td>\n",
              "      <td>0.0</td>\n",
              "      <td>0.0</td>\n",
              "      <td>0.0</td>\n",
              "      <td>0.0</td>\n",
              "      <td>0.0</td>\n",
              "      <td>0.0</td>\n",
              "      <td>0</td>\n",
              "      <td>tristar pictures</td>\n",
              "      <td>teitler film</td>\n",
              "      <td>2</td>\n",
              "    </tr>\n",
              "    <tr>\n",
              "      <th>2</th>\n",
              "      <td>False</td>\n",
              "      <td>0.0</td>\n",
              "      <td>15602</td>\n",
              "      <td>tt0113228</td>\n",
              "      <td>en</td>\n",
              "      <td>grumpier old men</td>\n",
              "      <td>a family wedding reignites the ancient feud be...</td>\n",
              "      <td>8.620000</td>\n",
              "      <td>[{'iso_3166_1': 'US', 'name': 'United States o...</td>\n",
              "      <td>1995-12-22</td>\n",
              "      <td>...</td>\n",
              "      <td>0.0</td>\n",
              "      <td>0.0</td>\n",
              "      <td>0.0</td>\n",
              "      <td>0.0</td>\n",
              "      <td>0.0</td>\n",
              "      <td>0.0</td>\n",
              "      <td>0</td>\n",
              "      <td>warner bros.</td>\n",
              "      <td>lancaster gate</td>\n",
              "      <td>1</td>\n",
              "    </tr>\n",
              "    <tr>\n",
              "      <th>3</th>\n",
              "      <td>False</td>\n",
              "      <td>16000000.0</td>\n",
              "      <td>31357</td>\n",
              "      <td>tt0114885</td>\n",
              "      <td>en</td>\n",
              "      <td>waiting to exhale</td>\n",
              "      <td>cheated on, mistreated and stepped on, the wom...</td>\n",
              "      <td>3.859495</td>\n",
              "      <td>[{'iso_3166_1': 'US', 'name': 'United States o...</td>\n",
              "      <td>1995-12-22</td>\n",
              "      <td>...</td>\n",
              "      <td>0.0</td>\n",
              "      <td>0.0</td>\n",
              "      <td>0.0</td>\n",
              "      <td>0.0</td>\n",
              "      <td>1.0</td>\n",
              "      <td>0.0</td>\n",
              "      <td>0</td>\n",
              "      <td>twentieth century fox film corporation</td>\n",
              "      <td>no producer</td>\n",
              "      <td>1</td>\n",
              "    </tr>\n",
              "    <tr>\n",
              "      <th>4</th>\n",
              "      <td>False</td>\n",
              "      <td>0.0</td>\n",
              "      <td>11862</td>\n",
              "      <td>tt0113041</td>\n",
              "      <td>en</td>\n",
              "      <td>father of the bride part ii</td>\n",
              "      <td>just when george banks has recovered from his ...</td>\n",
              "      <td>8.387519</td>\n",
              "      <td>[{'iso_3166_1': 'US', 'name': 'United States o...</td>\n",
              "      <td>1995-02-10</td>\n",
              "      <td>...</td>\n",
              "      <td>0.0</td>\n",
              "      <td>0.0</td>\n",
              "      <td>0.0</td>\n",
              "      <td>0.0</td>\n",
              "      <td>0.0</td>\n",
              "      <td>0.0</td>\n",
              "      <td>0</td>\n",
              "      <td>sandollar productions</td>\n",
              "      <td>touchstone pictures</td>\n",
              "      <td>1</td>\n",
              "    </tr>\n",
              "    <tr>\n",
              "      <th>...</th>\n",
              "      <td>...</td>\n",
              "      <td>...</td>\n",
              "      <td>...</td>\n",
              "      <td>...</td>\n",
              "      <td>...</td>\n",
              "      <td>...</td>\n",
              "      <td>...</td>\n",
              "      <td>...</td>\n",
              "      <td>...</td>\n",
              "      <td>...</td>\n",
              "      <td>...</td>\n",
              "      <td>...</td>\n",
              "      <td>...</td>\n",
              "      <td>...</td>\n",
              "      <td>...</td>\n",
              "      <td>...</td>\n",
              "      <td>...</td>\n",
              "      <td>...</td>\n",
              "      <td>...</td>\n",
              "      <td>...</td>\n",
              "      <td>...</td>\n",
              "    </tr>\n",
              "    <tr>\n",
              "      <th>45459</th>\n",
              "      <td>False</td>\n",
              "      <td>0.0</td>\n",
              "      <td>222848</td>\n",
              "      <td>tt0112613</td>\n",
              "      <td>en</td>\n",
              "      <td>caged heat 3000</td>\n",
              "      <td>it's the year 3000 ad. the world's most danger...</td>\n",
              "      <td>0.661558</td>\n",
              "      <td>[{'iso_3166_1': 'US', 'name': 'United States o...</td>\n",
              "      <td>1995-01-01</td>\n",
              "      <td>...</td>\n",
              "      <td>0.0</td>\n",
              "      <td>0.0</td>\n",
              "      <td>0.0</td>\n",
              "      <td>0.0</td>\n",
              "      <td>1.0</td>\n",
              "      <td>0.0</td>\n",
              "      <td>0</td>\n",
              "      <td>concorde-new horizons</td>\n",
              "      <td>no producer</td>\n",
              "      <td>1</td>\n",
              "    </tr>\n",
              "    <tr>\n",
              "      <th>45460</th>\n",
              "      <td>False</td>\n",
              "      <td>0.0</td>\n",
              "      <td>30840</td>\n",
              "      <td>tt0102797</td>\n",
              "      <td>en</td>\n",
              "      <td>robin hood</td>\n",
              "      <td>yet another version of the classic epic, with ...</td>\n",
              "      <td>5.683753</td>\n",
              "      <td>[{'iso_3166_1': 'CA', 'name': 'Canada'}, {'iso...</td>\n",
              "      <td>1991-05-13</td>\n",
              "      <td>...</td>\n",
              "      <td>0.0</td>\n",
              "      <td>0.0</td>\n",
              "      <td>0.0</td>\n",
              "      <td>0.0</td>\n",
              "      <td>1.0</td>\n",
              "      <td>0.0</td>\n",
              "      <td>0</td>\n",
              "      <td>westdeutscher rundfunk (wdr)</td>\n",
              "      <td>working title films</td>\n",
              "      <td>1</td>\n",
              "    </tr>\n",
              "    <tr>\n",
              "      <th>45463</th>\n",
              "      <td>False</td>\n",
              "      <td>0.0</td>\n",
              "      <td>67758</td>\n",
              "      <td>tt0303758</td>\n",
              "      <td>en</td>\n",
              "      <td>betrayal</td>\n",
              "      <td>when one of her hits goes wrong, a professiona...</td>\n",
              "      <td>0.903007</td>\n",
              "      <td>[{'iso_3166_1': 'US', 'name': 'United States o...</td>\n",
              "      <td>2003-08-01</td>\n",
              "      <td>...</td>\n",
              "      <td>NaN</td>\n",
              "      <td>NaN</td>\n",
              "      <td>NaN</td>\n",
              "      <td>NaN</td>\n",
              "      <td>NaN</td>\n",
              "      <td>NaN</td>\n",
              "      <td>0</td>\n",
              "      <td>american world pictures</td>\n",
              "      <td>no producer</td>\n",
              "      <td>1</td>\n",
              "    </tr>\n",
              "    <tr>\n",
              "      <th>45464</th>\n",
              "      <td>False</td>\n",
              "      <td>0.0</td>\n",
              "      <td>227506</td>\n",
              "      <td>tt0008536</td>\n",
              "      <td>en</td>\n",
              "      <td>satana likuyushchiy</td>\n",
              "      <td>in a small town live two brothers, one a minis...</td>\n",
              "      <td>0.003503</td>\n",
              "      <td>[{'iso_3166_1': 'RU', 'name': 'Russia'}]</td>\n",
              "      <td>1917-10-21</td>\n",
              "      <td>...</td>\n",
              "      <td>NaN</td>\n",
              "      <td>NaN</td>\n",
              "      <td>NaN</td>\n",
              "      <td>NaN</td>\n",
              "      <td>NaN</td>\n",
              "      <td>NaN</td>\n",
              "      <td>0</td>\n",
              "      <td>yermoliev</td>\n",
              "      <td>no producer</td>\n",
              "      <td>0</td>\n",
              "    </tr>\n",
              "    <tr>\n",
              "      <th>45465</th>\n",
              "      <td>False</td>\n",
              "      <td>0.0</td>\n",
              "      <td>461257</td>\n",
              "      <td>tt6980792</td>\n",
              "      <td>en</td>\n",
              "      <td>queerama</td>\n",
              "      <td>50 years after decriminalisation of homosexual...</td>\n",
              "      <td>0.163015</td>\n",
              "      <td>[{'iso_3166_1': 'GB', 'name': 'United Kingdom'}]</td>\n",
              "      <td>2017-06-09</td>\n",
              "      <td>...</td>\n",
              "      <td>NaN</td>\n",
              "      <td>NaN</td>\n",
              "      <td>NaN</td>\n",
              "      <td>NaN</td>\n",
              "      <td>NaN</td>\n",
              "      <td>NaN</td>\n",
              "      <td>0</td>\n",
              "      <td>no producer</td>\n",
              "      <td>no producer</td>\n",
              "      <td>1</td>\n",
              "    </tr>\n",
              "  </tbody>\n",
              "</table>\n",
              "<p>44895 rows × 42 columns</p>\n",
              "</div>\n",
              "      <button class=\"colab-df-convert\" onclick=\"convertToInteractive('df-49fb0935-0a5c-4478-bbbb-cfe3ca4c4c23')\"\n",
              "              title=\"Convert this dataframe to an interactive table.\"\n",
              "              style=\"display:none;\">\n",
              "        \n",
              "  <svg xmlns=\"http://www.w3.org/2000/svg\" height=\"24px\"viewBox=\"0 0 24 24\"\n",
              "       width=\"24px\">\n",
              "    <path d=\"M0 0h24v24H0V0z\" fill=\"none\"/>\n",
              "    <path d=\"M18.56 5.44l.94 2.06.94-2.06 2.06-.94-2.06-.94-.94-2.06-.94 2.06-2.06.94zm-11 1L8.5 8.5l.94-2.06 2.06-.94-2.06-.94L8.5 2.5l-.94 2.06-2.06.94zm10 10l.94 2.06.94-2.06 2.06-.94-2.06-.94-.94-2.06-.94 2.06-2.06.94z\"/><path d=\"M17.41 7.96l-1.37-1.37c-.4-.4-.92-.59-1.43-.59-.52 0-1.04.2-1.43.59L10.3 9.45l-7.72 7.72c-.78.78-.78 2.05 0 2.83L4 21.41c.39.39.9.59 1.41.59.51 0 1.02-.2 1.41-.59l7.78-7.78 2.81-2.81c.8-.78.8-2.07 0-2.86zM5.41 20L4 18.59l7.72-7.72 1.47 1.35L5.41 20z\"/>\n",
              "  </svg>\n",
              "      </button>\n",
              "      \n",
              "  <style>\n",
              "    .colab-df-container {\n",
              "      display:flex;\n",
              "      flex-wrap:wrap;\n",
              "      gap: 12px;\n",
              "    }\n",
              "\n",
              "    .colab-df-convert {\n",
              "      background-color: #E8F0FE;\n",
              "      border: none;\n",
              "      border-radius: 50%;\n",
              "      cursor: pointer;\n",
              "      display: none;\n",
              "      fill: #1967D2;\n",
              "      height: 32px;\n",
              "      padding: 0 0 0 0;\n",
              "      width: 32px;\n",
              "    }\n",
              "\n",
              "    .colab-df-convert:hover {\n",
              "      background-color: #E2EBFA;\n",
              "      box-shadow: 0px 1px 2px rgba(60, 64, 67, 0.3), 0px 1px 3px 1px rgba(60, 64, 67, 0.15);\n",
              "      fill: #174EA6;\n",
              "    }\n",
              "\n",
              "    [theme=dark] .colab-df-convert {\n",
              "      background-color: #3B4455;\n",
              "      fill: #D2E3FC;\n",
              "    }\n",
              "\n",
              "    [theme=dark] .colab-df-convert:hover {\n",
              "      background-color: #434B5C;\n",
              "      box-shadow: 0px 1px 3px 1px rgba(0, 0, 0, 0.15);\n",
              "      filter: drop-shadow(0px 1px 2px rgba(0, 0, 0, 0.3));\n",
              "      fill: #FFFFFF;\n",
              "    }\n",
              "  </style>\n",
              "\n",
              "      <script>\n",
              "        const buttonEl =\n",
              "          document.querySelector('#df-49fb0935-0a5c-4478-bbbb-cfe3ca4c4c23 button.colab-df-convert');\n",
              "        buttonEl.style.display =\n",
              "          google.colab.kernel.accessAllowed ? 'block' : 'none';\n",
              "\n",
              "        async function convertToInteractive(key) {\n",
              "          const element = document.querySelector('#df-49fb0935-0a5c-4478-bbbb-cfe3ca4c4c23');\n",
              "          const dataTable =\n",
              "            await google.colab.kernel.invokeFunction('convertToInteractive',\n",
              "                                                     [key], {});\n",
              "          if (!dataTable) return;\n",
              "\n",
              "          const docLinkHtml = 'Like what you see? Visit the ' +\n",
              "            '<a target=\"_blank\" href=https://colab.research.google.com/notebooks/data_table.ipynb>data table notebook</a>'\n",
              "            + ' to learn more about interactive tables.';\n",
              "          element.innerHTML = '';\n",
              "          dataTable['output_type'] = 'display_data';\n",
              "          await google.colab.output.renderOutput(dataTable, element);\n",
              "          const docLink = document.createElement('div');\n",
              "          docLink.innerHTML = docLinkHtml;\n",
              "          element.appendChild(docLink);\n",
              "        }\n",
              "      </script>\n",
              "    </div>\n",
              "  </div>\n",
              "  "
            ]
          },
          "metadata": {},
          "execution_count": 140
        }
      ]
    },
    {
      "cell_type": "markdown",
      "metadata": {
        "id": "FK5xgH0haW4w"
      },
      "source": [
        "# Status"
      ]
    },
    {
      "cell_type": "code",
      "source": [
        "data.status.values[0]"
      ],
      "metadata": {
        "colab": {
          "base_uri": "https://localhost:8080/",
          "height": 35
        },
        "id": "wPSpiIw2QzK3",
        "outputId": "b7597fdd-36df-4c97-afce-a70c7074e35a"
      },
      "execution_count": null,
      "outputs": [
        {
          "output_type": "execute_result",
          "data": {
            "text/plain": [
              "'Released'"
            ],
            "application/vnd.google.colaboratory.intrinsic+json": {
              "type": "string"
            }
          },
          "metadata": {},
          "execution_count": 133
        }
      ]
    },
    {
      "cell_type": "code",
      "metadata": {
        "colab": {
          "base_uri": "https://localhost:8080/"
        },
        "id": "BAV1FpViaaTt",
        "outputId": "b3c237d5-900a-484a-898a-a8f9622bc451"
      },
      "source": [
        "data.status.value_counts()"
      ],
      "execution_count": null,
      "outputs": [
        {
          "output_type": "execute_result",
          "data": {
            "text/plain": [
              "Released           44896\n",
              "Rumored              227\n",
              "Post Production       97\n",
              "In Production         19\n",
              "Planned               13\n",
              "Canceled               1\n",
              "Name: status, dtype: int64"
            ]
          },
          "metadata": {},
          "execution_count": 134
        }
      ]
    },
    {
      "cell_type": "code",
      "source": [
        "data.status = data.status.fillna('Released')"
      ],
      "metadata": {
        "id": "XJypRahL7in5"
      },
      "execution_count": null,
      "outputs": []
    },
    {
      "cell_type": "code",
      "source": [
        "data.status.isnull().sum()"
      ],
      "metadata": {
        "colab": {
          "base_uri": "https://localhost:8080/"
        },
        "id": "KJdwtycj7Zth",
        "outputId": "0ed04e01-a284-4f57-ad34-ba2f2d78fef5"
      },
      "execution_count": null,
      "outputs": [
        {
          "output_type": "execute_result",
          "data": {
            "text/plain": [
              "0"
            ]
          },
          "metadata": {},
          "execution_count": 136
        }
      ]
    },
    {
      "cell_type": "code",
      "metadata": {
        "colab": {
          "base_uri": "https://localhost:8080/"
        },
        "id": "qAIX6zVkt_nN",
        "outputId": "007c20cc-b955-45fd-bc77-7d30847b053b"
      },
      "source": [
        "data.columns"
      ],
      "execution_count": null,
      "outputs": [
        {
          "output_type": "execute_result",
          "data": {
            "text/plain": [
              "Index(['adult', 'budget', 'id', 'imdb_id', 'original_language',\n",
              "       'original_title', 'overview', 'popularity', 'production_countries',\n",
              "       'release_date', 'revenue', 'runtime', 'status', 'tagline', 'video',\n",
              "       'vote_average', 'vote_count', 'collectionName', 'Horror', 'Family',\n",
              "       'Documentary', 'Western', 'TV Movie', 'Adventure', 'Comedy', 'Crime',\n",
              "       'Science Fiction', 'Animation', 'War', 'Music', 'Action', 'Mystery',\n",
              "       'History', 'Drama', 'Thriller', 'Fantasy', 'Romance', 'Foreign',\n",
              "       'homePagePresent', 'Producer1', 'Producer2', 'TotalLanguages'],\n",
              "      dtype='object')"
            ]
          },
          "metadata": {},
          "execution_count": 137
        }
      ]
    },
    {
      "cell_type": "markdown",
      "metadata": {
        "id": "Rp1Pwr6Bam30"
      },
      "source": [
        "# Others"
      ]
    },
    {
      "cell_type": "code",
      "metadata": {
        "id": "AqhO5aqEkrBw"
      },
      "source": [
        "data = data.drop(columns = ['tagline','video'])"
      ],
      "execution_count": null,
      "outputs": []
    },
    {
      "cell_type": "code",
      "source": [
        "data.columns"
      ],
      "metadata": {
        "id": "BCMJPWdKSiIX",
        "colab": {
          "base_uri": "https://localhost:8080/"
        },
        "outputId": "14853443-d57c-460e-c16f-7e3b97a99848"
      },
      "execution_count": null,
      "outputs": [
        {
          "output_type": "execute_result",
          "data": {
            "text/plain": [
              "Index(['adult', 'budget', 'id', 'imdb_id', 'original_language',\n",
              "       'original_title', 'overview', 'popularity', 'production_countries',\n",
              "       'release_date', 'revenue', 'runtime', 'status', 'vote_average',\n",
              "       'vote_count', 'collectionName', 'Horror', 'Family', 'Documentary',\n",
              "       'Western', 'TV Movie', 'Adventure', 'Comedy', 'Crime',\n",
              "       'Science Fiction', 'Animation', 'War', 'Music', 'Action', 'Mystery',\n",
              "       'History', 'Drama', 'Thriller', 'Fantasy', 'Romance', 'Foreign',\n",
              "       'homePagePresent', 'Producer1', 'Producer2', 'TotalLanguages'],\n",
              "      dtype='object')"
            ]
          },
          "metadata": {},
          "execution_count": 139
        }
      ]
    },
    {
      "cell_type": "markdown",
      "metadata": {
        "id": "StnU3DSsboW2"
      },
      "source": [
        "# Final Data"
      ]
    },
    {
      "cell_type": "code",
      "metadata": {
        "id": "eSJKdaJ5bp-D"
      },
      "source": [
        "data = data.dropna()"
      ],
      "execution_count": null,
      "outputs": []
    },
    {
      "cell_type": "code",
      "metadata": {
        "colab": {
          "base_uri": "https://localhost:8080/"
        },
        "id": "1-nQ8sbnb2DX",
        "outputId": "51245ecd-5993-4583-8789-b5415790fedd"
      },
      "source": [
        "data.shape"
      ],
      "execution_count": null,
      "outputs": [
        {
          "output_type": "execute_result",
          "data": {
            "text/plain": [
              "(45085, 40)"
            ]
          },
          "metadata": {},
          "execution_count": 141
        }
      ]
    },
    {
      "cell_type": "code",
      "metadata": {
        "colab": {
          "base_uri": "https://localhost:8080/"
        },
        "id": "JkTNMx4M_Y2I",
        "outputId": "eacdd1bb-e5d0-408d-c435-6537f64c44a7"
      },
      "source": [
        "dataBudgetRevenue  = data.loc[(data.budget != 0) & (data.revenue != 0),:]\n",
        "dataBudgetRevenue.shape"
      ],
      "execution_count": null,
      "outputs": [
        {
          "output_type": "execute_result",
          "data": {
            "text/plain": [
              "(5374, 40)"
            ]
          },
          "metadata": {},
          "execution_count": 142
        }
      ]
    },
    {
      "cell_type": "markdown",
      "metadata": {
        "id": "n-Gro5KQAE0-"
      },
      "source": []
    },
    {
      "cell_type": "code",
      "metadata": {
        "colab": {
          "base_uri": "https://localhost:8080/"
        },
        "id": "ty3f9pWjAEKk",
        "outputId": "44993e70-1c3d-46ae-82dd-b37fa629b044"
      },
      "source": [
        "# dataBudgetRevenue.to_csv('finalCleanedData.csv')\n",
        "# dataBudgetRevenue.columns\n",
        "dataBudgetRevenue['profit'] = (dataBudgetRevenue.revenue - dataBudgetRevenue.budget)/dataBudgetRevenue.budget\n",
        "#dataBudgetRevenue['profit'].describe()\n",
        "dataBudgetRevenue['profit'] = dataBudgetRevenue['profit'].clip(-1,10)"
      ],
      "execution_count": null,
      "outputs": [
        {
          "output_type": "stream",
          "name": "stderr",
          "text": [
            "<ipython-input-143-f04616813c87>:3: SettingWithCopyWarning: \n",
            "A value is trying to be set on a copy of a slice from a DataFrame.\n",
            "Try using .loc[row_indexer,col_indexer] = value instead\n",
            "\n",
            "See the caveats in the documentation: https://pandas.pydata.org/pandas-docs/stable/user_guide/indexing.html#returning-a-view-versus-a-copy\n",
            "  dataBudgetRevenue['profit'] = (dataBudgetRevenue.revenue - dataBudgetRevenue.budget)/dataBudgetRevenue.budget\n",
            "<ipython-input-143-f04616813c87>:5: SettingWithCopyWarning: \n",
            "A value is trying to be set on a copy of a slice from a DataFrame.\n",
            "Try using .loc[row_indexer,col_indexer] = value instead\n",
            "\n",
            "See the caveats in the documentation: https://pandas.pydata.org/pandas-docs/stable/user_guide/indexing.html#returning-a-view-versus-a-copy\n",
            "  dataBudgetRevenue['profit'] = dataBudgetRevenue['profit'].clip(-1,10)\n"
          ]
        }
      ]
    },
    {
      "cell_type": "code",
      "metadata": {
        "id": "oxeVLJpElmys"
      },
      "source": [
        "dataBudgetRevenue.to_csv('finalCleanedData.csv')"
      ],
      "execution_count": null,
      "outputs": []
    },
    {
      "cell_type": "markdown",
      "metadata": {
        "id": "wjOX4SZIAU2P"
      },
      "source": [
        "1. Profit = (Revenue - Budget)/Budget\n",
        "2. Do the movies that have high vote_avergae make lot of profits ?\n",
        "3. What genres make the most money?\n",
        "4. Which producers generally do well?\n",
        "5. Is there a bias with producers in terms of genres that they do - Do specific producer only produce specific genre movies?\n",
        "6. Will a longer run time bring higher profits?\n",
        "7. Does the presence of a homepage indicate higher profits\n",
        "8. Which languages rakes in high profit\n",
        "9. Over a period of time, how have the profitability changed - Over the period of time, which genre of movies have grossed well ?\n",
        "10. If the movie speaks multiple languages, is the profit % higher?\n",
        "11. On which day (Sun/Mon/Tue), if i release a movie, I will get high profits ?\n",
        "12. Which release months brings high profits ?\n",
        "13. Which is the most profitable and least collection of movies ?"
      ]
    },
    {
      "cell_type": "code",
      "source": [
        "averageProfitForBin = [dataBudgetRevenue.loc[(dataBudgetRevenue.vote_average < (i)) & (dataBudgetRevenue.vote_average > (i-1)),'profit'].median() for i in range(1,11)]"
      ],
      "metadata": {
        "id": "cUpBjy7ZYopb"
      },
      "execution_count": null,
      "outputs": []
    },
    {
      "cell_type": "code",
      "source": [
        "averageProfitForBin"
      ],
      "metadata": {
        "colab": {
          "base_uri": "https://localhost:8080/"
        },
        "id": "3M_n1h9FaxSB",
        "outputId": "7611aefc-d7c6-43f1-a0dd-ce56ddbff3ff"
      },
      "execution_count": null,
      "outputs": [
        {
          "output_type": "execute_result",
          "data": {
            "text/plain": [
              "[nan,\n",
              " -0.9488571428571428,\n",
              " -0.7817333333333333,\n",
              " -0.21775732535885167,\n",
              " -0.025240897499999998,\n",
              " 0.48787878787878786,\n",
              " 1.149760683068783,\n",
              " 2.55925,\n",
              " 4.430045643243243,\n",
              " 6.575757575757576]"
            ]
          },
          "metadata": {},
          "execution_count": 163
        }
      ]
    },
    {
      "cell_type": "code",
      "source": [
        "import matplotlib.pyplot as plt\n",
        "plt.scatter(x = [1,2,3,4,5,6,7,8,9,10], y = averageProfitForBin)\n",
        "plt.xlabel('Vote Average')\n",
        "plt.ylabel('Average Profit')\n",
        "plt.title('Vote vs Profit')"
      ],
      "metadata": {
        "colab": {
          "base_uri": "https://localhost:8080/",
          "height": 314
        },
        "id": "2cxM477AbBLj",
        "outputId": "c78fcde1-3a97-4b3c-a923-3e037e724fbc"
      },
      "execution_count": null,
      "outputs": [
        {
          "output_type": "execute_result",
          "data": {
            "text/plain": [
              "Text(0.5, 1.0, 'Vote vs Profit')"
            ]
          },
          "metadata": {},
          "execution_count": 165
        },
        {
          "output_type": "display_data",
          "data": {
            "text/plain": [
              "<Figure size 432x288 with 1 Axes>"
            ],
            "image/png": "[encoded data removed]"
          },
          "metadata": {
            "needs_background": "light"
          }
        }
      ]
    },
    {
      "cell_type": "code",
      "source": [
        "dataBudgetRevenue.profit"
      ],
      "metadata": {
        "colab": {
          "base_uri": "https://localhost:8080/",
          "height": 299
        },
        "id": "6CyvKxE4YxU_",
        "outputId": "dd9f33f7-41f9-4280-982c-29f91c52043e"
      },
      "execution_count": null,
      "outputs": [
        {
          "output_type": "error",
          "ename": "AttributeError",
          "evalue": "ignored",
          "traceback": [
            "\u001b[0;31m---------------------------------------------------------------------------\u001b[0m",
            "\u001b[0;31mAttributeError\u001b[0m                            Traceback (most recent call last)",
            "\u001b[0;32m<ipython-input-153-e4817306e1ec>\u001b[0m in \u001b[0;36m<module>\u001b[0;34m()\u001b[0m\n\u001b[0;32m----> 1\u001b[0;31m \u001b[0mdataBudgetRevenue\u001b[0m\u001b[0;34m.\u001b[0m\u001b[0mprofit\u001b[0m\u001b[0;34m\u001b[0m\u001b[0;34m\u001b[0m\u001b[0m\n\u001b[0m",
            "\u001b[0;32m/usr/local/lib/python3.7/dist-packages/pandas/core/generic.py\u001b[0m in \u001b[0;36m__getattr__\u001b[0;34m(self, name)\u001b[0m\n\u001b[1;32m   5485\u001b[0m         ):\n\u001b[1;32m   5486\u001b[0m             \u001b[0;32mreturn\u001b[0m \u001b[0mself\u001b[0m\u001b[0;34m[\u001b[0m\u001b[0mname\u001b[0m\u001b[0;34m]\u001b[0m\u001b[0;34m\u001b[0m\u001b[0;34m\u001b[0m\u001b[0m\n\u001b[0;32m-> 5487\u001b[0;31m         \u001b[0;32mreturn\u001b[0m \u001b[0mobject\u001b[0m\u001b[0;34m.\u001b[0m\u001b[0m__getattribute__\u001b[0m\u001b[0;34m(\u001b[0m\u001b[0mself\u001b[0m\u001b[0;34m,\u001b[0m \u001b[0mname\u001b[0m\u001b[0;34m)\u001b[0m\u001b[0;34m\u001b[0m\u001b[0;34m\u001b[0m\u001b[0m\n\u001b[0m\u001b[1;32m   5488\u001b[0m \u001b[0;34m\u001b[0m\u001b[0m\n\u001b[1;32m   5489\u001b[0m     \u001b[0;32mdef\u001b[0m \u001b[0m__setattr__\u001b[0m\u001b[0;34m(\u001b[0m\u001b[0mself\u001b[0m\u001b[0;34m,\u001b[0m \u001b[0mname\u001b[0m\u001b[0;34m:\u001b[0m \u001b[0mstr\u001b[0m\u001b[0;34m,\u001b[0m \u001b[0mvalue\u001b[0m\u001b[0;34m)\u001b[0m \u001b[0;34m->\u001b[0m \u001b[0;32mNone\u001b[0m\u001b[0;34m:\u001b[0m\u001b[0;34m\u001b[0m\u001b[0;34m\u001b[0m\u001b[0m\n",
            "\u001b[0;31mAttributeError\u001b[0m: 'DataFrame' object has no attribute 'profit'"
          ]
        }
      ]
    }
  ]
}